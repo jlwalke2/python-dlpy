{
 "cells": [
  {
   "cell_type": "markdown",
   "metadata": {},
   "source": [
    "# Image Embedding Table API Example"
   ]
  },
  {
   "cell_type": "markdown",
   "metadata": {},
   "source": [
    "### Table of Contents\n",
    "* [Overview](#Overview)\n",
    "* [Set the Environment](#Environment)\n",
    "* [Generate ImageEmbeddingTable for Siamese Network](#Siamese)\n",
    "* [Generate ImageEmbeddingTable for Triplet Network](#Triplet)\n",
    "* [Generate ImageEmbeddingTable for Quartet Network](#Quartet)"
   ]
  },
  {
   "cell_type": "markdown",
   "metadata": {},
   "source": [
    "## Overview <a id=\"Overview\"></a>"
   ]
  },
  {
   "cell_type": "markdown",
   "metadata": {},
   "source": [
    "This example illustrates the use of the ImageEmbeddingTable API. Using the API, we create tables for training Siamese Networks, Triplet Networks, and Quartet Networks. Each example uses a directory of dog images separated by dog breed. ImageEmbeddingTables are a convenient way to create data sets for use by Siamese, Triplet, and Quartet Networks. They are similar to ImageTables, except for the number of images (and associated image data, like label) that each observation contains. \n",
    "\n",
    "An observation in a Siamese network consists of two images and an indicator that is 1 if the images are dissimilar and 0 if they are similar. An observation for a Triplet network consists of three images: an anchor, a positive image (same class), and a negative image (different class). An observation for a Quartet network consists of 4 images: an anchor, a positive image, and two negative images."
   ]
  },
  {
   "cell_type": "markdown",
   "metadata": {},
   "source": [
    "Our data is stored in a path accessible by the CAS server. The data is structured in a directory as follows:\n",
    "    \n",
    "../data <br/>\n",
    "  |--german_shepherd <br/>\n",
    "  |  |--image1 <br/>\n",
    "  |  |--image2 <br/>\n",
    "  |  |--etc.. <br/>\n",
    "  |--golden_retriever <br/>\n",
    "  |  |--image1 <br/>\n",
    "  |  |--image2 <br/>\n",
    "  |  |--etc.. <br/>\n",
    "  |--labrador_retriever <br/>\n",
    "  |  |--image1 <br/>\n",
    "  |  |--image2 <br/>\n",
    "  |  |--etc.. <br/>\n",
    "  |--etc.. <br/>\n",
    "    \n",
    "Note: Image data can only be loaded from the server. Client-side loads of image data are unsupported."
   ]
  },
  {
   "cell_type": "markdown",
   "metadata": {},
   "source": [
    "## Set the Environment <a id=\"Environment\"></a>\n",
    "First, set notebook environement by doing the following:\n",
    "1. Import relevant modules\n",
    "2. Use matplotlib inline magic so plots render correctly\n",
    "3. Start a CAS session\n",
    "4. Load image, deepLearn, datastep action sets to the CAS session\n",
    "\n",
    "**Remember:** Change _host_name_ and _port_number_ to match your CAS server. You should also have an authinfo (authentication) file set up as well.\n"
   ]
  },
  {
   "cell_type": "code",
   "execution_count": 1,
   "metadata": {
    "ExecuteTime": {
     "end_time": "2019-03-26T01:53:48.005252Z",
     "start_time": "2019-03-26T01:53:30.814683Z"
    }
   },
   "outputs": [],
   "source": [
    "import swat\n",
    "from pprint import pprint\n",
    "\n",
    "%matplotlib inline\n",
    "import matplotlib\n",
    "import numpy as np\n",
    "import matplotlib.pyplot as plt\n",
    "from mpl_toolkits.axes_grid1 import ImageGrid\n"
   ]
  },
  {
   "cell_type": "code",
   "execution_count": 2,
   "metadata": {
    "ExecuteTime": {
     "end_time": "2019-03-26T02:25:11.319894Z",
     "start_time": "2019-03-26T02:25:11.316892Z"
    }
   },
   "outputs": [],
   "source": [
    "import pandas as pd\n",
    "pd.set_option('display.max_rows', 500)\n",
    "pd.set_option('display.max_columns', 500)\n",
    "pd.set_option('display.max_colwidth', 500)\n"
   ]
  },
  {
   "cell_type": "code",
   "execution_count": 3,
   "metadata": {
    "ExecuteTime": {
     "end_time": "2019-03-26T01:54:02.110262Z",
     "start_time": "2019-03-26T01:54:01.936817Z"
    }
   },
   "outputs": [],
   "source": [
    "from dlpy.layers import * \n",
    "from dlpy.applications import *\n",
    "from dlpy import Model, Sequential\n",
    "from dlpy.utils import *\n",
    "from dlpy.splitting import two_way_split\n",
    "from dlpy.lr_scheduler import *\n",
    "from dlpy.images import *\n",
    "from dlpy.image_embedding import *"
   ]
  },
  {
   "cell_type": "code",
   "execution_count": 4,
   "metadata": {
    "ExecuteTime": {
     "end_time": "2019-03-26T02:06:40.868514Z",
     "start_time": "2019-03-26T02:06:38.104211Z"
    }
   },
   "outputs": [
    {
     "name": "stdout",
     "output_type": "stream",
     "text": [
      "NOTE: 'CASUSER(user)' is now the active caslib.\n",
      "NOTE: Added action set 'image'.\n",
      "NOTE: Added action set 'deepLearn'.\n",
      "NOTE: Added action set 'datastep'.\n"
     ]
    },
    {
     "data": {
      "text/html": [
       "<div class=\"cas-results-key\"><b>&#167; actionset</b></div>\n",
       "<div class=\"cas-results-body\">\n",
       "<div>datastep</div>\n",
       "</div>\n",
       "<div class=\"cas-output-area\"></div>\n",
       "<p class=\"cas-results-performance\"><small><span class=\"cas-elapsed\">elapsed 0.000251s</span> &#183; <span class=\"cas-user\">user 0.000224s</span> &#183; <span class=\"cas-memory\">mem 0.203MB</span></small></p>"
      ],
      "text/plain": [
       "[actionset]\n",
       "\n",
       " 'datastep'\n",
       "\n",
       "+ Elapsed: 0.000251s, user: 0.000224s, mem: 0.203mb"
      ]
     },
     "execution_count": 4,
     "metadata": {},
     "output_type": "execute_result"
    }
   ],
   "source": [
    "s = swat.CAS('host_name', port_number)\n",
    "s.loadactionset('image')\n",
    "s.loadactionset('deepLearn')\n",
    "s.loadactionset('datastep')"
   ]
  },
  {
   "cell_type": "markdown",
   "metadata": {},
   "source": [
    "# Generate Image Embedding Table for Siamese Network <a id=\"Siamese\"></a>"
   ]
  },
  {
   "cell_type": "markdown",
   "metadata": {},
   "source": [
    "Now, we will create an ImageEmbeddingTable for a Siamese Network. Essentially, this is an ImageTable that is composed of image pairs and an indicator column that specifies whether the two images are from the same class.\n",
    "\n",
    "Among other things, we need to specify the data and the model type:\n",
    "\n",
    "*  **`s`** is the CAS session we want our model to be built in\n",
    "* **`path`** refers to the ../data directory\n",
    "* **`label_level`** is an integer that specifies what part of the image path will be used as the image's classification label. Since the path to any of our images is of the form ../data/category/image_name, we want to choose **`label_level_ =-2`** so that 'category' is used for that image's label.\n",
    "* **`embedding_model`** determines what type of model to build. Other values are triplet and quartet\n",
    "* **`n_samples`** specifies how many image pairs will be generated\n",
    "* **`resize_width`** and **`resize_height`** resize all image pairs to the specified states\n",
    "\n",
    "**Remember:** Change _server_side_data_path_ to the path where your images reside."
   ]
  },
  {
   "cell_type": "code",
   "execution_count": 5,
   "metadata": {},
   "outputs": [],
   "source": [
    "my_table= ImageEmbeddingTable.load_files(s, path='server_side_data_path', \n",
    "                                         embedding_model_type='siamese', label_level=-2, \n",
    "                                         n_samples=128, resize_width=224, resize_height=224)"
   ]
  },
  {
   "cell_type": "markdown",
   "metadata": {},
   "source": [
    "After creating the embedding table, we will verify:\n",
    "* The number of image pairs\n",
    "* The column names\n",
    "* The channel means of the first image column\n",
    "* The image summary of the first image column"
   ]
  },
  {
   "cell_type": "code",
   "execution_count": 6,
   "metadata": {},
   "outputs": [
    {
     "data": {
      "text/html": [
       "<div class=\"cas-results-key\"><b>&#167; numrows</b></div>\n",
       "<div class=\"cas-results-body\">\n",
       "<div>127</div>\n",
       "</div>\n",
       "<div class=\"cas-output-area\"></div>\n",
       "<p class=\"cas-results-performance\"><small><span class=\"cas-elapsed\">elapsed 0.000211s</span> &#183; <span class=\"cas-user\">user 0.000159s</span> &#183; <span class=\"cas-sys\">sys 4.1e-05s</span> &#183; <span class=\"cas-memory\">mem 0.404MB</span></small></p>"
      ],
      "text/plain": [
       "[numrows]\n",
       "\n",
       " 127\n",
       "\n",
       "+ Elapsed: 0.000211s, user: 0.000159s, sys: 4.1e-05s, mem: 0.404mb"
      ]
     },
     "execution_count": 6,
     "metadata": {},
     "output_type": "execute_result"
    }
   ],
   "source": [
    "my_table.numrows()"
   ]
  },
  {
   "cell_type": "code",
   "execution_count": 7,
   "metadata": {},
   "outputs": [
    {
     "data": {
      "text/plain": [
       "Index(['_id_', '_image_', '_size_', '_path_', '_type_', '_image_1', '_size_1',\n",
       "       '_path_1', '_type_1', '_fName_', '_label_', '_fName_1', '_label_1',\n",
       "       '_dissimilar_'],\n",
       "      dtype='object')"
      ]
     },
     "execution_count": 7,
     "metadata": {},
     "output_type": "execute_result"
    }
   ],
   "source": [
    "my_table.columns"
   ]
  },
  {
   "cell_type": "code",
   "execution_count": 8,
   "metadata": {},
   "outputs": [
    {
     "data": {
      "text/plain": [
       "[112.71680880152255, 126.16849226157001, 132.03964015170533]"
      ]
     },
     "execution_count": 8,
     "metadata": {},
     "output_type": "execute_result"
    }
   ],
   "source": [
    "my_table.channel_means"
   ]
  },
  {
   "cell_type": "code",
   "execution_count": 9,
   "metadata": {},
   "outputs": [
    {
     "data": {
      "text/plain": [
       "jpg                   127\n",
       "minWidth              224\n",
       "maxWidth              224\n",
       "minHeight             224\n",
       "maxHeight             224\n",
       "meanWidth             224\n",
       "meanHeight            224\n",
       "mean1stChannel    112.717\n",
       "min1stChannel           0\n",
       "max1stChannel         255\n",
       "mean2ndChannel    126.168\n",
       "min2ndChannel           0\n",
       "max2ndChannel         255\n",
       "mean3rdChannel     132.04\n",
       "min3rdChannel           0\n",
       "max3rdChannel         255\n",
       "dtype: object"
      ]
     },
     "execution_count": 9,
     "metadata": {},
     "output_type": "execute_result"
    }
   ],
   "source": [
    "my_table.image_summary"
   ]
  },
  {
   "cell_type": "markdown",
   "metadata": {},
   "source": [
    "Label frequency returns label information for the two image columns (label, label1) as well as the labels for generated the label pairs (label_pair) and a table that indicates if the images are dissimilar (1) or similar (0).\n",
    "\n",
    "This information is used as the target to train a Siamese Network Model."
   ]
  },
  {
   "cell_type": "code",
   "execution_count": 10,
   "metadata": {},
   "outputs": [],
   "source": [
    "label, label1, label_pair, dissimilar = my_table.label_freq"
   ]
  },
  {
   "cell_type": "code",
   "execution_count": 11,
   "metadata": {},
   "outputs": [
    {
     "data": {
      "text/html": [
       "<div>\n",
       "<style scoped>\n",
       "    .dataframe tbody tr th:only-of-type {\n",
       "        vertical-align: middle;\n",
       "    }\n",
       "\n",
       "    .dataframe tbody tr th {\n",
       "        vertical-align: top;\n",
       "    }\n",
       "\n",
       "    .dataframe thead th {\n",
       "        text-align: right;\n",
       "    }\n",
       "</style>\n",
       "<table border=\"1\" class=\"dataframe\"><caption>Frequency for IMAGEDATA_3BORQO</caption>\n",
       "  <thead>\n",
       "    <tr style=\"text-align: right;\">\n",
       "      <th title=\"\"></th>\n",
       "      <th title=\"Level\">Level</th>\n",
       "      <th title=\"Frequency\">Frequency</th>\n",
       "    </tr>\n",
       "  </thead>\n",
       "  <tbody>\n",
       "    <tr>\n",
       "      <th>german_shepherd</th>\n",
       "      <td>1</td>\n",
       "      <td>20</td>\n",
       "    </tr>\n",
       "    <tr>\n",
       "      <th>golden_retriever</th>\n",
       "      <td>2</td>\n",
       "      <td>18</td>\n",
       "    </tr>\n",
       "    <tr>\n",
       "      <th>labrador_retriever</th>\n",
       "      <td>3</td>\n",
       "      <td>29</td>\n",
       "    </tr>\n",
       "    <tr>\n",
       "      <th>miniature_poodle</th>\n",
       "      <td>4</td>\n",
       "      <td>27</td>\n",
       "    </tr>\n",
       "    <tr>\n",
       "      <th>soft-coated_wheaten_terrier</th>\n",
       "      <td>5</td>\n",
       "      <td>18</td>\n",
       "    </tr>\n",
       "    <tr>\n",
       "      <th>toy_poodle</th>\n",
       "      <td>6</td>\n",
       "      <td>15</td>\n",
       "    </tr>\n",
       "  </tbody>\n",
       "</table>\n",
       "</div>"
      ],
      "text/plain": [
       "Frequency for IMAGEDATA_3BORQO\n",
       "\n",
       "                             Level  Frequency\n",
       "german_shepherd                  1         20\n",
       "golden_retriever                 2         18\n",
       "labrador_retriever               3         29\n",
       "miniature_poodle                 4         27\n",
       "soft-coated_wheaten_terrier      5         18\n",
       "toy_poodle                       6         15"
      ]
     },
     "execution_count": 11,
     "metadata": {},
     "output_type": "execute_result"
    }
   ],
   "source": [
    "label"
   ]
  },
  {
   "cell_type": "code",
   "execution_count": 12,
   "metadata": {},
   "outputs": [
    {
     "data": {
      "text/html": [
       "<div>\n",
       "<style scoped>\n",
       "    .dataframe tbody tr th:only-of-type {\n",
       "        vertical-align: middle;\n",
       "    }\n",
       "\n",
       "    .dataframe tbody tr th {\n",
       "        vertical-align: top;\n",
       "    }\n",
       "\n",
       "    .dataframe thead th {\n",
       "        text-align: right;\n",
       "    }\n",
       "</style>\n",
       "<table border=\"1\" class=\"dataframe\"><caption>Frequency for IMAGEDATA_3BORQO</caption>\n",
       "  <thead>\n",
       "    <tr style=\"text-align: right;\">\n",
       "      <th title=\"\"></th>\n",
       "      <th title=\"Level\">Level</th>\n",
       "      <th title=\"Frequency\">Frequency</th>\n",
       "    </tr>\n",
       "  </thead>\n",
       "  <tbody>\n",
       "    <tr>\n",
       "      <th>german_shepherd</th>\n",
       "      <td>1</td>\n",
       "      <td>20</td>\n",
       "    </tr>\n",
       "    <tr>\n",
       "      <th>golden_retriever</th>\n",
       "      <td>2</td>\n",
       "      <td>18</td>\n",
       "    </tr>\n",
       "    <tr>\n",
       "      <th>labrador_retriever</th>\n",
       "      <td>3</td>\n",
       "      <td>29</td>\n",
       "    </tr>\n",
       "    <tr>\n",
       "      <th>miniature_poodle</th>\n",
       "      <td>4</td>\n",
       "      <td>27</td>\n",
       "    </tr>\n",
       "    <tr>\n",
       "      <th>soft-coated_wheaten_terrier</th>\n",
       "      <td>5</td>\n",
       "      <td>18</td>\n",
       "    </tr>\n",
       "    <tr>\n",
       "      <th>toy_poodle</th>\n",
       "      <td>6</td>\n",
       "      <td>15</td>\n",
       "    </tr>\n",
       "  </tbody>\n",
       "</table>\n",
       "</div>"
      ],
      "text/plain": [
       "Frequency for IMAGEDATA_3BORQO\n",
       "\n",
       "                             Level  Frequency\n",
       "german_shepherd                  1         20\n",
       "golden_retriever                 2         18\n",
       "labrador_retriever               3         29\n",
       "miniature_poodle                 4         27\n",
       "soft-coated_wheaten_terrier      5         18\n",
       "toy_poodle                       6         15"
      ]
     },
     "execution_count": 12,
     "metadata": {},
     "output_type": "execute_result"
    }
   ],
   "source": [
    "label1"
   ]
  },
  {
   "cell_type": "code",
   "execution_count": 13,
   "metadata": {},
   "outputs": [
    {
     "data": {
      "text/html": [
       "<div>\n",
       "<style scoped>\n",
       "    .dataframe tbody tr th:only-of-type {\n",
       "        vertical-align: middle;\n",
       "    }\n",
       "\n",
       "    .dataframe tbody tr th {\n",
       "        vertical-align: top;\n",
       "    }\n",
       "\n",
       "    .dataframe thead th {\n",
       "        text-align: right;\n",
       "    }\n",
       "</style>\n",
       "<table border=\"1\" class=\"dataframe\"><caption>Frequency for IMAGEDATA_3BORQO</caption>\n",
       "  <thead>\n",
       "    <tr style=\"text-align: right;\">\n",
       "      <th title=\"\"></th>\n",
       "      <th title=\"Level\">Level</th>\n",
       "      <th title=\"Frequency\">Frequency</th>\n",
       "    </tr>\n",
       "  </thead>\n",
       "  <tbody>\n",
       "    <tr>\n",
       "      <th>german_shepherd,german_shepherd</th>\n",
       "      <td>1</td>\n",
       "      <td>3</td>\n",
       "    </tr>\n",
       "    <tr>\n",
       "      <th>german_shepherd,golden_retriever</th>\n",
       "      <td>2</td>\n",
       "      <td>1</td>\n",
       "    </tr>\n",
       "    <tr>\n",
       "      <th>german_shepherd,labrador_retriever</th>\n",
       "      <td>3</td>\n",
       "      <td>4</td>\n",
       "    </tr>\n",
       "    <tr>\n",
       "      <th>german_shepherd,miniature_poodle</th>\n",
       "      <td>4</td>\n",
       "      <td>4</td>\n",
       "    </tr>\n",
       "    <tr>\n",
       "      <th>german_shepherd,soft-coated_wheaten_terrier</th>\n",
       "      <td>5</td>\n",
       "      <td>3</td>\n",
       "    </tr>\n",
       "    <tr>\n",
       "      <th>german_shepherd,toy_poodle</th>\n",
       "      <td>6</td>\n",
       "      <td>5</td>\n",
       "    </tr>\n",
       "    <tr>\n",
       "      <th>golden_retriever,german_shepherd</th>\n",
       "      <td>7</td>\n",
       "      <td>3</td>\n",
       "    </tr>\n",
       "    <tr>\n",
       "      <th>golden_retriever,golden_retriever</th>\n",
       "      <td>8</td>\n",
       "      <td>2</td>\n",
       "    </tr>\n",
       "    <tr>\n",
       "      <th>golden_retriever,labrador_retriever</th>\n",
       "      <td>9</td>\n",
       "      <td>2</td>\n",
       "    </tr>\n",
       "    <tr>\n",
       "      <th>golden_retriever,miniature_poodle</th>\n",
       "      <td>10</td>\n",
       "      <td>8</td>\n",
       "    </tr>\n",
       "    <tr>\n",
       "      <th>golden_retriever,toy_poodle</th>\n",
       "      <td>11</td>\n",
       "      <td>3</td>\n",
       "    </tr>\n",
       "    <tr>\n",
       "      <th>labrador_retriever,german_shepherd</th>\n",
       "      <td>12</td>\n",
       "      <td>8</td>\n",
       "    </tr>\n",
       "    <tr>\n",
       "      <th>labrador_retriever,golden_retriever</th>\n",
       "      <td>13</td>\n",
       "      <td>1</td>\n",
       "    </tr>\n",
       "    <tr>\n",
       "      <th>labrador_retriever,labrador_retriever</th>\n",
       "      <td>14</td>\n",
       "      <td>7</td>\n",
       "    </tr>\n",
       "    <tr>\n",
       "      <th>labrador_retriever,miniature_poodle</th>\n",
       "      <td>15</td>\n",
       "      <td>4</td>\n",
       "    </tr>\n",
       "    <tr>\n",
       "      <th>labrador_retriever,soft-coated_wheaten_terrier</th>\n",
       "      <td>16</td>\n",
       "      <td>4</td>\n",
       "    </tr>\n",
       "    <tr>\n",
       "      <th>labrador_retriever,toy_poodle</th>\n",
       "      <td>17</td>\n",
       "      <td>5</td>\n",
       "    </tr>\n",
       "    <tr>\n",
       "      <th>miniature_poodle,german_shepherd</th>\n",
       "      <td>18</td>\n",
       "      <td>6</td>\n",
       "    </tr>\n",
       "    <tr>\n",
       "      <th>miniature_poodle,golden_retriever</th>\n",
       "      <td>19</td>\n",
       "      <td>3</td>\n",
       "    </tr>\n",
       "    <tr>\n",
       "      <th>miniature_poodle,labrador_retriever</th>\n",
       "      <td>20</td>\n",
       "      <td>8</td>\n",
       "    </tr>\n",
       "    <tr>\n",
       "      <th>miniature_poodle,miniature_poodle</th>\n",
       "      <td>21</td>\n",
       "      <td>6</td>\n",
       "    </tr>\n",
       "    <tr>\n",
       "      <th>miniature_poodle,soft-coated_wheaten_terrier</th>\n",
       "      <td>22</td>\n",
       "      <td>3</td>\n",
       "    </tr>\n",
       "    <tr>\n",
       "      <th>miniature_poodle,toy_poodle</th>\n",
       "      <td>23</td>\n",
       "      <td>1</td>\n",
       "    </tr>\n",
       "    <tr>\n",
       "      <th>soft-coated_wheaten_terrier,german_shepherd</th>\n",
       "      <td>24</td>\n",
       "      <td>1</td>\n",
       "    </tr>\n",
       "    <tr>\n",
       "      <th>soft-coated_wheaten_terrier,golden_retriever</th>\n",
       "      <td>25</td>\n",
       "      <td>1</td>\n",
       "    </tr>\n",
       "    <tr>\n",
       "      <th>soft-coated_wheaten_terrier,labrador_retriever</th>\n",
       "      <td>26</td>\n",
       "      <td>6</td>\n",
       "    </tr>\n",
       "    <tr>\n",
       "      <th>soft-coated_wheaten_terrier,miniature_poodle</th>\n",
       "      <td>27</td>\n",
       "      <td>4</td>\n",
       "    </tr>\n",
       "    <tr>\n",
       "      <th>soft-coated_wheaten_terrier,soft-coated_wheaten_terrier</th>\n",
       "      <td>28</td>\n",
       "      <td>4</td>\n",
       "    </tr>\n",
       "    <tr>\n",
       "      <th>soft-coated_wheaten_terrier,toy_poodle</th>\n",
       "      <td>29</td>\n",
       "      <td>2</td>\n",
       "    </tr>\n",
       "    <tr>\n",
       "      <th>toy_poodle,german_shepherd</th>\n",
       "      <td>30</td>\n",
       "      <td>2</td>\n",
       "    </tr>\n",
       "    <tr>\n",
       "      <th>toy_poodle,golden_retriever</th>\n",
       "      <td>31</td>\n",
       "      <td>3</td>\n",
       "    </tr>\n",
       "    <tr>\n",
       "      <th>toy_poodle,labrador_retriever</th>\n",
       "      <td>32</td>\n",
       "      <td>3</td>\n",
       "    </tr>\n",
       "    <tr>\n",
       "      <th>toy_poodle,miniature_poodle</th>\n",
       "      <td>33</td>\n",
       "      <td>3</td>\n",
       "    </tr>\n",
       "    <tr>\n",
       "      <th>toy_poodle,soft-coated_wheaten_terrier</th>\n",
       "      <td>34</td>\n",
       "      <td>4</td>\n",
       "    </tr>\n",
       "  </tbody>\n",
       "</table>\n",
       "</div>"
      ],
      "text/plain": [
       "Frequency for IMAGEDATA_3BORQO\n",
       "\n",
       "                                                         Level  Frequency\n",
       "german_shepherd,german_shepherd                              1          3\n",
       "german_shepherd,golden_retriever                             2          1\n",
       "german_shepherd,labrador_retriever                           3          4\n",
       "german_shepherd,miniature_poodle                             4          4\n",
       "german_shepherd,soft-coated_wheaten_terrier                  5          3\n",
       "german_shepherd,toy_poodle                                   6          5\n",
       "golden_retriever,german_shepherd                             7          3\n",
       "golden_retriever,golden_retriever                            8          2\n",
       "golden_retriever,labrador_retriever                          9          2\n",
       "golden_retriever,miniature_poodle                           10          8\n",
       "golden_retriever,toy_poodle                                 11          3\n",
       "labrador_retriever,german_shepherd                          12          8\n",
       "labrador_retriever,golden_retriever                         13          1\n",
       "labrador_retriever,labrador_retriever                       14          7\n",
       "labrador_retriever,miniature_poodle                         15          4\n",
       "labrador_retriever,soft-coated_wheaten_terrier              16          4\n",
       "labrador_retriever,toy_poodle                               17          5\n",
       "miniature_poodle,german_shepherd                            18          6\n",
       "miniature_poodle,golden_retriever                           19          3\n",
       "miniature_poodle,labrador_retriever                         20          8\n",
       "miniature_poodle,miniature_poodle                           21          6\n",
       "miniature_poodle,soft-coated_wheaten_terrier                22          3\n",
       "miniature_poodle,toy_poodle                                 23          1\n",
       "soft-coated_wheaten_terrier,german_shepherd                 24          1\n",
       "soft-coated_wheaten_terrier,golden_retriever                25          1\n",
       "soft-coated_wheaten_terrier,labrador_retriever              26          6\n",
       "soft-coated_wheaten_terrier,miniature_poodle                27          4\n",
       "soft-coated_wheaten_terrier,soft-coated_wheaten_terrier     28          4\n",
       "soft-coated_wheaten_terrier,toy_poodle                      29          2\n",
       "toy_poodle,german_shepherd                                  30          2\n",
       "toy_poodle,golden_retriever                                 31          3\n",
       "toy_poodle,labrador_retriever                               32          3\n",
       "toy_poodle,miniature_poodle                                 33          3\n",
       "toy_poodle,soft-coated_wheaten_terrier                      34          4"
      ]
     },
     "execution_count": 13,
     "metadata": {},
     "output_type": "execute_result"
    }
   ],
   "source": [
    "label_pair"
   ]
  },
  {
   "cell_type": "code",
   "execution_count": 14,
   "metadata": {},
   "outputs": [
    {
     "data": {
      "text/html": [
       "<div>\n",
       "<style scoped>\n",
       "    .dataframe tbody tr th:only-of-type {\n",
       "        vertical-align: middle;\n",
       "    }\n",
       "\n",
       "    .dataframe tbody tr th {\n",
       "        vertical-align: top;\n",
       "    }\n",
       "\n",
       "    .dataframe thead th {\n",
       "        text-align: right;\n",
       "    }\n",
       "</style>\n",
       "<table border=\"1\" class=\"dataframe\"><caption>Frequency for IMAGEDATA_3BORQO</caption>\n",
       "  <thead>\n",
       "    <tr style=\"text-align: right;\">\n",
       "      <th title=\"\"></th>\n",
       "      <th title=\"Level\">Level</th>\n",
       "      <th title=\"Frequency\">Frequency</th>\n",
       "    </tr>\n",
       "  </thead>\n",
       "  <tbody>\n",
       "    <tr>\n",
       "      <th>0</th>\n",
       "      <td>1</td>\n",
       "      <td>22</td>\n",
       "    </tr>\n",
       "    <tr>\n",
       "      <th>1</th>\n",
       "      <td>2</td>\n",
       "      <td>105</td>\n",
       "    </tr>\n",
       "  </tbody>\n",
       "</table>\n",
       "</div>"
      ],
      "text/plain": [
       "Frequency for IMAGEDATA_3BORQO\n",
       "\n",
       "              Level  Frequency\n",
       "           0      1         22\n",
       "           1      2        105"
      ]
     },
     "execution_count": 14,
     "metadata": {},
     "output_type": "execute_result"
    }
   ],
   "source": [
    "dissimilar"
   ]
  },
  {
   "cell_type": "markdown",
   "metadata": {},
   "source": [
    "Having created the table, we can uncomment the following two lines to verify the data looks as expected using a random selection of image pairs. For our example, this may show dog breeds that are similar or dissimilar."
   ]
  },
  {
   "cell_type": "code",
   "execution_count": null,
   "metadata": {},
   "outputs": [],
   "source": [
    "#my_table.show(n_image_pairs=5, randomize=True)"
   ]
  },
  {
   "cell_type": "markdown",
   "metadata": {},
   "source": [
    "We can also use the **`where=`** clause in order to view only image pairs that are disimilar. "
   ]
  },
  {
   "cell_type": "code",
   "execution_count": null,
   "metadata": {},
   "outputs": [],
   "source": [
    "#my_table.show(n_image_pairs=2, randomize=True, where='_dissimilar_ = 1')"
   ]
  },
  {
   "cell_type": "markdown",
   "metadata": {},
   "source": [
    "# Generate Image Embedding Table for Triplet Network <a id=\"Triplet\"></a>"
   ]
  },
  {
   "cell_type": "markdown",
   "metadata": {},
   "source": [
    "The parameters for generating an image embedding table for a triplet network are the same as for a [Siamese Network](#Siamese) except the parameter _embedding_model_type_ needs to be set to 'triplet'. \n",
    "\n",
    "ImageEmbeddingTables built for triplet networks consists image triplets instead of pairs. In each triplet, the first image is an anchor image, the second image is a positive image and the third image is a negative image.\n",
    "\n",
    "**Remember:** Change _server_side_data_path_ to the path where your images reside."
   ]
  },
  {
   "cell_type": "code",
   "execution_count": 17,
   "metadata": {},
   "outputs": [],
   "source": [
    "my_table_triplet = ImageEmbeddingTable.load_files(s, path='server_side_data_path', \n",
    "                                         embedding_model_type='triplet', label_level=-2, n_samples=128)"
   ]
  },
  {
   "cell_type": "markdown",
   "metadata": {},
   "source": [
    "Again, we verify many of the table's features."
   ]
  },
  {
   "cell_type": "code",
   "execution_count": 18,
   "metadata": {},
   "outputs": [
    {
     "data": {
      "text/plain": [
       "Index(['_id_', '_image_', '_size_', '_path_', '_type_', '_image_1', '_size_1',\n",
       "       '_path_1', '_type_1', '_image_2', '_size_2', '_path_2', '_type_2',\n",
       "       '_fName_', '_label_', '_fName_1', '_label_1', '_fName_2', '_label_2'],\n",
       "      dtype='object')"
      ]
     },
     "execution_count": 18,
     "metadata": {},
     "output_type": "execute_result"
    }
   ],
   "source": [
    "my_table_triplet.columns"
   ]
  },
  {
   "cell_type": "markdown",
   "metadata": {},
   "source": [
    "Label contains the frequency of anchor images, label1 contains the frequency of positive images, label2 contains the frequency of negative images, and label_triplet contains the frequency of combinations."
   ]
  },
  {
   "cell_type": "code",
   "execution_count": 19,
   "metadata": {},
   "outputs": [],
   "source": [
    "label, label1, label2, label_triplet = my_table_triplet.label_freq"
   ]
  },
  {
   "cell_type": "code",
   "execution_count": 20,
   "metadata": {},
   "outputs": [
    {
     "data": {
      "text/html": [
       "<div>\n",
       "<style scoped>\n",
       "    .dataframe tbody tr th:only-of-type {\n",
       "        vertical-align: middle;\n",
       "    }\n",
       "\n",
       "    .dataframe tbody tr th {\n",
       "        vertical-align: top;\n",
       "    }\n",
       "\n",
       "    .dataframe thead th {\n",
       "        text-align: right;\n",
       "    }\n",
       "</style>\n",
       "<table border=\"1\" class=\"dataframe\"><caption>Frequency for IMAGEDATA_WNE5ZS</caption>\n",
       "  <thead>\n",
       "    <tr style=\"text-align: right;\">\n",
       "      <th title=\"\"></th>\n",
       "      <th title=\"Level\">Level</th>\n",
       "      <th title=\"Frequency\">Frequency</th>\n",
       "    </tr>\n",
       "  </thead>\n",
       "  <tbody>\n",
       "    <tr>\n",
       "      <th>german_shepherd</th>\n",
       "      <td>1</td>\n",
       "      <td>20</td>\n",
       "    </tr>\n",
       "    <tr>\n",
       "      <th>golden_retriever</th>\n",
       "      <td>2</td>\n",
       "      <td>18</td>\n",
       "    </tr>\n",
       "    <tr>\n",
       "      <th>labrador_retriever</th>\n",
       "      <td>3</td>\n",
       "      <td>29</td>\n",
       "    </tr>\n",
       "    <tr>\n",
       "      <th>miniature_poodle</th>\n",
       "      <td>4</td>\n",
       "      <td>27</td>\n",
       "    </tr>\n",
       "    <tr>\n",
       "      <th>soft-coated_wheaten_terrier</th>\n",
       "      <td>5</td>\n",
       "      <td>18</td>\n",
       "    </tr>\n",
       "    <tr>\n",
       "      <th>toy_poodle</th>\n",
       "      <td>6</td>\n",
       "      <td>15</td>\n",
       "    </tr>\n",
       "  </tbody>\n",
       "</table>\n",
       "</div>"
      ],
      "text/plain": [
       "Frequency for IMAGEDATA_WNE5ZS\n",
       "\n",
       "                             Level  Frequency\n",
       "german_shepherd                  1         20\n",
       "golden_retriever                 2         18\n",
       "labrador_retriever               3         29\n",
       "miniature_poodle                 4         27\n",
       "soft-coated_wheaten_terrier      5         18\n",
       "toy_poodle                       6         15"
      ]
     },
     "execution_count": 20,
     "metadata": {},
     "output_type": "execute_result"
    }
   ],
   "source": [
    "label"
   ]
  },
  {
   "cell_type": "markdown",
   "metadata": {},
   "source": [
    "Because triplets are specified by a (anchor, positive, negative) format, the first two images of each row should always be the same class and the last image should be different."
   ]
  },
  {
   "cell_type": "code",
   "execution_count": 21,
   "metadata": {},
   "outputs": [
    {
     "data": {
      "text/html": [
       "<div>\n",
       "<style scoped>\n",
       "    .dataframe tbody tr th:only-of-type {\n",
       "        vertical-align: middle;\n",
       "    }\n",
       "\n",
       "    .dataframe tbody tr th {\n",
       "        vertical-align: top;\n",
       "    }\n",
       "\n",
       "    .dataframe thead th {\n",
       "        text-align: right;\n",
       "    }\n",
       "</style>\n",
       "<table border=\"1\" class=\"dataframe\"><caption>Frequency for IMAGEDATA_WNE5ZS</caption>\n",
       "  <thead>\n",
       "    <tr style=\"text-align: right;\">\n",
       "      <th title=\"\"></th>\n",
       "      <th title=\"Level\">Level</th>\n",
       "      <th title=\"Frequency\">Frequency</th>\n",
       "    </tr>\n",
       "  </thead>\n",
       "  <tbody>\n",
       "    <tr>\n",
       "      <th>german_shepherd,german_shepherd,golden_retriever</th>\n",
       "      <td>1</td>\n",
       "      <td>3</td>\n",
       "    </tr>\n",
       "    <tr>\n",
       "      <th>german_shepherd,german_shepherd,labrador_retriever</th>\n",
       "      <td>2</td>\n",
       "      <td>4</td>\n",
       "    </tr>\n",
       "    <tr>\n",
       "      <th>german_shepherd,german_shepherd,miniature_poodle</th>\n",
       "      <td>3</td>\n",
       "      <td>2</td>\n",
       "    </tr>\n",
       "    <tr>\n",
       "      <th>german_shepherd,german_shepherd,soft-coated_wheaten_terrier</th>\n",
       "      <td>4</td>\n",
       "      <td>7</td>\n",
       "    </tr>\n",
       "    <tr>\n",
       "      <th>german_shepherd,german_shepherd,toy_poodle</th>\n",
       "      <td>5</td>\n",
       "      <td>4</td>\n",
       "    </tr>\n",
       "    <tr>\n",
       "      <th>golden_retriever,golden_retriever,german_shepherd</th>\n",
       "      <td>6</td>\n",
       "      <td>3</td>\n",
       "    </tr>\n",
       "    <tr>\n",
       "      <th>golden_retriever,golden_retriever,labrador_retriever</th>\n",
       "      <td>7</td>\n",
       "      <td>5</td>\n",
       "    </tr>\n",
       "    <tr>\n",
       "      <th>golden_retriever,golden_retriever,miniature_poodle</th>\n",
       "      <td>8</td>\n",
       "      <td>6</td>\n",
       "    </tr>\n",
       "    <tr>\n",
       "      <th>golden_retriever,golden_retriever,soft-coated_wheaten_terrier</th>\n",
       "      <td>9</td>\n",
       "      <td>2</td>\n",
       "    </tr>\n",
       "    <tr>\n",
       "      <th>golden_retriever,golden_retriever,toy_poodle</th>\n",
       "      <td>10</td>\n",
       "      <td>2</td>\n",
       "    </tr>\n",
       "    <tr>\n",
       "      <th>labrador_retriever,labrador_retriever,german_shepherd</th>\n",
       "      <td>11</td>\n",
       "      <td>8</td>\n",
       "    </tr>\n",
       "    <tr>\n",
       "      <th>labrador_retriever,labrador_retriever,golden_retriever</th>\n",
       "      <td>12</td>\n",
       "      <td>4</td>\n",
       "    </tr>\n",
       "    <tr>\n",
       "      <th>labrador_retriever,labrador_retriever,miniature_poodle</th>\n",
       "      <td>13</td>\n",
       "      <td>3</td>\n",
       "    </tr>\n",
       "    <tr>\n",
       "      <th>labrador_retriever,labrador_retriever,soft-coated_wheaten_terrier</th>\n",
       "      <td>14</td>\n",
       "      <td>7</td>\n",
       "    </tr>\n",
       "    <tr>\n",
       "      <th>labrador_retriever,labrador_retriever,toy_poodle</th>\n",
       "      <td>15</td>\n",
       "      <td>7</td>\n",
       "    </tr>\n",
       "    <tr>\n",
       "      <th>miniature_poodle,miniature_poodle,german_shepherd</th>\n",
       "      <td>16</td>\n",
       "      <td>8</td>\n",
       "    </tr>\n",
       "    <tr>\n",
       "      <th>miniature_poodle,miniature_poodle,golden_retriever</th>\n",
       "      <td>17</td>\n",
       "      <td>3</td>\n",
       "    </tr>\n",
       "    <tr>\n",
       "      <th>miniature_poodle,miniature_poodle,labrador_retriever</th>\n",
       "      <td>18</td>\n",
       "      <td>4</td>\n",
       "    </tr>\n",
       "    <tr>\n",
       "      <th>miniature_poodle,miniature_poodle,soft-coated_wheaten_terrier</th>\n",
       "      <td>19</td>\n",
       "      <td>4</td>\n",
       "    </tr>\n",
       "    <tr>\n",
       "      <th>miniature_poodle,miniature_poodle,toy_poodle</th>\n",
       "      <td>20</td>\n",
       "      <td>8</td>\n",
       "    </tr>\n",
       "    <tr>\n",
       "      <th>soft-coated_wheaten_terrier,soft-coated_wheaten_terrier,german_shepherd</th>\n",
       "      <td>21</td>\n",
       "      <td>3</td>\n",
       "    </tr>\n",
       "    <tr>\n",
       "      <th>soft-coated_wheaten_terrier,soft-coated_wheaten_terrier,golden_retriever</th>\n",
       "      <td>22</td>\n",
       "      <td>5</td>\n",
       "    </tr>\n",
       "    <tr>\n",
       "      <th>soft-coated_wheaten_terrier,soft-coated_wheaten_terrier,labrador_retriever</th>\n",
       "      <td>23</td>\n",
       "      <td>2</td>\n",
       "    </tr>\n",
       "    <tr>\n",
       "      <th>soft-coated_wheaten_terrier,soft-coated_wheaten_terrier,miniature_poodle</th>\n",
       "      <td>24</td>\n",
       "      <td>3</td>\n",
       "    </tr>\n",
       "    <tr>\n",
       "      <th>soft-coated_wheaten_terrier,soft-coated_wheaten_terrier,toy_poodle</th>\n",
       "      <td>25</td>\n",
       "      <td>5</td>\n",
       "    </tr>\n",
       "    <tr>\n",
       "      <th>toy_poodle,toy_poodle,german_shepherd</th>\n",
       "      <td>26</td>\n",
       "      <td>3</td>\n",
       "    </tr>\n",
       "    <tr>\n",
       "      <th>toy_poodle,toy_poodle,golden_retriever</th>\n",
       "      <td>27</td>\n",
       "      <td>4</td>\n",
       "    </tr>\n",
       "    <tr>\n",
       "      <th>toy_poodle,toy_poodle,labrador_retriever</th>\n",
       "      <td>28</td>\n",
       "      <td>4</td>\n",
       "    </tr>\n",
       "    <tr>\n",
       "      <th>toy_poodle,toy_poodle,miniature_poodle</th>\n",
       "      <td>29</td>\n",
       "      <td>3</td>\n",
       "    </tr>\n",
       "    <tr>\n",
       "      <th>toy_poodle,toy_poodle,soft-coated_wheaten_terrier</th>\n",
       "      <td>30</td>\n",
       "      <td>1</td>\n",
       "    </tr>\n",
       "  </tbody>\n",
       "</table>\n",
       "</div>"
      ],
      "text/plain": [
       "Frequency for IMAGEDATA_WNE5ZS\n",
       "\n",
       "                                                                            Level  \\\n",
       "german_shepherd,german_shepherd,golden_retriever                                1   \n",
       "german_shepherd,german_shepherd,labrador_retriever                              2   \n",
       "german_shepherd,german_shepherd,miniature_poodle                                3   \n",
       "german_shepherd,german_shepherd,soft-coated_wheaten_terrier                     4   \n",
       "german_shepherd,german_shepherd,toy_poodle                                      5   \n",
       "golden_retriever,golden_retriever,german_shepherd                               6   \n",
       "golden_retriever,golden_retriever,labrador_retriever                            7   \n",
       "golden_retriever,golden_retriever,miniature_poodle                              8   \n",
       "golden_retriever,golden_retriever,soft-coated_wheaten_terrier                   9   \n",
       "golden_retriever,golden_retriever,toy_poodle                                   10   \n",
       "labrador_retriever,labrador_retriever,german_shepherd                          11   \n",
       "labrador_retriever,labrador_retriever,golden_retriever                         12   \n",
       "labrador_retriever,labrador_retriever,miniature_poodle                         13   \n",
       "labrador_retriever,labrador_retriever,soft-coated_wheaten_terrier              14   \n",
       "labrador_retriever,labrador_retriever,toy_poodle                               15   \n",
       "miniature_poodle,miniature_poodle,german_shepherd                              16   \n",
       "miniature_poodle,miniature_poodle,golden_retriever                             17   \n",
       "miniature_poodle,miniature_poodle,labrador_retriever                           18   \n",
       "miniature_poodle,miniature_poodle,soft-coated_wheaten_terrier                  19   \n",
       "miniature_poodle,miniature_poodle,toy_poodle                                   20   \n",
       "soft-coated_wheaten_terrier,soft-coated_wheaten_terrier,german_shepherd        21   \n",
       "soft-coated_wheaten_terrier,soft-coated_wheaten_terrier,golden_retriever       22   \n",
       "soft-coated_wheaten_terrier,soft-coated_wheaten_terrier,labrador_retriever     23   \n",
       "soft-coated_wheaten_terrier,soft-coated_wheaten_terrier,miniature_poodle       24   \n",
       "soft-coated_wheaten_terrier,soft-coated_wheaten_terrier,toy_poodle             25   \n",
       "toy_poodle,toy_poodle,german_shepherd                                          26   \n",
       "toy_poodle,toy_poodle,golden_retriever                                         27   \n",
       "toy_poodle,toy_poodle,labrador_retriever                                       28   \n",
       "toy_poodle,toy_poodle,miniature_poodle                                         29   \n",
       "toy_poodle,toy_poodle,soft-coated_wheaten_terrier                              30   \n",
       "\n",
       "                                                                            Frequency  \n",
       "german_shepherd,german_shepherd,golden_retriever                                    3  \n",
       "german_shepherd,german_shepherd,labrador_retriever                                  4  \n",
       "german_shepherd,german_shepherd,miniature_poodle                                    2  \n",
       "german_shepherd,german_shepherd,soft-coated_wheaten_terrier                         7  \n",
       "german_shepherd,german_shepherd,toy_poodle                                          4  \n",
       "golden_retriever,golden_retriever,german_shepherd                                   3  \n",
       "golden_retriever,golden_retriever,labrador_retriever                                5  \n",
       "golden_retriever,golden_retriever,miniature_poodle                                  6  \n",
       "golden_retriever,golden_retriever,soft-coated_wheaten_terrier                       2  \n",
       "golden_retriever,golden_retriever,toy_poodle                                        2  \n",
       "labrador_retriever,labrador_retriever,german_shepherd                               8  \n",
       "labrador_retriever,labrador_retriever,golden_retriever                              4  \n",
       "labrador_retriever,labrador_retriever,miniature_poodle                              3  \n",
       "labrador_retriever,labrador_retriever,soft-coated_wheaten_terrier                   7  \n",
       "labrador_retriever,labrador_retriever,toy_poodle                                    7  \n",
       "miniature_poodle,miniature_poodle,german_shepherd                                   8  \n",
       "miniature_poodle,miniature_poodle,golden_retriever                                  3  \n",
       "miniature_poodle,miniature_poodle,labrador_retriever                                4  \n",
       "miniature_poodle,miniature_poodle,soft-coated_wheaten_terrier                       4  \n",
       "miniature_poodle,miniature_poodle,toy_poodle                                        8  \n",
       "soft-coated_wheaten_terrier,soft-coated_wheaten_terrier,german_shepherd             3  \n",
       "soft-coated_wheaten_terrier,soft-coated_wheaten_terrier,golden_retriever            5  \n",
       "soft-coated_wheaten_terrier,soft-coated_wheaten_terrier,labrador_retriever          2  \n",
       "soft-coated_wheaten_terrier,soft-coated_wheaten_terrier,miniature_poodle            3  \n",
       "soft-coated_wheaten_terrier,soft-coated_wheaten_terrier,toy_poodle                  5  \n",
       "toy_poodle,toy_poodle,german_shepherd                                               3  \n",
       "toy_poodle,toy_poodle,golden_retriever                                              4  \n",
       "toy_poodle,toy_poodle,labrador_retriever                                            4  \n",
       "toy_poodle,toy_poodle,miniature_poodle                                              3  \n",
       "toy_poodle,toy_poodle,soft-coated_wheaten_terrier                                   1  "
      ]
     },
     "execution_count": 21,
     "metadata": {},
     "output_type": "execute_result"
    }
   ],
   "source": [
    "label_triplet"
   ]
  },
  {
   "cell_type": "markdown",
   "metadata": {},
   "source": [
    "We can uncomment the following line to view a few image triplets to ensure the triplets seem valid. One thing to note about the data set is that yellow, black, and chocolate labradors are all listed as labrador_retriever despite the significant color variation."
   ]
  },
  {
   "cell_type": "code",
   "execution_count": null,
   "metadata": {},
   "outputs": [],
   "source": [
    "#my_table_triplet.show(n_image_pairs=2, randomize=True)"
   ]
  },
  {
   "cell_type": "markdown",
   "metadata": {},
   "source": [
    "# Generate Image Embedding Table for Quartet Network <a id=\"Quartet\"></a>"
   ]
  },
  {
   "cell_type": "markdown",
   "metadata": {},
   "source": [
    "The parameters for generating an image embedding table for a quartet network are the same as for a [Siamese Network](#Siamese) except the parameter _embedding_model_type_ needs to be set to 'quartet'.\n",
    "\n",
    "Quartet models rely are similar to triplet models, but have an additional negative image. Image quartets are therefore composed of (anchor, positive, negative1, negative2). The second negative image is of the same class as the first negative image.\n",
    "\n",
    "**Remember:** Change _server_side_data_path_ to the path where your images reside."
   ]
  },
  {
   "cell_type": "code",
   "execution_count": 23,
   "metadata": {},
   "outputs": [],
   "source": [
    "my_table_quartet = ImageEmbeddingTable.load_files(s, path='server_side_data_path', \n",
    "                                                  embedding_model_type='quartet', label_level=-2, \n",
    "                                                  n_samples=128, resize_width=224, resize_height=224)"
   ]
  },
  {
   "cell_type": "code",
   "execution_count": 24,
   "metadata": {},
   "outputs": [
    {
     "data": {
      "text/plain": [
       "Index(['_id_', '_image_', '_size_', '_path_', '_type_', '_image_1', '_size_1',\n",
       "       '_path_1', '_type_1', '_image_2', '_size_2', '_path_2', '_type_2',\n",
       "       '_image_3', '_size_3', '_path_3', '_type_3', '_fName_', '_label_',\n",
       "       '_fName_1', '_label_1', '_fName_2', '_label_2', '_fName_3', '_label_3'],\n",
       "      dtype='object')"
      ]
     },
     "execution_count": 24,
     "metadata": {},
     "output_type": "execute_result"
    }
   ],
   "source": [
    "my_table_quartet.columns"
   ]
  },
  {
   "cell_type": "code",
   "execution_count": 25,
   "metadata": {},
   "outputs": [],
   "source": [
    "label, label1, label2, label3, label_quartet = my_table_quartet.label_freq"
   ]
  },
  {
   "cell_type": "code",
   "execution_count": 26,
   "metadata": {},
   "outputs": [
    {
     "data": {
      "text/html": [
       "<div>\n",
       "<style scoped>\n",
       "    .dataframe tbody tr th:only-of-type {\n",
       "        vertical-align: middle;\n",
       "    }\n",
       "\n",
       "    .dataframe tbody tr th {\n",
       "        vertical-align: top;\n",
       "    }\n",
       "\n",
       "    .dataframe thead th {\n",
       "        text-align: right;\n",
       "    }\n",
       "</style>\n",
       "<table border=\"1\" class=\"dataframe\"><caption>Frequency for IMAGEDATA_ASO13I</caption>\n",
       "  <thead>\n",
       "    <tr style=\"text-align: right;\">\n",
       "      <th title=\"\"></th>\n",
       "      <th title=\"Level\">Level</th>\n",
       "      <th title=\"Frequency\">Frequency</th>\n",
       "    </tr>\n",
       "  </thead>\n",
       "  <tbody>\n",
       "    <tr>\n",
       "      <th>german_shepherd</th>\n",
       "      <td>1</td>\n",
       "      <td>26</td>\n",
       "    </tr>\n",
       "    <tr>\n",
       "      <th>golden_retriever</th>\n",
       "      <td>2</td>\n",
       "      <td>19</td>\n",
       "    </tr>\n",
       "    <tr>\n",
       "      <th>labrador_retriever</th>\n",
       "      <td>3</td>\n",
       "      <td>15</td>\n",
       "    </tr>\n",
       "    <tr>\n",
       "      <th>miniature_poodle</th>\n",
       "      <td>4</td>\n",
       "      <td>16</td>\n",
       "    </tr>\n",
       "    <tr>\n",
       "      <th>soft-coated_wheaten_terrier</th>\n",
       "      <td>5</td>\n",
       "      <td>20</td>\n",
       "    </tr>\n",
       "    <tr>\n",
       "      <th>toy_poodle</th>\n",
       "      <td>6</td>\n",
       "      <td>31</td>\n",
       "    </tr>\n",
       "  </tbody>\n",
       "</table>\n",
       "</div>"
      ],
      "text/plain": [
       "Frequency for IMAGEDATA_ASO13I\n",
       "\n",
       "                             Level  Frequency\n",
       "german_shepherd                  1         26\n",
       "golden_retriever                 2         19\n",
       "labrador_retriever               3         15\n",
       "miniature_poodle                 4         16\n",
       "soft-coated_wheaten_terrier      5         20\n",
       "toy_poodle                       6         31"
      ]
     },
     "execution_count": 26,
     "metadata": {},
     "output_type": "execute_result"
    }
   ],
   "source": [
    "label3"
   ]
  },
  {
   "cell_type": "code",
   "execution_count": 27,
   "metadata": {},
   "outputs": [
    {
     "data": {
      "text/html": [
       "<div>\n",
       "<style scoped>\n",
       "    .dataframe tbody tr th:only-of-type {\n",
       "        vertical-align: middle;\n",
       "    }\n",
       "\n",
       "    .dataframe tbody tr th {\n",
       "        vertical-align: top;\n",
       "    }\n",
       "\n",
       "    .dataframe thead th {\n",
       "        text-align: right;\n",
       "    }\n",
       "</style>\n",
       "<table border=\"1\" class=\"dataframe\"><caption>Frequency for IMAGEDATA_ASO13I</caption>\n",
       "  <thead>\n",
       "    <tr style=\"text-align: right;\">\n",
       "      <th title=\"\"></th>\n",
       "      <th title=\"Level\">Level</th>\n",
       "      <th title=\"Frequency\">Frequency</th>\n",
       "    </tr>\n",
       "  </thead>\n",
       "  <tbody>\n",
       "    <tr>\n",
       "      <th>german_shepherd,german_shepherd,german_shepherd,german_shepherd</th>\n",
       "      <td>1</td>\n",
       "      <td>2</td>\n",
       "    </tr>\n",
       "    <tr>\n",
       "      <th>german_shepherd,german_shepherd,golden_retriever,golden_retriever</th>\n",
       "      <td>2</td>\n",
       "      <td>4</td>\n",
       "    </tr>\n",
       "    <tr>\n",
       "      <th>german_shepherd,german_shepherd,labrador_retriever,labrador_retriever</th>\n",
       "      <td>3</td>\n",
       "      <td>3</td>\n",
       "    </tr>\n",
       "    <tr>\n",
       "      <th>german_shepherd,german_shepherd,miniature_poodle,miniature_poodle</th>\n",
       "      <td>4</td>\n",
       "      <td>4</td>\n",
       "    </tr>\n",
       "    <tr>\n",
       "      <th>german_shepherd,german_shepherd,soft-coated_wheaten_terrier,soft-coated_wheaten_terrier</th>\n",
       "      <td>5</td>\n",
       "      <td>2</td>\n",
       "    </tr>\n",
       "    <tr>\n",
       "      <th>german_shepherd,german_shepherd,toy_poodle,toy_poodle</th>\n",
       "      <td>6</td>\n",
       "      <td>5</td>\n",
       "    </tr>\n",
       "    <tr>\n",
       "      <th>golden_retriever,golden_retriever,german_shepherd,german_shepherd</th>\n",
       "      <td>7</td>\n",
       "      <td>4</td>\n",
       "    </tr>\n",
       "    <tr>\n",
       "      <th>golden_retriever,golden_retriever,labrador_retriever,labrador_retriever</th>\n",
       "      <td>8</td>\n",
       "      <td>3</td>\n",
       "    </tr>\n",
       "    <tr>\n",
       "      <th>golden_retriever,golden_retriever,miniature_poodle,miniature_poodle</th>\n",
       "      <td>9</td>\n",
       "      <td>4</td>\n",
       "    </tr>\n",
       "    <tr>\n",
       "      <th>golden_retriever,golden_retriever,soft-coated_wheaten_terrier,soft-coated_wheaten_terrier</th>\n",
       "      <td>10</td>\n",
       "      <td>2</td>\n",
       "    </tr>\n",
       "    <tr>\n",
       "      <th>golden_retriever,golden_retriever,toy_poodle,toy_poodle</th>\n",
       "      <td>11</td>\n",
       "      <td>5</td>\n",
       "    </tr>\n",
       "    <tr>\n",
       "      <th>labrador_retriever,labrador_retriever,german_shepherd,german_shepherd</th>\n",
       "      <td>12</td>\n",
       "      <td>7</td>\n",
       "    </tr>\n",
       "    <tr>\n",
       "      <th>labrador_retriever,labrador_retriever,golden_retriever,golden_retriever</th>\n",
       "      <td>13</td>\n",
       "      <td>5</td>\n",
       "    </tr>\n",
       "    <tr>\n",
       "      <th>labrador_retriever,labrador_retriever,labrador_retriever,labrador_retriever</th>\n",
       "      <td>14</td>\n",
       "      <td>2</td>\n",
       "    </tr>\n",
       "    <tr>\n",
       "      <th>labrador_retriever,labrador_retriever,miniature_poodle,miniature_poodle</th>\n",
       "      <td>15</td>\n",
       "      <td>4</td>\n",
       "    </tr>\n",
       "    <tr>\n",
       "      <th>labrador_retriever,labrador_retriever,soft-coated_wheaten_terrier,soft-coated_wheaten_terrier</th>\n",
       "      <td>16</td>\n",
       "      <td>2</td>\n",
       "    </tr>\n",
       "    <tr>\n",
       "      <th>labrador_retriever,labrador_retriever,toy_poodle,toy_poodle</th>\n",
       "      <td>17</td>\n",
       "      <td>9</td>\n",
       "    </tr>\n",
       "    <tr>\n",
       "      <th>miniature_poodle,miniature_poodle,german_shepherd,german_shepherd</th>\n",
       "      <td>18</td>\n",
       "      <td>6</td>\n",
       "    </tr>\n",
       "    <tr>\n",
       "      <th>miniature_poodle,miniature_poodle,golden_retriever,golden_retriever</th>\n",
       "      <td>19</td>\n",
       "      <td>4</td>\n",
       "    </tr>\n",
       "    <tr>\n",
       "      <th>miniature_poodle,miniature_poodle,labrador_retriever,labrador_retriever</th>\n",
       "      <td>20</td>\n",
       "      <td>3</td>\n",
       "    </tr>\n",
       "    <tr>\n",
       "      <th>miniature_poodle,miniature_poodle,soft-coated_wheaten_terrier,soft-coated_wheaten_terrier</th>\n",
       "      <td>21</td>\n",
       "      <td>9</td>\n",
       "    </tr>\n",
       "    <tr>\n",
       "      <th>miniature_poodle,miniature_poodle,toy_poodle,toy_poodle</th>\n",
       "      <td>22</td>\n",
       "      <td>5</td>\n",
       "    </tr>\n",
       "    <tr>\n",
       "      <th>soft-coated_wheaten_terrier,soft-coated_wheaten_terrier,german_shepherd,german_shepherd</th>\n",
       "      <td>23</td>\n",
       "      <td>4</td>\n",
       "    </tr>\n",
       "    <tr>\n",
       "      <th>soft-coated_wheaten_terrier,soft-coated_wheaten_terrier,golden_retriever,golden_retriever</th>\n",
       "      <td>24</td>\n",
       "      <td>3</td>\n",
       "    </tr>\n",
       "    <tr>\n",
       "      <th>soft-coated_wheaten_terrier,soft-coated_wheaten_terrier,labrador_retriever,labrador_retriever</th>\n",
       "      <td>25</td>\n",
       "      <td>2</td>\n",
       "    </tr>\n",
       "    <tr>\n",
       "      <th>soft-coated_wheaten_terrier,soft-coated_wheaten_terrier,miniature_poodle,miniature_poodle</th>\n",
       "      <td>26</td>\n",
       "      <td>1</td>\n",
       "    </tr>\n",
       "    <tr>\n",
       "      <th>soft-coated_wheaten_terrier,soft-coated_wheaten_terrier,soft-coated_wheaten_terrier,soft-coated_wheaten_terrier</th>\n",
       "      <td>27</td>\n",
       "      <td>2</td>\n",
       "    </tr>\n",
       "    <tr>\n",
       "      <th>soft-coated_wheaten_terrier,soft-coated_wheaten_terrier,toy_poodle,toy_poodle</th>\n",
       "      <td>28</td>\n",
       "      <td>6</td>\n",
       "    </tr>\n",
       "    <tr>\n",
       "      <th>toy_poodle,toy_poodle,german_shepherd,german_shepherd</th>\n",
       "      <td>29</td>\n",
       "      <td>3</td>\n",
       "    </tr>\n",
       "    <tr>\n",
       "      <th>toy_poodle,toy_poodle,golden_retriever,golden_retriever</th>\n",
       "      <td>30</td>\n",
       "      <td>3</td>\n",
       "    </tr>\n",
       "    <tr>\n",
       "      <th>toy_poodle,toy_poodle,labrador_retriever,labrador_retriever</th>\n",
       "      <td>31</td>\n",
       "      <td>2</td>\n",
       "    </tr>\n",
       "    <tr>\n",
       "      <th>toy_poodle,toy_poodle,miniature_poodle,miniature_poodle</th>\n",
       "      <td>32</td>\n",
       "      <td>3</td>\n",
       "    </tr>\n",
       "    <tr>\n",
       "      <th>toy_poodle,toy_poodle,soft-coated_wheaten_terrier,soft-coated_wheaten_terrier</th>\n",
       "      <td>33</td>\n",
       "      <td>3</td>\n",
       "    </tr>\n",
       "    <tr>\n",
       "      <th>toy_poodle,toy_poodle,toy_poodle,toy_poodle</th>\n",
       "      <td>34</td>\n",
       "      <td>1</td>\n",
       "    </tr>\n",
       "  </tbody>\n",
       "</table>\n",
       "</div>"
      ],
      "text/plain": [
       "Frequency for IMAGEDATA_ASO13I\n",
       "\n",
       "                                                                                                                 Level  \\\n",
       "german_shepherd,german_shepherd,german_shepherd,german_shepherd                                                      1   \n",
       "german_shepherd,german_shepherd,golden_retriever,golden_retriever                                                    2   \n",
       "german_shepherd,german_shepherd,labrador_retriever,labrador_retriever                                                3   \n",
       "german_shepherd,german_shepherd,miniature_poodle,miniature_poodle                                                    4   \n",
       "german_shepherd,german_shepherd,soft-coated_wheaten_terrier,soft-coated_wheaten_terrier                              5   \n",
       "german_shepherd,german_shepherd,toy_poodle,toy_poodle                                                                6   \n",
       "golden_retriever,golden_retriever,german_shepherd,german_shepherd                                                    7   \n",
       "golden_retriever,golden_retriever,labrador_retriever,labrador_retriever                                              8   \n",
       "golden_retriever,golden_retriever,miniature_poodle,miniature_poodle                                                  9   \n",
       "golden_retriever,golden_retriever,soft-coated_wheaten_terrier,soft-coated_wheaten_terrier                           10   \n",
       "golden_retriever,golden_retriever,toy_poodle,toy_poodle                                                             11   \n",
       "labrador_retriever,labrador_retriever,german_shepherd,german_shepherd                                               12   \n",
       "labrador_retriever,labrador_retriever,golden_retriever,golden_retriever                                             13   \n",
       "labrador_retriever,labrador_retriever,labrador_retriever,labrador_retriever                                         14   \n",
       "labrador_retriever,labrador_retriever,miniature_poodle,miniature_poodle                                             15   \n",
       "labrador_retriever,labrador_retriever,soft-coated_wheaten_terrier,soft-coated_wheaten_terrier                       16   \n",
       "labrador_retriever,labrador_retriever,toy_poodle,toy_poodle                                                         17   \n",
       "miniature_poodle,miniature_poodle,german_shepherd,german_shepherd                                                   18   \n",
       "miniature_poodle,miniature_poodle,golden_retriever,golden_retriever                                                 19   \n",
       "miniature_poodle,miniature_poodle,labrador_retriever,labrador_retriever                                             20   \n",
       "miniature_poodle,miniature_poodle,soft-coated_wheaten_terrier,soft-coated_wheaten_terrier                           21   \n",
       "miniature_poodle,miniature_poodle,toy_poodle,toy_poodle                                                             22   \n",
       "soft-coated_wheaten_terrier,soft-coated_wheaten_terrier,german_shepherd,german_shepherd                             23   \n",
       "soft-coated_wheaten_terrier,soft-coated_wheaten_terrier,golden_retriever,golden_retriever                           24   \n",
       "soft-coated_wheaten_terrier,soft-coated_wheaten_terrier,labrador_retriever,labrador_retriever                       25   \n",
       "soft-coated_wheaten_terrier,soft-coated_wheaten_terrier,miniature_poodle,miniature_poodle                           26   \n",
       "soft-coated_wheaten_terrier,soft-coated_wheaten_terrier,soft-coated_wheaten_terrier,soft-coated_wheaten_terrier     27   \n",
       "soft-coated_wheaten_terrier,soft-coated_wheaten_terrier,toy_poodle,toy_poodle                                       28   \n",
       "toy_poodle,toy_poodle,german_shepherd,german_shepherd                                                               29   \n",
       "toy_poodle,toy_poodle,golden_retriever,golden_retriever                                                             30   \n",
       "toy_poodle,toy_poodle,labrador_retriever,labrador_retriever                                                         31   \n",
       "toy_poodle,toy_poodle,miniature_poodle,miniature_poodle                                                             32   \n",
       "toy_poodle,toy_poodle,soft-coated_wheaten_terrier,soft-coated_wheaten_terrier                                       33   \n",
       "toy_poodle,toy_poodle,toy_poodle,toy_poodle                                                                         34   \n",
       "\n",
       "                                                                                                                 Frequency  \n",
       "german_shepherd,german_shepherd,german_shepherd,german_shepherd                                                          2  \n",
       "german_shepherd,german_shepherd,golden_retriever,golden_retriever                                                        4  \n",
       "german_shepherd,german_shepherd,labrador_retriever,labrador_retriever                                                    3  \n",
       "german_shepherd,german_shepherd,miniature_poodle,miniature_poodle                                                        4  \n",
       "german_shepherd,german_shepherd,soft-coated_wheaten_terrier,soft-coated_wheaten_terrier                                  2  \n",
       "german_shepherd,german_shepherd,toy_poodle,toy_poodle                                                                    5  \n",
       "golden_retriever,golden_retriever,german_shepherd,german_shepherd                                                        4  \n",
       "golden_retriever,golden_retriever,labrador_retriever,labrador_retriever                                                  3  \n",
       "golden_retriever,golden_retriever,miniature_poodle,miniature_poodle                                                      4  \n",
       "golden_retriever,golden_retriever,soft-coated_wheaten_terrier,soft-coated_wheaten_terrier                                2  \n",
       "golden_retriever,golden_retriever,toy_poodle,toy_poodle                                                                  5  \n",
       "labrador_retriever,labrador_retriever,german_shepherd,german_shepherd                                                    7  \n",
       "labrador_retriever,labrador_retriever,golden_retriever,golden_retriever                                                  5  \n",
       "labrador_retriever,labrador_retriever,labrador_retriever,labrador_retriever                                              2  \n",
       "labrador_retriever,labrador_retriever,miniature_poodle,miniature_poodle                                                  4  \n",
       "labrador_retriever,labrador_retriever,soft-coated_wheaten_terrier,soft-coated_wheaten_terrier                            2  \n",
       "labrador_retriever,labrador_retriever,toy_poodle,toy_poodle                                                              9  \n",
       "miniature_poodle,miniature_poodle,german_shepherd,german_shepherd                                                        6  \n",
       "miniature_poodle,miniature_poodle,golden_retriever,golden_retriever                                                      4  \n",
       "miniature_poodle,miniature_poodle,labrador_retriever,labrador_retriever                                                  3  \n",
       "miniature_poodle,miniature_poodle,soft-coated_wheaten_terrier,soft-coated_wheaten_terrier                                9  \n",
       "miniature_poodle,miniature_poodle,toy_poodle,toy_poodle                                                                  5  \n",
       "soft-coated_wheaten_terrier,soft-coated_wheaten_terrier,german_shepherd,german_shepherd                                  4  \n",
       "soft-coated_wheaten_terrier,soft-coated_wheaten_terrier,golden_retriever,golden_retriever                                3  \n",
       "soft-coated_wheaten_terrier,soft-coated_wheaten_terrier,labrador_retriever,labrador_retriever                            2  \n",
       "soft-coated_wheaten_terrier,soft-coated_wheaten_terrier,miniature_poodle,miniature_poodle                                1  \n",
       "soft-coated_wheaten_terrier,soft-coated_wheaten_terrier,soft-coated_wheaten_terrier,soft-coated_wheaten_terrier          2  \n",
       "soft-coated_wheaten_terrier,soft-coated_wheaten_terrier,toy_poodle,toy_poodle                                            6  \n",
       "toy_poodle,toy_poodle,german_shepherd,german_shepherd                                                                    3  \n",
       "toy_poodle,toy_poodle,golden_retriever,golden_retriever                                                                  3  \n",
       "toy_poodle,toy_poodle,labrador_retriever,labrador_retriever                                                              2  \n",
       "toy_poodle,toy_poodle,miniature_poodle,miniature_poodle                                                                  3  \n",
       "toy_poodle,toy_poodle,soft-coated_wheaten_terrier,soft-coated_wheaten_terrier                                            3  \n",
       "toy_poodle,toy_poodle,toy_poodle,toy_poodle                                                                              1  "
      ]
     },
     "execution_count": 27,
     "metadata": {},
     "output_type": "execute_result"
    }
   ],
   "source": [
    "label_quartet"
   ]
  },
  {
   "cell_type": "markdown",
   "metadata": {},
   "source": [
    "We can look at image quartets and their associated labels to ensure that the positive images are the same dog breed as the anchor and the negative images are different dog breeds from the anchor."
   ]
  },
  {
   "cell_type": "code",
   "execution_count": null,
   "metadata": {},
   "outputs": [],
   "source": [
    "#my_table_quartet.show()"
   ]
  },
  {
   "cell_type": "markdown",
   "metadata": {},
   "source": [
    "Be sure to close the CAS session to free up system resources when you are done."
   ]
  },
  {
   "cell_type": "code",
   "execution_count": 29,
   "metadata": {
    "ExecuteTime": {
     "end_time": "2019-03-26T02:06:28.787826Z",
     "start_time": "2019-03-26T02:06:28.757804Z"
    }
   },
   "outputs": [
    {
     "data": {
      "text/html": [
       "<div class=\"cas-output-area\"></div>\n",
       "<p class=\"cas-results-performance\"><small><span class=\"cas-elapsed\">elapsed 9.4e-05s</span> &#183; <span class=\"cas-sys\">sys 8.3e-05s</span> &#183; <span class=\"cas-memory\">mem 0.221MB</span></small></p>"
      ],
      "text/plain": [
       "+ Elapsed: 9.4e-05s, sys: 8.3e-05s, mem: 0.221mb"
      ]
     },
     "execution_count": 29,
     "metadata": {},
     "output_type": "execute_result"
    }
   ],
   "source": [
    "s.endsession()"
   ]
  },
  {
   "cell_type": "code",
   "execution_count": null,
   "metadata": {},
   "outputs": [],
   "source": []
  }
 ],
 "metadata": {
  "hide_input": false,
  "kernelspec": {
   "display_name": "Python 3",
   "language": "python",
   "name": "python3"
  },
  "language_info": {
   "codemirror_mode": {
    "name": "ipython",
    "version": 3
   },
   "file_extension": ".py",
   "mimetype": "text/x-python",
   "name": "python",
   "nbconvert_exporter": "python",
   "pygments_lexer": "ipython3",
   "version": "3.7.6"
  },
  "toc": {
   "base_numbering": 1,
   "nav_menu": {},
   "number_sections": true,
   "sideBar": true,
   "skip_h1_title": false,
   "title_cell": "Table of Contents",
   "title_sidebar": "Contents",
   "toc_cell": false,
   "toc_position": {},
   "toc_section_display": true,
   "toc_window_display": false
  },
  "varInspector": {
   "cols": {
    "lenName": 16,
    "lenType": 16,
    "lenVar": 40
   },
   "kernels_config": {
    "python": {
     "delete_cmd_postfix": "",
     "delete_cmd_prefix": "del ",
     "library": "var_list.py",
     "varRefreshCmd": "print(var_dic_list())"
    },
    "r": {
     "delete_cmd_postfix": ") ",
     "delete_cmd_prefix": "rm(",
     "library": "var_list.r",
     "varRefreshCmd": "cat(var_dic_list()) "
    }
   },
   "types_to_exclude": [
    "module",
    "function",
    "builtin_function_or_method",
    "instance",
    "_Feature"
   ],
   "window_display": false
  }
 },
 "nbformat": 4,
 "nbformat_minor": 4
}
