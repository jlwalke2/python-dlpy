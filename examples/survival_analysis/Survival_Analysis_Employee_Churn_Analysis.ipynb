{
 "cells": [
  {
   "cell_type": "markdown",
   "metadata": {},
   "source": [
    "## Deep Learning with Python (DLPy) and SAS Viya: Survival Analysis"
   ]
  },
  {
   "cell_type": "markdown",
   "metadata": {},
   "source": [
    "The following example uses SAS DLPy to illustrate how we can easily apply a deep learning model for survival analysis through [the employee attrition data set](https://github.com/square/pysurvival/blob/master/pysurvival/datasets/employee_attrition.csv)  from [PySurvival](https://square.github.io/pysurvival/index.html). The analysis is to predict when an employee quit his job and understand the risk factors for employee turnover. This example demonstrates that the deep survival model can achieve better prediction than the popular Cox proportional hazards model."
   ]
  },
  {
   "cell_type": "markdown",
   "metadata": {},
   "source": [
    "# Table of contents\n",
    "1. [Survival Analysis and Censoring](#introduction)\n",
    "2. [Employee Attrition Data](#EDA)\n",
    "3. [Prepare the Data](#prepare)\n",
    "3. [Deep Survival Model for Employee Churn Analysis](#build_deepsurv)\n",
    "    1. [Build a Deep Learning Model with Survival Loss](#model_specification)\n",
    "    2. [Train a Deep Learning Model](#model_training)\n",
    "    3. [Build a Cox Proportional Hazard Model](#build-cox)\n",
    "    4. [Train a Cox Proportional Hazard Model](#train-cox)\n",
    "4. [Model Performance and Predictions](#evaluation)\n",
    "    1. [Compare the Models](#compare-models)\n",
    "    2. [Understand the Predictions from the Models](#understand-models)\n",
    "    3. [Predict High-Risk Employees](#predict-employees)\n",
    "    4. [Predict When an Employee Will Leave](#predict-time)\n",
    "    5. [Identify and Understand Risk Factors](#predict-risk)\n",
    "5. [Summary](#summary)"
   ]
  },
  {
   "cell_type": "markdown",
   "metadata": {},
   "source": [
    "## 1. Survival Analysis and Censoring <a name=\"introduction\"></a>"
   ]
  },
  {
   "cell_type": "markdown",
   "metadata": {},
   "source": [
    "[Survival analysis](https://en.wikipedia.org/wiki/Survival_analysis) is widely used for analyzing life time data, where the target variable is the  duration/survival time until an event of interest occurs. One of the goals in survival analysis is to predict when an event of interest is likely to happen.\n",
    "\n",
    "Survival analysis can be applied on many areas:\n",
    "\n",
    "- Medical research: predict survival time after treatment\n",
    "- Finance industry: predict when a borrower will likely to repay loan (credit risk)\n",
    "- Churn analysis: understand why and when clients unsubscribe or stop their services\n",
    "- Manufacturers: predict when an electronic device will break\n",
    "\n",
    "What is censoring and why does it matter?\n",
    "- Censoring happens if an individual doesn't experience the event of interest during the study period. In this situation, the individual's survival time is censored and not fully observed. In the employee attrition example, if an employee still works in the company by the time of collecting the data, the employee's tenure time is censored.\n",
    "- Standard regression models without accounting for censoring appropriately often lead to less accurate prediction and invalid inference. Therefore, survival models are developed to account for censoring, which can often lead to better prediction and valid inference."
   ]
  },
  {
   "cell_type": "markdown",
   "metadata": {},
   "source": [
    "### Load packages and launch CAS\n",
    "Be sure to change **your_host_name** and **your_port_number**."
   ]
  },
  {
   "cell_type": "code",
   "execution_count": 1,
   "metadata": {},
   "outputs": [],
   "source": [
    "from swat import *\n",
    "import numpy as np\n",
    "import pandas as pd\n",
    "import matplotlib.pyplot as plt\n",
    "from IPython.display import Image\n",
    "from sklearn.model_selection import train_test_split\n",
    "import warnings\n",
    "%matplotlib inline\n",
    "import dlpy\n",
    "from dlpy.layers import *\n",
    "from dlpy.model import *\n",
    "from dlpy.images import ImageTable\n",
    "from dlpy.sequential import Sequential\n",
    "from dlpy.lr_scheduler import *"
   ]
  },
  {
   "cell_type": "code",
   "execution_count": 2,
   "metadata": {},
   "outputs": [],
   "source": [
    "# Start a CAS session\n",
    "your_host_name='cloud.example.com'\n",
    "your_port_number='5570'\n",
    "s = CAS(your_host_name, your_port_number)"
   ]
  },
  {
   "cell_type": "markdown",
   "metadata": {},
   "source": [
    "## 2. The Employee Attrition Data <a name=\"EDA\"></a>\n",
    "You can find [the employee attrition data set](https://github.com/square/pysurvival/blob/master/pysurvival/datasets/employee_attrition.csv)  from [PySurvival](https://square.github.io/pysurvival/index.html). Because it is a fairly small data set we can do some preliminary exploratory data analysis using DataFrames."
   ]
  },
  {
   "cell_type": "code",
   "execution_count": 3,
   "metadata": {
    "slideshow": {
     "slide_type": "slide"
    }
   },
   "outputs": [
    {
     "name": "stdout",
     "output_type": "stream",
     "text": [
      "Size of the data set: (14999, 10)\n"
     ]
    },
    {
     "data": {
      "text/html": [
       "<div>\n",
       "<style scoped>\n",
       "    .dataframe tbody tr th:only-of-type {\n",
       "        vertical-align: middle;\n",
       "    }\n",
       "\n",
       "    .dataframe tbody tr th {\n",
       "        vertical-align: top;\n",
       "    }\n",
       "\n",
       "    .dataframe thead th {\n",
       "        text-align: right;\n",
       "    }\n",
       "</style>\n",
       "<table border=\"1\" class=\"dataframe\">\n",
       "  <thead>\n",
       "    <tr style=\"text-align: right;\">\n",
       "      <th></th>\n",
       "      <th>satisfaction_level</th>\n",
       "      <th>last_evaluation</th>\n",
       "      <th>number_projects</th>\n",
       "      <th>average_montly_hours</th>\n",
       "      <th>time_spend_company</th>\n",
       "      <th>work_accident</th>\n",
       "      <th>left</th>\n",
       "      <th>promotion_last_5years</th>\n",
       "      <th>department</th>\n",
       "      <th>salary</th>\n",
       "    </tr>\n",
       "  </thead>\n",
       "  <tbody>\n",
       "    <tr>\n",
       "      <th>0</th>\n",
       "      <td>0.38</td>\n",
       "      <td>0.53</td>\n",
       "      <td>2</td>\n",
       "      <td>157</td>\n",
       "      <td>3</td>\n",
       "      <td>0</td>\n",
       "      <td>1</td>\n",
       "      <td>0</td>\n",
       "      <td>sales</td>\n",
       "      <td>low</td>\n",
       "    </tr>\n",
       "    <tr>\n",
       "      <th>1</th>\n",
       "      <td>0.80</td>\n",
       "      <td>0.86</td>\n",
       "      <td>5</td>\n",
       "      <td>262</td>\n",
       "      <td>6</td>\n",
       "      <td>0</td>\n",
       "      <td>1</td>\n",
       "      <td>0</td>\n",
       "      <td>sales</td>\n",
       "      <td>medium</td>\n",
       "    </tr>\n",
       "    <tr>\n",
       "      <th>2</th>\n",
       "      <td>0.11</td>\n",
       "      <td>0.88</td>\n",
       "      <td>7</td>\n",
       "      <td>272</td>\n",
       "      <td>4</td>\n",
       "      <td>0</td>\n",
       "      <td>1</td>\n",
       "      <td>0</td>\n",
       "      <td>sales</td>\n",
       "      <td>medium</td>\n",
       "    </tr>\n",
       "    <tr>\n",
       "      <th>3</th>\n",
       "      <td>0.72</td>\n",
       "      <td>0.87</td>\n",
       "      <td>5</td>\n",
       "      <td>223</td>\n",
       "      <td>5</td>\n",
       "      <td>0</td>\n",
       "      <td>1</td>\n",
       "      <td>0</td>\n",
       "      <td>sales</td>\n",
       "      <td>low</td>\n",
       "    </tr>\n",
       "    <tr>\n",
       "      <th>4</th>\n",
       "      <td>0.37</td>\n",
       "      <td>0.52</td>\n",
       "      <td>2</td>\n",
       "      <td>159</td>\n",
       "      <td>3</td>\n",
       "      <td>0</td>\n",
       "      <td>1</td>\n",
       "      <td>0</td>\n",
       "      <td>sales</td>\n",
       "      <td>low</td>\n",
       "    </tr>\n",
       "  </tbody>\n",
       "</table>\n",
       "</div>"
      ],
      "text/plain": [
       "   satisfaction_level  last_evaluation  number_projects  average_montly_hours  \\\n",
       "0                0.38             0.53                2                   157   \n",
       "1                0.80             0.86                5                   262   \n",
       "2                0.11             0.88                7                   272   \n",
       "3                0.72             0.87                5                   223   \n",
       "4                0.37             0.52                2                   159   \n",
       "\n",
       "   time_spend_company  work_accident  left  promotion_last_5years department  \\\n",
       "0                   3              0     1                      0      sales   \n",
       "1                   6              0     1                      0      sales   \n",
       "2                   4              0     1                      0      sales   \n",
       "3                   5              0     1                      0      sales   \n",
       "4                   3              0     1                      0      sales   \n",
       "\n",
       "   salary  \n",
       "0     low  \n",
       "1  medium  \n",
       "2  medium  \n",
       "3     low  \n",
       "4     low  "
      ]
     },
     "execution_count": 3,
     "metadata": {},
     "output_type": "execute_result"
    }
   ],
   "source": [
    "df_employee = pd.read_csv(r\"path/to/data/employee_attrition.csv\")\n",
    "print(\"Size of the data set:\", df_employee.shape)\n",
    "df_employee.head()"
   ]
  },
  {
   "cell_type": "markdown",
   "metadata": {},
   "source": [
    "###  2.1 Target variable and its distribution\n",
    "The target variable is \"time_spend_company\" which indicates the time that an employee spent at the company."
   ]
  },
  {
   "cell_type": "code",
   "execution_count": 4,
   "metadata": {},
   "outputs": [
    {
     "data": {
      "image/png": "[encoded data removed]",
      "text/plain": [
       "<Figure size 432x288 with 1 Axes>"
      ]
     },
     "metadata": {},
     "output_type": "display_data"
    }
   ],
   "source": [
    "time_column = 'time_spend_company'\n",
    "df_employee[time_column].value_counts().plot(kind='pie', autopct='%1.1f%%').set_title('Survival time distribution')\n",
    "plt.show()"
   ]
  },
  {
   "cell_type": "markdown",
   "metadata": {},
   "source": [
    "### 2.2 Censoring indicator variable: left\n",
    "The other main variable of interest is \"left\", which indicates whether or not an employee left (i.e. quit, retired, etc.) during the study. If the employee left then the survival time is uncensored. Otherwise, it is censored. The variable is encoded as follows:\n",
    "* 1: indicates that an employee left the company, so his/her duration time at the company is completely observed.\n",
    "* 0: indicates that an employee is still working in the company during the time of the study, so his/her duration time at the company is incompletely observed and censored."
   ]
  },
  {
   "cell_type": "code",
   "execution_count": 5,
   "metadata": {},
   "outputs": [
    {
     "data": {
      "image/png": "[encoded data removed]",
      "text/plain": [
       "<Figure size 432x288 with 1 Axes>"
      ]
     },
     "metadata": {},
     "output_type": "display_data"
    }
   ],
   "source": [
    "event_column = 'left'\n",
    "df_employee[event_column].value_counts().plot(kind='pie', autopct='%1.1f%%').set_title('Censoring distribution')\n",
    "plt.show()"
   ]
  },
  {
   "cell_type": "markdown",
   "metadata": {},
   "source": [
    "Note: In this data set, 76.2% observations have censored target values. Standard regression methods often lead to less accurate predictions, regardless of whether they ignore censoring information or drop censored observations."
   ]
  },
  {
   "cell_type": "markdown",
   "metadata": {},
   "source": [
    "### 2.3 Input features"
   ]
  },
  {
   "cell_type": "markdown",
   "metadata": {},
   "source": [
    "The main input features we are interested in is \"satisfaction_level\" which describes employee satisfaction as reported by self evaluation. Values range from 0 to 1 with 0 indicating totally dissatisfied and 1 indicating totally satisfied."
   ]
  },
  {
   "cell_type": "code",
   "execution_count": 6,
   "metadata": {},
   "outputs": [
    {
     "data": {
      "image/png": "[encoded data removed]",
      "text/plain": [
       "<Figure size 432x288 with 1 Axes>"
      ]
     },
     "metadata": {
      "needs_background": "light"
     },
     "output_type": "display_data"
    }
   ],
   "source": [
    "df_employee['satisfaction_level'].plot.hist(legend=None)\n",
    "plt.show()"
   ]
  },
  {
   "cell_type": "markdown",
   "metadata": {},
   "source": [
    "\n"
   ]
  },
  {
   "cell_type": "markdown",
   "metadata": {},
   "source": [
    "## 3. Prepare data for survival analysis <a id=\"prepare\"></a>"
   ]
  },
  {
   "cell_type": "markdown",
   "metadata": {},
   "source": [
    "### 3.1 Split data into training and test data\n",
    "We split the dataset to train (70% samples) and test (30% samples), creating DataFrames dl_train and dl_test, respectively."
   ]
  },
  {
   "cell_type": "code",
   "execution_count": 7,
   "metadata": {},
   "outputs": [],
   "source": [
    "N = df_employee.shape[0]\n",
    "seed = 61386\n",
    "index_train, index_test = train_test_split(range(N), test_size=0.3,random_state=seed)\n",
    "\n",
    "dl_train = df_employee.loc[index_train].reset_index(drop=True)\n",
    "dl_test  = df_employee.loc[index_test].reset_index(drop=True)"
   ]
  },
  {
   "cell_type": "markdown",
   "metadata": {},
   "source": [
    "### 3.2 Prepare a target variable y for survival analysis\n",
    "Target variable y is obtained by combining censoring information and original target values (time_spend_company). Negative numbers denote censored information. More specifically:\n",
    "-  y =   time_spend_company if left = 1 when an employee left the company\n",
    "-  y = -1*time_spend_company if left = 0 when an employee didn't leave the company"
   ]
  },
  {
   "cell_type": "code",
   "execution_count": 8,
   "metadata": {},
   "outputs": [],
   "source": [
    "dl_train['y'] = dl_train.apply(lambda row: (row[time_column] if row[event_column] else -row[time_column]), axis=1)\n",
    "dl_test['y']  = dl_test.apply(lambda row: (row[time_column] if row[event_column] else -row[time_column]), axis=1)"
   ]
  },
  {
   "cell_type": "markdown",
   "metadata": {},
   "source": [
    "### 3.3 Create ID Variable and Load DataFrames into CAS\n",
    "We create an ID variable in dl_train and dl_test. Then we upload the DataFrames into CAS in two steps. First, we create trainTbl and testTbl as CASTable objects. Note, however, that neither definition refers to the DataFrames we've been working with. The next step takes those DataFrames and uses `CAS.upload_frame()` in order to upload them to the CAS server and identify the resulting in-memory tables with trainTbl and testTbl.\n",
    "\n",
    "For efficiency, we specify `type='char'` for both department and salary. The default value is varchar."
   ]
  },
  {
   "cell_type": "code",
   "execution_count": 9,
   "metadata": {},
   "outputs": [
    {
     "name": "stdout",
     "output_type": "stream",
     "text": [
      "NOTE: Cloud Analytic Services made the uploaded file available as table TRAIN in caslib CASUSER(user).\n",
      "NOTE: The table TRAIN has been created in caslib CASUSER(user) from binary data uploaded to Cloud Analytic Services.\n",
      "NOTE: Cloud Analytic Services made the uploaded file available as table TEST in caslib CASUSER(user).\n",
      "NOTE: The table TEST has been created in caslib CASUSER(user) from binary data uploaded to Cloud Analytic Services.\n"
     ]
    },
    {
     "data": {
      "text/plain": [
       "CASTable('TEST', caslib='CASUSER(user)')"
      ]
     },
     "execution_count": 9,
     "metadata": {},
     "output_type": "execute_result"
    }
   ],
   "source": [
    "# dl_train['id'] = np.arange(dl_train.shape[0])\n",
    "dl_test['id'] = np.arange(dl_test.shape[0])\n",
    "\n",
    "trainTbl = s.CASTable(\"train\",replace=True)\n",
    "testTbl = s.CASTable(\"test\",replace=True)\n",
    "\n",
    "CAS.upload_frame(s, \n",
    "                 dl_train,  \n",
    "                 casout=trainTbl,\n",
    "                 importoptions=dict(vars=dict(department=dict(type='char',length='11'), \n",
    "                                              salary=dict(type='char',length='6'))))\n",
    "CAS.upload_frame(s, \n",
    "                 dl_test,  \n",
    "                 casout=testTbl,\n",
    "                 importoptions=dict(vars=dict(department=dict(type='char',length='11'), \n",
    "                                              salary=dict(type='char',length='6'))))"
   ]
  },
  {
   "cell_type": "markdown",
   "metadata": {},
   "source": [
    "### 3.4 Verify Data Sets After Split\n",
    "Finally, we ensure that the data split as we were expecting at 70% training and 30% testing."
   ]
  },
  {
   "cell_type": "code",
   "execution_count": 10,
   "metadata": {},
   "outputs": [
    {
     "name": "stdout",
     "output_type": "stream",
     "text": [
      "Size of training data: (10499, 11).  70.0% samples\n",
      "Size of test data: (4500, 12).  30.0% samples\n"
     ]
    }
   ],
   "source": [
    "splitRatio = trainTbl.shape[0]/(trainTbl.shape[0]+testTbl.shape[0])\n",
    "train_string = \"Size of training data: {}.  {:.1%} samples\"\n",
    "test_string = \"Size of test data: {}.  {:.1%} samples\"  \n",
    "print(train_string.format(trainTbl.shape, splitRatio)) \n",
    "print(test_string.format(testTbl.shape, 1-splitRatio)) "
   ]
  },
  {
   "cell_type": "markdown",
   "metadata": {},
   "source": [
    "## 4 Deep Survival Model for Employee Attrition Analysis <a name=\"build_deepsurv\"></a>\n",
    "In this section, we create and train a Deep Survival model. To compare results, we also build and train a Cox Proportional Hazards model."
   ]
  },
  {
   "cell_type": "markdown",
   "metadata": {},
   "source": [
    "### 4.1 Specify inputs and target variables\n",
    "We prepare the input and target variables by taking advantage of some properties of sets in Python. We create inputs as a set containing all the columns of trainTbl. Then, we use \"subtraction\" to exclude the target and censoring variables. Namely, we exclude y, time_column (alias of time_spend_company), and event_column (alias of left). We cast the results back to a list and overwrite the inputs variable and print a summary of the input variables.\n",
    "\n",
    "Note that we are using y as the target variable so that the survival model can account for censoring information appropriately."
   ]
  },
  {
   "cell_type": "code",
   "execution_count": 11,
   "metadata": {},
   "outputs": [
    {
     "name": "stdout",
     "output_type": "stream",
     "text": [
      "Prepare input and target variables\n",
      "Number of input variables: 8\n",
      "\n",
      "Input variables:\n",
      " ['department', 'last_evaluation', 'work_accident', 'satisfaction_level', 'salary', 'number_projects', 'average_montly_hours', 'promotion_last_5years']\n",
      "\n",
      "Nominal inputs: ['department', 'salary']\n",
      "\n",
      "Target variable: y\n"
     ]
    }
   ],
   "source": [
    "print(\"Prepare input and target variables\")\n",
    "inputs = set(trainTbl.columninfo()[\"ColumnInfo\"][\"Column\"])\n",
    "inputs = list(inputs -{'y',time_column,event_column}) \n",
    "\n",
    "print(\"Number of input variables:\", len(inputs))\n",
    "print(\"\\nInput variables:\\n\", inputs)\n",
    "nominals = [\"department\",\"salary\"]\n",
    "print(\"\\nNominal inputs:\", nominals)\n",
    "print(\"\\nTarget variable:\",\"y\") "
   ]
  },
  {
   "cell_type": "markdown",
   "metadata": {},
   "source": [
    "### 4.2 Build a deep survival model<a name=\"model_specification\"></a>\n",
    "- The [deep survival model](https://bmcmedresmethodol.biomedcentral.com/articles/10.1186/s12874-018-0482-1) builds on the classical proportional hazards model, and use deep learning as backbone to automatically learn a flexible and complex hazard function, which can improve model prediction.\n",
    "- You can refer to the paper [\"DeepSurv: Personalized Treatment Recommender System Using A Cox Proportional Hazards Deep Neural Network\"](https://bmcmedresmethodol.biomedcentral.com/articles/10.1186/s12874-018-0482-1) for details."
   ]
  },
  {
   "cell_type": "markdown",
   "metadata": {},
   "source": [
    "We build the model layer by layer using DLPy's Sequential API. Because we are predicting a single risk score, the final fully connected layer should consist of a single neuron with an identity activation function. Finally, the task-specific Survival layer is added to obtain the survival loss function. \n",
    "\n",
    "The prediction from the Deep Survival Model is the risk score: $e^{h(x)}$, which is an important element of the hazard function."
   ]
  },
  {
   "cell_type": "code",
   "execution_count": 12,
   "metadata": {},
   "outputs": [
    {
     "name": "stdout",
     "output_type": "stream",
     "text": [
      "Input vars: ['department', 'last_evaluation', 'work_accident', 'satisfaction_level', 'salary', 'number_projects', 'average_montly_hours', 'promotion_last_5years']\n",
      "Number of inputs: 8\n",
      "Number of hidden units: 13\n",
      "NOTE: Input layer added.\n",
      "NOTE: Fully-connected layer added.\n",
      "NOTE: Batch normalization layer added.\n",
      "NOTE: Fully-connected layer added.\n",
      "NOTE: Batch normalization layer added.\n",
      "NOTE: Fully-connected layer added.\n",
      "NOTE: Survival layer added.\n",
      "NOTE: Model compiled successfully.\n"
     ]
    }
   ],
   "source": [
    "modelName='deepsurv_model';\n",
    "\n",
    "inputVars = inputs\n",
    "print(\"Input vars:\",inputVars)\n",
    "nInput= len(inputVars)\n",
    "print(\"Number of inputs:\",nInput)\n",
    "nHidden = nInput + 5\n",
    "print(\"Number of hidden units:\",nHidden)\n",
    "deepSurvModel = Sequential(s, model_table=modelName)\n",
    "deepSurvModel.add(InputLayer(std='STD'))\n",
    "deepSurvModel.add(Dense(n=nHidden, act='identity', include_bias=False))\n",
    "deepSurvModel.add(BN(act='relu'))\n",
    "deepSurvModel.add(Dense(n=nHidden, act='identity', include_bias=False))\n",
    "deepSurvModel.add(BN(act='relu'))\n",
    "deepSurvModel.add(Dense(n=1, act='identity'))\n",
    "deepSurvModel.add(Survival())"
   ]
  },
  {
   "cell_type": "code",
   "execution_count": 13,
   "metadata": {},
   "outputs": [
    {
     "data": {
      "text/html": [
       "<div class=\"cas-results-key\"><b>&#167; TableInfo</b></div>\n",
       "<div class=\"cas-results-body\">\n",
       "<div>\n",
       "<style scoped>\n",
       "    .dataframe tbody tr th:only-of-type {\n",
       "        vertical-align: middle;\n",
       "    }\n",
       "\n",
       "    .dataframe tbody tr th {\n",
       "        vertical-align: top;\n",
       "    }\n",
       "\n",
       "    .dataframe thead th {\n",
       "        text-align: right;\n",
       "    }\n",
       "</style>\n",
       "<table border=\"1\" class=\"dataframe\">\n",
       "  <thead>\n",
       "    <tr style=\"text-align: right;\">\n",
       "      <th title=\"\"></th>\n",
       "      <th title=\"Name\">Name</th>\n",
       "      <th title=\"Rows\">Rows</th>\n",
       "      <th title=\"Columns\">Columns</th>\n",
       "      <th title=\"Indexed Columns\">IndexedColumns</th>\n",
       "      <th title=\"Encoding\">Encoding</th>\n",
       "      <th title=\"Created\">CreateTimeFormatted</th>\n",
       "      <th title=\"Last Modified\">ModTimeFormatted</th>\n",
       "      <th title=\"Last Accessed\">AccessTimeFormatted</th>\n",
       "      <th title=\"Character Set\">JavaCharSet</th>\n",
       "      <th title=\"CreateTime\">CreateTime</th>\n",
       "      <th title=\"...\">...</th>\n",
       "      <th title=\"Repeated\">Repeated</th>\n",
       "      <th title=\"View\">View</th>\n",
       "      <th title=\"MultiPart\">MultiPart</th>\n",
       "      <th title=\"Loaded Source\">SourceName</th>\n",
       "      <th title=\"Source Caslib\">SourceCaslib</th>\n",
       "      <th title=\"Compressed\">Compressed</th>\n",
       "      <th title=\"Table Creator\">Creator</th>\n",
       "      <th title=\"Last Table Modifier\">Modifier</th>\n",
       "      <th title=\"Source Modified\">SourceModTimeFormatted</th>\n",
       "      <th title=\"SourceModTime\">SourceModTime</th>\n",
       "    </tr>\n",
       "  </thead>\n",
       "  <tbody>\n",
       "    <tr>\n",
       "      <th>0</th>\n",
       "      <td>TRAIN</td>\n",
       "      <td>10499</td>\n",
       "      <td>11</td>\n",
       "      <td>0</td>\n",
       "      <td>utf-8</td>\n",
       "      <td>2020-03-24T10:04:33-04:00</td>\n",
       "      <td>2020-03-24T10:04:33-04:00</td>\n",
       "      <td>2020-03-24T10:04:34-04:00</td>\n",
       "      <td>UTF8</td>\n",
       "      <td>1.900678e+09</td>\n",
       "      <td>...</td>\n",
       "      <td>0</td>\n",
       "      <td>0</td>\n",
       "      <td>0</td>\n",
       "      <td></td>\n",
       "      <td></td>\n",
       "      <td>0</td>\n",
       "      <td>user</td>\n",
       "      <td></td>\n",
       "      <td>2020-03-24T10:04:33-04:00</td>\n",
       "      <td>1.900678e+09</td>\n",
       "    </tr>\n",
       "    <tr>\n",
       "      <th>1</th>\n",
       "      <td>TEST</td>\n",
       "      <td>4500</td>\n",
       "      <td>12</td>\n",
       "      <td>0</td>\n",
       "      <td>utf-8</td>\n",
       "      <td>2020-03-24T10:04:33-04:00</td>\n",
       "      <td>2020-03-24T10:04:33-04:00</td>\n",
       "      <td>2020-03-24T10:04:34-04:00</td>\n",
       "      <td>UTF8</td>\n",
       "      <td>1.900678e+09</td>\n",
       "      <td>...</td>\n",
       "      <td>0</td>\n",
       "      <td>0</td>\n",
       "      <td>0</td>\n",
       "      <td></td>\n",
       "      <td></td>\n",
       "      <td>0</td>\n",
       "      <td>user</td>\n",
       "      <td></td>\n",
       "      <td>2020-03-24T10:04:33-04:00</td>\n",
       "      <td>1.900678e+09</td>\n",
       "    </tr>\n",
       "    <tr>\n",
       "      <th>2</th>\n",
       "      <td>DEEPSURV_MODEL</td>\n",
       "      <td>53</td>\n",
       "      <td>5</td>\n",
       "      <td>0</td>\n",
       "      <td>utf-8</td>\n",
       "      <td>2020-03-24T10:04:36-04:00</td>\n",
       "      <td>2020-03-24T10:04:36-04:00</td>\n",
       "      <td>2020-03-24T10:04:36-04:00</td>\n",
       "      <td>UTF8</td>\n",
       "      <td>1.900678e+09</td>\n",
       "      <td>...</td>\n",
       "      <td>0</td>\n",
       "      <td>0</td>\n",
       "      <td>0</td>\n",
       "      <td></td>\n",
       "      <td></td>\n",
       "      <td>0</td>\n",
       "      <td>user</td>\n",
       "      <td></td>\n",
       "      <td></td>\n",
       "      <td>NaN</td>\n",
       "    </tr>\n",
       "  </tbody>\n",
       "</table>\n",
       "<p>3 rows × 23 columns</p>\n",
       "</div>\n",
       "</div>\n",
       "<div class=\"cas-output-area\"></div>\n",
       "<p class=\"cas-results-performance\"><small><span class=\"cas-elapsed\">elapsed 0.000469s</span> &#183; <span class=\"cas-user\">user 0.000418s</span> &#183; <span class=\"cas-memory\">mem 0.686MB</span></small></p>"
      ],
      "text/plain": [
       "[TableInfo]\n",
       "\n",
       "              Name   Rows  Columns  IndexedColumns Encoding  \\\n",
       " 0           TRAIN  10499       11               0    utf-8   \n",
       " 1            TEST   4500       12               0    utf-8   \n",
       " 2  DEEPSURV_MODEL     53        5               0    utf-8   \n",
       " \n",
       "          CreateTimeFormatted           ModTimeFormatted  \\\n",
       " 0  2020-03-24T10:04:33-04:00  2020-03-24T10:04:33-04:00   \n",
       " 1  2020-03-24T10:04:33-04:00  2020-03-24T10:04:33-04:00   \n",
       " 2  2020-03-24T10:04:36-04:00  2020-03-24T10:04:36-04:00   \n",
       " \n",
       "          AccessTimeFormatted JavaCharSet    CreateTime  ...  Repeated  View  \\\n",
       " 0  2020-03-24T10:04:34-04:00        UTF8  1.900678e+09  ...         0     0   \n",
       " 1  2020-03-24T10:04:34-04:00        UTF8  1.900678e+09  ...         0     0   \n",
       " 2  2020-03-24T10:04:36-04:00        UTF8  1.900678e+09  ...         0     0   \n",
       " \n",
       "    MultiPart  SourceName  SourceCaslib  Compressed Creator Modifier  \\\n",
       " 0          0                                     0  user            \n",
       " 1          0                                     0  user            \n",
       " 2          0                                     0  user            \n",
       " \n",
       "       SourceModTimeFormatted SourceModTime  \n",
       " 0  2020-03-24T10:04:33-04:00  1.900678e+09  \n",
       " 1  2020-03-24T10:04:33-04:00  1.900678e+09  \n",
       " 2                                      NaN  \n",
       " \n",
       " [3 rows x 23 columns]\n",
       "\n",
       "+ Elapsed: 0.000469s, user: 0.000418s, mem: 0.686mb"
      ]
     },
     "execution_count": 13,
     "metadata": {},
     "output_type": "execute_result"
    }
   ],
   "source": [
    "s.tableinfo()"
   ]
  },
  {
   "cell_type": "markdown",
   "metadata": {},
   "source": [
    "#### Plot deep survival model architecture"
   ]
  },
  {
   "cell_type": "code",
   "execution_count": 14,
   "metadata": {},
   "outputs": [
    {
     "data": {
      "image/svg+xml": [
       "<?xml version=\"1.0\" encoding=\"UTF-8\" standalone=\"no\"?>\n",
       "<!DOCTYPE svg PUBLIC \"-//W3C//DTD SVG 1.1//EN\"\n",
       " \"http://www.w3.org/Graphics/SVG/1.1/DTD/svg11.dtd\">\n",
       "<!-- Generated by graphviz version 2.40.1 (20161225.0304)\n",
       " -->\n",
       "<!-- Title: deepsurv_model Pages: 1 -->\n",
       "<svg width=\"186pt\" height=\"451pt\"\n",
       " viewBox=\"0.00 0.00 186.00 451.00\" xmlns=\"http://www.w3.org/2000/svg\" xmlns:xlink=\"http://www.w3.org/1999/xlink\">\n",
       "<g id=\"graph0\" class=\"graph\" transform=\"scale(1 1) rotate(0) translate(4 447)\">\n",
       "<title>deepsurv_model</title>\n",
       "<polygon fill=\"#ffffff\" stroke=\"transparent\" points=\"-4,4 -4,-447 182,-447 182,4 -4,4\"/>\n",
       "<!-- Input1 -->\n",
       "<g id=\"node1\" class=\"node\">\n",
       "<title>Input1</title>\n",
       "<polygon fill=\"#3288bd\" fill-opacity=\"0.250980\" stroke=\"#3288bd\" points=\"28.5,-420.5 28.5,-442.5 149.5,-442.5 149.5,-420.5 28.5,-420.5\"/>\n",
       "<text text-anchor=\"middle\" x=\"89\" y=\"-427.8\" font-family=\"Helvetica,sans-Serif\" font-size=\"14.00\" fill=\"#000000\">Input1(input)</text>\n",
       "</g>\n",
       "<!-- F.C.1 -->\n",
       "<g id=\"node2\" class=\"node\">\n",
       "<title>F.C.1</title>\n",
       "<polygon fill=\"#ffffbf\" fill-opacity=\"0.250980\" stroke=\"#aeae82\" points=\"26.5,-350.5 26.5,-372.5 151.5,-372.5 151.5,-350.5 26.5,-350.5\"/>\n",
       "<text text-anchor=\"middle\" x=\"89\" y=\"-357.8\" font-family=\"Helvetica,sans-Serif\" font-size=\"14.00\" fill=\"#000000\">0x13 F.C.1(fc)</text>\n",
       "</g>\n",
       "<!-- Input1&#45;&gt;F.C.1 -->\n",
       "<g id=\"edge1\" class=\"edge\">\n",
       "<title>Input1&#45;&gt;F.C.1</title>\n",
       "<path fill=\"none\" stroke=\"#5677f3\" d=\"M89,-420.2533C89,-410.3113 89,-395.5277 89,-383.2776\"/>\n",
       "<polygon fill=\"#5677f3\" stroke=\"#5677f3\" points=\"92.5001,-382.9513 89,-372.9513 85.5001,-382.9514 92.5001,-382.9513\"/>\n",
       "<text text-anchor=\"middle\" x=\"95.5\" y=\"-394\" font-family=\"Helvetica,sans-Serif\" font-size=\"10.00\" fill=\"#000000\"> 0 </text>\n",
       "</g>\n",
       "<!-- B.N.1 -->\n",
       "<g id=\"node3\" class=\"node\">\n",
       "<title>B.N.1</title>\n",
       "<polygon fill=\"#fdae61\" fill-opacity=\"0.250980\" stroke=\"#fdae61\" points=\"0,-280.5 0,-302.5 178,-302.5 178,-280.5 0,-280.5\"/>\n",
       "<text text-anchor=\"middle\" x=\"89\" y=\"-287.8\" font-family=\"Helvetica,sans-Serif\" font-size=\"14.00\" fill=\"#000000\">13 B.N.1(batchnorm)</text>\n",
       "</g>\n",
       "<!-- F.C.1&#45;&gt;B.N.1 -->\n",
       "<g id=\"edge2\" class=\"edge\">\n",
       "<title>F.C.1&#45;&gt;B.N.1</title>\n",
       "<path fill=\"none\" stroke=\"#5677f3\" d=\"M89,-350.2533C89,-340.3113 89,-325.5277 89,-313.2776\"/>\n",
       "<polygon fill=\"#5677f3\" stroke=\"#5677f3\" points=\"92.5001,-312.9513 89,-302.9513 85.5001,-312.9514 92.5001,-312.9513\"/>\n",
       "<text text-anchor=\"middle\" x=\"98.5\" y=\"-324\" font-family=\"Helvetica,sans-Serif\" font-size=\"10.00\" fill=\"#000000\"> 13 </text>\n",
       "</g>\n",
       "<!-- F.C.2 -->\n",
       "<g id=\"node4\" class=\"node\">\n",
       "<title>F.C.2</title>\n",
       "<polygon fill=\"#ffffbf\" fill-opacity=\"0.250980\" stroke=\"#aeae82\" points=\"22,-210.5 22,-232.5 156,-232.5 156,-210.5 22,-210.5\"/>\n",
       "<text text-anchor=\"middle\" x=\"89\" y=\"-217.8\" font-family=\"Helvetica,sans-Serif\" font-size=\"14.00\" fill=\"#000000\">13x13 F.C.2(fc)</text>\n",
       "</g>\n",
       "<!-- B.N.1&#45;&gt;F.C.2 -->\n",
       "<g id=\"edge3\" class=\"edge\">\n",
       "<title>B.N.1&#45;&gt;F.C.2</title>\n",
       "<path fill=\"none\" stroke=\"#5677f3\" d=\"M89,-280.2533C89,-270.3113 89,-255.5277 89,-243.2776\"/>\n",
       "<polygon fill=\"#5677f3\" stroke=\"#5677f3\" points=\"92.5001,-242.9513 89,-232.9513 85.5001,-242.9514 92.5001,-242.9513\"/>\n",
       "<text text-anchor=\"middle\" x=\"98.5\" y=\"-254\" font-family=\"Helvetica,sans-Serif\" font-size=\"10.00\" fill=\"#000000\"> 13 </text>\n",
       "</g>\n",
       "<!-- B.N.2 -->\n",
       "<g id=\"node5\" class=\"node\">\n",
       "<title>B.N.2</title>\n",
       "<polygon fill=\"#fdae61\" fill-opacity=\"0.250980\" stroke=\"#fdae61\" points=\"0,-140.5 0,-162.5 178,-162.5 178,-140.5 0,-140.5\"/>\n",
       "<text text-anchor=\"middle\" x=\"89\" y=\"-147.8\" font-family=\"Helvetica,sans-Serif\" font-size=\"14.00\" fill=\"#000000\">13 B.N.2(batchnorm)</text>\n",
       "</g>\n",
       "<!-- F.C.2&#45;&gt;B.N.2 -->\n",
       "<g id=\"edge4\" class=\"edge\">\n",
       "<title>F.C.2&#45;&gt;B.N.2</title>\n",
       "<path fill=\"none\" stroke=\"#5677f3\" d=\"M89,-210.2533C89,-200.3113 89,-185.5277 89,-173.2776\"/>\n",
       "<polygon fill=\"#5677f3\" stroke=\"#5677f3\" points=\"92.5001,-172.9513 89,-162.9513 85.5001,-172.9514 92.5001,-172.9513\"/>\n",
       "<text text-anchor=\"middle\" x=\"98.5\" y=\"-184\" font-family=\"Helvetica,sans-Serif\" font-size=\"10.00\" fill=\"#000000\"> 13 </text>\n",
       "</g>\n",
       "<!-- F.C.3 -->\n",
       "<g id=\"node6\" class=\"node\">\n",
       "<title>F.C.3</title>\n",
       "<polygon fill=\"#ffffbf\" fill-opacity=\"0.250980\" stroke=\"#aeae82\" points=\"26.5,-70.5 26.5,-92.5 151.5,-92.5 151.5,-70.5 26.5,-70.5\"/>\n",
       "<text text-anchor=\"middle\" x=\"89\" y=\"-77.8\" font-family=\"Helvetica,sans-Serif\" font-size=\"14.00\" fill=\"#000000\">13x1 F.C.3(fc)</text>\n",
       "</g>\n",
       "<!-- B.N.2&#45;&gt;F.C.3 -->\n",
       "<g id=\"edge5\" class=\"edge\">\n",
       "<title>B.N.2&#45;&gt;F.C.3</title>\n",
       "<path fill=\"none\" stroke=\"#5677f3\" d=\"M89,-140.2533C89,-130.3113 89,-115.5277 89,-103.2776\"/>\n",
       "<polygon fill=\"#5677f3\" stroke=\"#5677f3\" points=\"92.5001,-102.9513 89,-92.9513 85.5001,-102.9514 92.5001,-102.9513\"/>\n",
       "<text text-anchor=\"middle\" x=\"98.5\" y=\"-114\" font-family=\"Helvetica,sans-Serif\" font-size=\"10.00\" fill=\"#000000\"> 13 </text>\n",
       "</g>\n",
       "<!-- Survival1 -->\n",
       "<g id=\"node7\" class=\"node\">\n",
       "<title>Survival1</title>\n",
       "<polygon fill=\"#9e0142\" fill-opacity=\"0.250980\" stroke=\"#9e0142\" points=\"2,-.5 2,-22.5 176,-22.5 176,-.5 2,-.5\"/>\n",
       "<text text-anchor=\"middle\" x=\"89\" y=\"-7.8\" font-family=\"Helvetica,sans-Serif\" font-size=\"14.00\" fill=\"#000000\">1 Survival1(survival)</text>\n",
       "</g>\n",
       "<!-- F.C.3&#45;&gt;Survival1 -->\n",
       "<g id=\"edge6\" class=\"edge\">\n",
       "<title>F.C.3&#45;&gt;Survival1</title>\n",
       "<path fill=\"none\" stroke=\"#5677f3\" d=\"M89,-70.2533C89,-60.3113 89,-45.5277 89,-33.2776\"/>\n",
       "<polygon fill=\"#5677f3\" stroke=\"#5677f3\" points=\"92.5001,-32.9513 89,-22.9513 85.5001,-32.9514 92.5001,-32.9513\"/>\n",
       "<text text-anchor=\"middle\" x=\"95.5\" y=\"-44\" font-family=\"Helvetica,sans-Serif\" font-size=\"10.00\" fill=\"#000000\"> 1 </text>\n",
       "</g>\n",
       "</g>\n",
       "</svg>\n"
      ],
      "text/plain": [
       "<graphviz.dot.Digraph at 0x7f68c7751a20>"
      ]
     },
     "execution_count": 14,
     "metadata": {},
     "output_type": "execute_result"
    }
   ],
   "source": [
    "deepSurvModel.plot_network()"
   ]
  },
  {
   "cell_type": "code",
   "execution_count": 15,
   "metadata": {},
   "outputs": [
    {
     "data": {
      "text/html": [
       "<div>\n",
       "<style scoped>\n",
       "    .dataframe tbody tr th:only-of-type {\n",
       "        vertical-align: middle;\n",
       "    }\n",
       "\n",
       "    .dataframe tbody tr th {\n",
       "        vertical-align: top;\n",
       "    }\n",
       "\n",
       "    .dataframe thead th {\n",
       "        text-align: right;\n",
       "    }\n",
       "</style>\n",
       "<table border=\"1\" class=\"dataframe\">\n",
       "  <thead>\n",
       "    <tr style=\"text-align: right;\">\n",
       "      <th></th>\n",
       "      <th>Layer Id</th>\n",
       "      <th>Layer</th>\n",
       "      <th>Type</th>\n",
       "      <th>Kernel Size</th>\n",
       "      <th>Stride</th>\n",
       "      <th>Activation</th>\n",
       "      <th>Output Size</th>\n",
       "      <th>Number of Parameters</th>\n",
       "      <th>FLOPS(forward pass)</th>\n",
       "    </tr>\n",
       "  </thead>\n",
       "  <tbody>\n",
       "    <tr>\n",
       "      <th>0</th>\n",
       "      <td>0</td>\n",
       "      <td>Input1</td>\n",
       "      <td>input</td>\n",
       "      <td></td>\n",
       "      <td></td>\n",
       "      <td>None</td>\n",
       "      <td>0</td>\n",
       "      <td>(0, 0)</td>\n",
       "      <td>0</td>\n",
       "    </tr>\n",
       "    <tr>\n",
       "      <th>1</th>\n",
       "      <td>1</td>\n",
       "      <td>F.C.1</td>\n",
       "      <td>fc</td>\n",
       "      <td>(0, 13)</td>\n",
       "      <td></td>\n",
       "      <td>Identity</td>\n",
       "      <td>13</td>\n",
       "      <td>(0, 0)</td>\n",
       "      <td>0</td>\n",
       "    </tr>\n",
       "    <tr>\n",
       "      <th>2</th>\n",
       "      <td>2</td>\n",
       "      <td>B.N.1</td>\n",
       "      <td>batchnorm</td>\n",
       "      <td></td>\n",
       "      <td></td>\n",
       "      <td>Relu</td>\n",
       "      <td>13</td>\n",
       "      <td>(0, 2)</td>\n",
       "      <td>0</td>\n",
       "    </tr>\n",
       "    <tr>\n",
       "      <th>3</th>\n",
       "      <td>3</td>\n",
       "      <td>F.C.2</td>\n",
       "      <td>fc</td>\n",
       "      <td>(13, 13)</td>\n",
       "      <td></td>\n",
       "      <td>Identity</td>\n",
       "      <td>13</td>\n",
       "      <td>(169, 0)</td>\n",
       "      <td>169</td>\n",
       "    </tr>\n",
       "    <tr>\n",
       "      <th>4</th>\n",
       "      <td>4</td>\n",
       "      <td>B.N.2</td>\n",
       "      <td>batchnorm</td>\n",
       "      <td></td>\n",
       "      <td></td>\n",
       "      <td>Relu</td>\n",
       "      <td>13</td>\n",
       "      <td>(0, 2)</td>\n",
       "      <td>0</td>\n",
       "    </tr>\n",
       "    <tr>\n",
       "      <th>5</th>\n",
       "      <td>5</td>\n",
       "      <td>F.C.3</td>\n",
       "      <td>fc</td>\n",
       "      <td>(13, 1)</td>\n",
       "      <td></td>\n",
       "      <td>Identity</td>\n",
       "      <td>1</td>\n",
       "      <td>(13, 0)</td>\n",
       "      <td>13</td>\n",
       "    </tr>\n",
       "    <tr>\n",
       "      <th>6</th>\n",
       "      <td>6</td>\n",
       "      <td>Survival1</td>\n",
       "      <td>survival</td>\n",
       "      <td></td>\n",
       "      <td></td>\n",
       "      <td>None</td>\n",
       "      <td>1</td>\n",
       "      <td>(0, 0)</td>\n",
       "      <td>0</td>\n",
       "    </tr>\n",
       "    <tr>\n",
       "      <th>7</th>\n",
       "      <td></td>\n",
       "      <td></td>\n",
       "      <td></td>\n",
       "      <td></td>\n",
       "      <td></td>\n",
       "      <td></td>\n",
       "      <td></td>\n",
       "      <td>Total number of parameters</td>\n",
       "      <td>Total FLOPS</td>\n",
       "    </tr>\n",
       "    <tr>\n",
       "      <th>8</th>\n",
       "      <td>Summary</td>\n",
       "      <td></td>\n",
       "      <td></td>\n",
       "      <td></td>\n",
       "      <td></td>\n",
       "      <td></td>\n",
       "      <td></td>\n",
       "      <td>186</td>\n",
       "      <td>182</td>\n",
       "    </tr>\n",
       "  </tbody>\n",
       "</table>\n",
       "</div>"
      ],
      "text/plain": [
       "  Layer Id      Layer       Type Kernel Size Stride Activation Output Size  \\\n",
       "0        0     Input1      input                          None           0   \n",
       "1        1      F.C.1         fc     (0, 13)          Identity          13   \n",
       "2        2      B.N.1  batchnorm                          Relu          13   \n",
       "3        3      F.C.2         fc    (13, 13)          Identity          13   \n",
       "4        4      B.N.2  batchnorm                          Relu          13   \n",
       "5        5      F.C.3         fc     (13, 1)          Identity           1   \n",
       "6        6  Survival1   survival                          None           1   \n",
       "7                                                                            \n",
       "8  Summary                                                                   \n",
       "\n",
       "         Number of Parameters FLOPS(forward pass)  \n",
       "0                      (0, 0)                   0  \n",
       "1                      (0, 0)                   0  \n",
       "2                      (0, 2)                   0  \n",
       "3                    (169, 0)                 169  \n",
       "4                      (0, 2)                   0  \n",
       "5                     (13, 0)                  13  \n",
       "6                      (0, 0)                   0  \n",
       "7  Total number of parameters         Total FLOPS  \n",
       "8                         186                 182  "
      ]
     },
     "execution_count": 15,
     "metadata": {},
     "output_type": "execute_result"
    }
   ],
   "source": [
    "deepSurvModel.print_summary()"
   ]
  },
  {
   "cell_type": "markdown",
   "metadata": {},
   "source": [
    "### 4.3 Train deep survival model <a name=\"model_training\"></a>"
   ]
  },
  {
   "cell_type": "markdown",
   "metadata": {},
   "source": [
    "#### Specify  the momentum SGD optimizer and a learning rate scheduler"
   ]
  },
  {
   "cell_type": "code",
   "execution_count": 16,
   "metadata": {},
   "outputs": [
    {
     "name": "stdout",
     "output_type": "stream",
     "text": [
      "The following argument(s) learning_rate, gamma, step_size, power are overwritten by the according arguments specified in lr_scheduler.\n"
     ]
    }
   ],
   "source": [
    "lr_scheduler = ReduceLROnPlateau(conn=s, cool_down_iters=3, gamma=0.8, learning_rate=0.001, patience=5)\n",
    "solver = MomentumSolver(lr_scheduler=lr_scheduler,\n",
    "                        momentum=0.9,\n",
    "                        clip_grad_max = 100,\n",
    "                        clip_grad_min = -100)\n",
    "optimizer = Optimizer(algorithm=solver, mini_batch_size=400, log_level=2, max_epochs=100, reg_l2=0.001)"
   ]
  },
  {
   "cell_type": "markdown",
   "metadata": {},
   "source": [
    "####  Train deep survival model with momentum SGD"
   ]
  },
  {
   "cell_type": "code",
   "execution_count": 17,
   "metadata": {},
   "outputs": [
    {
     "name": "stdout",
     "output_type": "stream",
     "text": [
      "deepsurv_model\n",
      "NOTE: Training from scratch.\n",
      "NOTE:  Synchronous mode is enabled.\n",
      "NOTE:  The total number of parameters is 482.\n",
      "NOTE:  The approximate memory cost is 1.00 MB.\n",
      "NOTE:  Loading weights cost       0.00 (s).\n",
      "NOTE:  Initializing each layer cost       0.01 (s).\n",
      "NOTE:  The total number of threads on each worker is 2.\n",
      "NOTE:  The total mini-batch size per thread on each worker is 400.\n",
      "NOTE:  The maximum mini-batch size across all workers for the synchronous mode is 800.\n",
      "NOTE:  Target variable: y\n",
      "NOTE:  Number of input variables:     8\n",
      "NOTE:  Number of nominal input variables:      2\n",
      "NOTE:  Number of numeric input variables:      6\n",
      "NOTE:  Epoch Learning Rate        Loss   Time(s)\n",
      "NOTE:  0         0.001           1.158     0.03\n",
      "NOTE:  1         0.001           1.134     0.03\n",
      "NOTE:  2         0.001           1.079     0.03\n",
      "NOTE:  3         0.001            1.08     0.03\n",
      "NOTE:  4         0.001            1.09     0.03\n",
      "NOTE:  5         0.001           1.055     0.03\n",
      "NOTE:  6         0.001            1.05     0.03\n",
      "NOTE:  7         0.001           1.028     0.03\n",
      "NOTE:  8         0.001           1.036     0.03\n",
      "NOTE:  9         0.001           1.048     0.03\n",
      "NOTE:  10        0.001           1.037     0.03\n",
      "NOTE:  11        0.001           1.022     0.03\n",
      "NOTE:  12        0.001           1.013     0.03\n",
      "NOTE:  13        0.001          0.9981     0.03\n",
      "NOTE:  14        0.001           1.026     0.03\n",
      "NOTE:  15        0.001           1.013     0.03\n",
      "NOTE:  16        0.001           1.022     0.03\n",
      "NOTE:  17        0.001           1.002     0.03\n",
      "NOTE:  18        0.001           1.011     0.03\n",
      "NOTE:  19        0.001          0.9903     0.03\n",
      "NOTE:  20        0.001          0.9888     0.03\n",
      "NOTE:  21        0.001           0.984     0.03\n",
      "NOTE:  22        0.001          0.9895     0.03\n",
      "NOTE:  23        0.001          0.9548     0.03\n",
      "NOTE:  24        0.001           0.963     0.03\n",
      "NOTE:  25        0.001           1.008     0.03\n",
      "NOTE:  26        0.001          0.9545     0.03\n",
      "NOTE:  27        0.001          0.9752     0.03\n",
      "NOTE:  28        0.001          0.9538     0.03\n",
      "NOTE:  29        0.001          0.9375     0.03\n",
      "NOTE:  30        0.001          0.9551     0.03\n",
      "NOTE:  31        0.001          0.9578     0.03\n",
      "NOTE:  32        0.001          0.9499     0.03\n",
      "NOTE:  33        0.001           0.962     0.03\n",
      "NOTE:  34        0.001          0.9528     0.03\n",
      "NOTE:  35        0.001          0.9514     0.03\n",
      "NOTE:  36       0.0008          0.9482     0.03\n",
      "NOTE:  37       0.0008           0.979     0.03\n",
      "NOTE:  38       0.0008           0.939     0.03\n",
      "NOTE:  39       0.0008          0.9395     0.03\n",
      "NOTE:  40       0.0008          0.9594     0.03\n",
      "NOTE:  41       0.0008          0.9764     0.03\n",
      "NOTE:  42       0.0008          0.9431     0.03\n",
      "NOTE:  43       0.0008           0.906     0.03\n",
      "NOTE:  44       0.0008          0.9522     0.03\n",
      "NOTE:  45       0.0008          0.9609     0.03\n",
      "NOTE:  46       0.0008          0.9194     0.03\n",
      "NOTE:  47       0.0008           0.902     0.03\n",
      "NOTE:  48       0.0008          0.9271     0.03\n",
      "NOTE:  49       0.0008          0.9575     0.03\n",
      "NOTE:  50       0.0008          0.9402     0.03\n",
      "NOTE:  51       0.0008          0.9242     0.03\n",
      "NOTE:  52       0.0008          0.9513     0.03\n",
      "NOTE:  53       0.0008          0.9003     0.03\n",
      "NOTE:  54       0.0008          0.9136     0.03\n",
      "NOTE:  55       0.0008          0.9291     0.03\n",
      "NOTE:  56       0.0008          0.9517     0.03\n",
      "NOTE:  57       0.0008          0.9385     0.03\n",
      "NOTE:  58       0.0008           0.942     0.03\n",
      "NOTE:  59       0.0008          0.9128     0.03\n",
      "NOTE:  60       0.0006          0.9139     0.03\n",
      "NOTE:  61       0.0006          0.9277     0.03\n",
      "NOTE:  62       0.0006          0.9409     0.03\n",
      "NOTE:  63       0.0006          0.9395     0.03\n",
      "NOTE:  64       0.0006          0.8977     0.03\n",
      "NOTE:  65       0.0006          0.9274     0.03\n",
      "NOTE:  66       0.0006          0.9586     0.03\n",
      "NOTE:  67       0.0006          0.9178     0.03\n",
      "NOTE:  68       0.0006          0.9225     0.03\n",
      "NOTE:  69       0.0006           0.902     0.03\n",
      "NOTE:  70       0.0006           0.932     0.03\n",
      "NOTE:  71       0.0005          0.9003     0.03\n",
      "NOTE:  72       0.0005          0.9088     0.03\n",
      "NOTE:  73       0.0005          0.9409     0.03\n",
      "NOTE:  74       0.0005          0.9443     0.03\n",
      "NOTE:  75       0.0005          0.9317     0.03\n",
      "NOTE:  76       0.0005          0.9237     0.03\n",
      "NOTE:  77       0.0005          0.9012     0.03\n",
      "NOTE:  78       0.0005          0.9022     0.03\n",
      "NOTE:  79       0.0005          0.9023     0.03\n",
      "NOTE:  80       0.0004          0.9227     0.03\n",
      "NOTE:  81       0.0004          0.8929     0.03\n",
      "NOTE:  82       0.0004          0.9081     0.03\n",
      "NOTE:  83       0.0004           0.907     0.03\n",
      "NOTE:  84       0.0004          0.9371     0.03\n",
      "NOTE:  85       0.0004          0.9308     0.03\n",
      "NOTE:  86       0.0004          0.9279     0.03\n",
      "NOTE:  87       0.0004           0.911     0.03\n",
      "NOTE:  88       0.0004          0.9469     0.03\n",
      "NOTE:  89       0.0003          0.9298     0.03\n",
      "NOTE:  90       0.0003          0.8729     0.02\n",
      "NOTE:  91       0.0003          0.8862     0.03\n",
      "NOTE:  92       0.0003          0.8862     0.02\n",
      "NOTE:  93       0.0003          0.8816     0.03\n",
      "NOTE:  94       0.0003          0.9698     0.03\n",
      "NOTE:  95       0.0003          0.9316     0.02\n",
      "NOTE:  96       0.0003           0.916     0.03\n",
      "NOTE:  97       0.0003          0.9072     0.03\n",
      "NOTE:  98       0.0003          0.9239     0.03\n",
      "NOTE:  99       0.0003          0.9147     0.02\n",
      "NOTE:  The optimization reached the maximum number of epochs.\n",
      "NOTE:  The total time is       2.65 (s).\n"
     ]
    }
   ],
   "source": [
    "print(deepSurvModel.model_name)\n",
    "deepsurvTrain_res = deepSurvModel.fit(data=trainTbl,\n",
    "                                      data_specs=[dict(layer='input1',type='numnom', data=inputVars,nominals=nominals),\n",
    "                                                  dict(layer='survival1',type='numnom',data='y')],\n",
    "                                      n_threads= 2,\n",
    "                                      record_seed=13309,\n",
    "                                      optimizer=optimizer)"
   ]
  },
  {
   "cell_type": "markdown",
   "metadata": {},
   "source": [
    "#### Visualize training loss history to check model convergence"
   ]
  },
  {
   "cell_type": "code",
   "execution_count": 18,
   "metadata": {},
   "outputs": [
    {
     "data": {
      "image/png": "[encoded data removed]",
      "text/plain": [
       "<Figure size 432x288 with 1 Axes>"
      ]
     },
     "metadata": {
      "needs_background": "light"
     },
     "output_type": "display_data"
    }
   ],
   "source": [
    "plt.plot(deepsurvTrain_res[\"OptIterHistory\"][[\"Loss\"]])\n",
    "plt.show()"
   ]
  },
  {
   "cell_type": "markdown",
   "metadata": {},
   "source": [
    "### 4.4 Build [Cox proportional hazards model](https://en.wikipedia.org/wiki/Proportional_hazards_model) <a id=\"build-cox\"></a>\n",
    "The Cox proportional hazards model is of the same form, except the risk score function is not estimated by a neural network. Instead, linear features are used. Thus, we can model the Cox proportional hazards model using a neural network with a single dense layer with identity activation function then feeding the results into the Survival layer."
   ]
  },
  {
   "cell_type": "code",
   "execution_count": 19,
   "metadata": {},
   "outputs": [
    {
     "name": "stdout",
     "output_type": "stream",
     "text": [
      "NOTE: Input layer added.\n",
      "NOTE: Fully-connected layer added.\n",
      "NOTE: Survival layer added.\n",
      "NOTE: Model compiled successfully.\n"
     ]
    }
   ],
   "source": [
    "modelName='cox_model';\n",
    "coxModel = Sequential(s, model_table=modelName)\n",
    "coxModel.add(InputLayer(std='STD'))\n",
    "coxModel.add(Dense(n=1, act='identity', include_bias=False))\n",
    "coxModel.add(Survival())"
   ]
  },
  {
   "cell_type": "code",
   "execution_count": 20,
   "metadata": {},
   "outputs": [
    {
     "data": {
      "image/svg+xml": [
       "<?xml version=\"1.0\" encoding=\"UTF-8\" standalone=\"no\"?>\n",
       "<!DOCTYPE svg PUBLIC \"-//W3C//DTD SVG 1.1//EN\"\n",
       " \"http://www.w3.org/Graphics/SVG/1.1/DTD/svg11.dtd\">\n",
       "<!-- Generated by graphviz version 2.40.1 (20161225.0304)\n",
       " -->\n",
       "<!-- Title: cox_model Pages: 1 -->\n",
       "<svg width=\"182pt\" height=\"171pt\"\n",
       " viewBox=\"0.00 0.00 182.00 171.00\" xmlns=\"http://www.w3.org/2000/svg\" xmlns:xlink=\"http://www.w3.org/1999/xlink\">\n",
       "<g id=\"graph0\" class=\"graph\" transform=\"scale(1 1) rotate(0) translate(4 167)\">\n",
       "<title>cox_model</title>\n",
       "<polygon fill=\"#ffffff\" stroke=\"transparent\" points=\"-4,4 -4,-167 178,-167 178,4 -4,4\"/>\n",
       "<!-- Input1 -->\n",
       "<g id=\"node1\" class=\"node\">\n",
       "<title>Input1</title>\n",
       "<polygon fill=\"#3288bd\" fill-opacity=\"0.250980\" stroke=\"#3288bd\" points=\"26.5,-140.5 26.5,-162.5 147.5,-162.5 147.5,-140.5 26.5,-140.5\"/>\n",
       "<text text-anchor=\"middle\" x=\"87\" y=\"-147.8\" font-family=\"Helvetica,sans-Serif\" font-size=\"14.00\" fill=\"#000000\">Input1(input)</text>\n",
       "</g>\n",
       "<!-- F.C.1 -->\n",
       "<g id=\"node2\" class=\"node\">\n",
       "<title>F.C.1</title>\n",
       "<polygon fill=\"#ffffbf\" fill-opacity=\"0.250980\" stroke=\"#aeae82\" points=\"29,-70.5 29,-92.5 145,-92.5 145,-70.5 29,-70.5\"/>\n",
       "<text text-anchor=\"middle\" x=\"87\" y=\"-77.8\" font-family=\"Helvetica,sans-Serif\" font-size=\"14.00\" fill=\"#000000\">0x1 F.C.1(fc)</text>\n",
       "</g>\n",
       "<!-- Input1&#45;&gt;F.C.1 -->\n",
       "<g id=\"edge1\" class=\"edge\">\n",
       "<title>Input1&#45;&gt;F.C.1</title>\n",
       "<path fill=\"none\" stroke=\"#5677f3\" d=\"M87,-140.2533C87,-130.3113 87,-115.5277 87,-103.2776\"/>\n",
       "<polygon fill=\"#5677f3\" stroke=\"#5677f3\" points=\"90.5001,-102.9513 87,-92.9513 83.5001,-102.9514 90.5001,-102.9513\"/>\n",
       "<text text-anchor=\"middle\" x=\"93.5\" y=\"-114\" font-family=\"Helvetica,sans-Serif\" font-size=\"10.00\" fill=\"#000000\"> 0 </text>\n",
       "</g>\n",
       "<!-- Survival1 -->\n",
       "<g id=\"node3\" class=\"node\">\n",
       "<title>Survival1</title>\n",
       "<polygon fill=\"#9e0142\" fill-opacity=\"0.250980\" stroke=\"#9e0142\" points=\"0,-.5 0,-22.5 174,-22.5 174,-.5 0,-.5\"/>\n",
       "<text text-anchor=\"middle\" x=\"87\" y=\"-7.8\" font-family=\"Helvetica,sans-Serif\" font-size=\"14.00\" fill=\"#000000\">1 Survival1(survival)</text>\n",
       "</g>\n",
       "<!-- F.C.1&#45;&gt;Survival1 -->\n",
       "<g id=\"edge2\" class=\"edge\">\n",
       "<title>F.C.1&#45;&gt;Survival1</title>\n",
       "<path fill=\"none\" stroke=\"#5677f3\" d=\"M87,-70.2533C87,-60.3113 87,-45.5277 87,-33.2776\"/>\n",
       "<polygon fill=\"#5677f3\" stroke=\"#5677f3\" points=\"90.5001,-32.9513 87,-22.9513 83.5001,-32.9514 90.5001,-32.9513\"/>\n",
       "<text text-anchor=\"middle\" x=\"93.5\" y=\"-44\" font-family=\"Helvetica,sans-Serif\" font-size=\"10.00\" fill=\"#000000\"> 1 </text>\n",
       "</g>\n",
       "</g>\n",
       "</svg>\n"
      ],
      "text/plain": [
       "<graphviz.dot.Digraph at 0x7f68c721ac18>"
      ]
     },
     "execution_count": 20,
     "metadata": {},
     "output_type": "execute_result"
    }
   ],
   "source": [
    "coxModel.plot_network()"
   ]
  },
  {
   "cell_type": "code",
   "execution_count": 21,
   "metadata": {},
   "outputs": [
    {
     "data": {
      "text/html": [
       "<div>\n",
       "<style scoped>\n",
       "    .dataframe tbody tr th:only-of-type {\n",
       "        vertical-align: middle;\n",
       "    }\n",
       "\n",
       "    .dataframe tbody tr th {\n",
       "        vertical-align: top;\n",
       "    }\n",
       "\n",
       "    .dataframe thead th {\n",
       "        text-align: right;\n",
       "    }\n",
       "</style>\n",
       "<table border=\"1\" class=\"dataframe\">\n",
       "  <thead>\n",
       "    <tr style=\"text-align: right;\">\n",
       "      <th></th>\n",
       "      <th>Layer Id</th>\n",
       "      <th>Layer</th>\n",
       "      <th>Type</th>\n",
       "      <th>Kernel Size</th>\n",
       "      <th>Stride</th>\n",
       "      <th>Activation</th>\n",
       "      <th>Output Size</th>\n",
       "      <th>Number of Parameters</th>\n",
       "      <th>FLOPS(forward pass)</th>\n",
       "    </tr>\n",
       "  </thead>\n",
       "  <tbody>\n",
       "    <tr>\n",
       "      <th>0</th>\n",
       "      <td>0</td>\n",
       "      <td>Input1</td>\n",
       "      <td>input</td>\n",
       "      <td></td>\n",
       "      <td></td>\n",
       "      <td>None</td>\n",
       "      <td>0</td>\n",
       "      <td>(0, 0)</td>\n",
       "      <td>0</td>\n",
       "    </tr>\n",
       "    <tr>\n",
       "      <th>1</th>\n",
       "      <td>1</td>\n",
       "      <td>F.C.1</td>\n",
       "      <td>fc</td>\n",
       "      <td>(0, 1)</td>\n",
       "      <td></td>\n",
       "      <td>Identity</td>\n",
       "      <td>1</td>\n",
       "      <td>(0, 0)</td>\n",
       "      <td>0</td>\n",
       "    </tr>\n",
       "    <tr>\n",
       "      <th>2</th>\n",
       "      <td>2</td>\n",
       "      <td>Survival1</td>\n",
       "      <td>survival</td>\n",
       "      <td></td>\n",
       "      <td></td>\n",
       "      <td>None</td>\n",
       "      <td>1</td>\n",
       "      <td>(0, 0)</td>\n",
       "      <td>0</td>\n",
       "    </tr>\n",
       "    <tr>\n",
       "      <th>3</th>\n",
       "      <td></td>\n",
       "      <td></td>\n",
       "      <td></td>\n",
       "      <td></td>\n",
       "      <td></td>\n",
       "      <td></td>\n",
       "      <td></td>\n",
       "      <td>Total number of parameters</td>\n",
       "      <td>Total FLOPS</td>\n",
       "    </tr>\n",
       "    <tr>\n",
       "      <th>4</th>\n",
       "      <td>Summary</td>\n",
       "      <td></td>\n",
       "      <td></td>\n",
       "      <td></td>\n",
       "      <td></td>\n",
       "      <td></td>\n",
       "      <td></td>\n",
       "      <td>0</td>\n",
       "      <td>0</td>\n",
       "    </tr>\n",
       "  </tbody>\n",
       "</table>\n",
       "</div>"
      ],
      "text/plain": [
       "  Layer Id      Layer      Type Kernel Size Stride Activation Output Size  \\\n",
       "0        0     Input1     input                          None           0   \n",
       "1        1      F.C.1        fc      (0, 1)          Identity           1   \n",
       "2        2  Survival1  survival                          None           1   \n",
       "3                                                                           \n",
       "4  Summary                                                                  \n",
       "\n",
       "         Number of Parameters FLOPS(forward pass)  \n",
       "0                      (0, 0)                   0  \n",
       "1                      (0, 0)                   0  \n",
       "2                      (0, 0)                   0  \n",
       "3  Total number of parameters         Total FLOPS  \n",
       "4                           0                   0  "
      ]
     },
     "execution_count": 21,
     "metadata": {},
     "output_type": "execute_result"
    }
   ],
   "source": [
    "coxModel.print_summary()"
   ]
  },
  {
   "cell_type": "markdown",
   "metadata": {},
   "source": [
    "### 4.5 Train Cox model <a id=\"train-cox\">\n",
    "For a more accurate comparison of models, we make sure to use the same optimizer and record_seed as the Cox deep survival model."
   ]
  },
  {
   "cell_type": "code",
   "execution_count": 22,
   "metadata": {},
   "outputs": [
    {
     "name": "stdout",
     "output_type": "stream",
     "text": [
      "cox_model\n",
      "NOTE: Training from scratch.\n",
      "NOTE:  Synchronous mode is enabled.\n",
      "NOTE:  The total number of parameters is 19.\n",
      "NOTE:  The approximate memory cost is 1.00 MB.\n",
      "NOTE:  Loading weights cost       0.00 (s).\n",
      "NOTE:  Initializing each layer cost       0.01 (s).\n",
      "NOTE:  The total number of threads on each worker is 2.\n",
      "NOTE:  The total mini-batch size per thread on each worker is 400.\n",
      "NOTE:  The maximum mini-batch size across all workers for the synchronous mode is 800.\n",
      "NOTE:  Target variable: y\n",
      "NOTE:  Number of input variables:     8\n",
      "NOTE:  Number of nominal input variables:      2\n",
      "NOTE:  Number of numeric input variables:      6\n",
      "NOTE:  Epoch Learning Rate        Loss   Time(s)\n",
      "NOTE:  0         0.001            1.19     0.01\n",
      "NOTE:  1         0.001           1.183     0.01\n",
      "NOTE:  2         0.001           1.132     0.01\n",
      "NOTE:  3         0.001           1.137     0.01\n",
      "NOTE:  4         0.001           1.154     0.01\n",
      "NOTE:  5         0.001           1.124     0.01\n",
      "NOTE:  6         0.001           1.133     0.01\n",
      "NOTE:  7         0.001           1.103     0.01\n",
      "NOTE:  8         0.001            1.12     0.01\n",
      "NOTE:  9         0.001           1.137     0.01\n",
      "NOTE:  10        0.001           1.132     0.01\n",
      "NOTE:  11        0.001           1.115     0.01\n",
      "NOTE:  12        0.001           1.108     0.01\n",
      "NOTE:  13        0.001           1.092     0.01\n",
      "NOTE:  14        0.001           1.122     0.01\n",
      "NOTE:  15        0.001           1.114     0.01\n",
      "NOTE:  16        0.001           1.126     0.01\n",
      "NOTE:  17        0.001           1.105     0.01\n",
      "NOTE:  18        0.001           1.119     0.01\n",
      "NOTE:  19        0.001           1.102     0.01\n",
      "NOTE:  20       0.0008           1.099     0.01\n",
      "NOTE:  21       0.0008           1.088     0.01\n",
      "NOTE:  22       0.0008           1.107     0.01\n",
      "NOTE:  23       0.0008           1.069     0.01\n",
      "NOTE:  24       0.0008           1.081     0.01\n",
      "NOTE:  25       0.0008           1.127     0.01\n",
      "NOTE:  26       0.0008           1.076     0.01\n",
      "NOTE:  27       0.0008           1.094     0.01\n",
      "NOTE:  28       0.0008           1.078     0.01\n",
      "NOTE:  29       0.0008           1.063     0.01\n",
      "NOTE:  30       0.0008            1.08     0.01\n",
      "NOTE:  31       0.0008           1.083     0.01\n",
      "NOTE:  32       0.0008           1.078     0.01\n",
      "NOTE:  33       0.0008           1.093     0.01\n",
      "NOTE:  34       0.0008           1.084     0.01\n",
      "NOTE:  35       0.0008           1.084     0.01\n",
      "NOTE:  36       0.0006           1.079     0.01\n",
      "NOTE:  37       0.0006           1.111     0.01\n",
      "NOTE:  38       0.0006           1.065     0.01\n",
      "NOTE:  39       0.0006           1.065     0.01\n",
      "NOTE:  40       0.0006           1.085     0.01\n",
      "NOTE:  41       0.0006           1.108     0.01\n",
      "NOTE:  42       0.0006           1.079     0.01\n",
      "NOTE:  43       0.0006           1.041     0.01\n",
      "NOTE:  44       0.0006           1.098     0.01\n",
      "NOTE:  45       0.0006           1.096     0.01\n",
      "NOTE:  46       0.0006           1.057     0.01\n",
      "NOTE:  47       0.0006            1.04     0.01\n",
      "NOTE:  48       0.0006           1.066     0.01\n",
      "NOTE:  49       0.0006           1.098     0.01\n",
      "NOTE:  50       0.0006           1.074     0.01\n",
      "NOTE:  51       0.0006           1.064     0.01\n",
      "NOTE:  52       0.0006           1.094     0.01\n",
      "NOTE:  53       0.0006            1.04     0.01\n",
      "NOTE:  54       0.0006           1.062     0.01\n",
      "NOTE:  55       0.0006           1.058     0.01\n",
      "NOTE:  56       0.0006           1.088     0.01\n",
      "NOTE:  57       0.0006           1.074     0.01\n",
      "NOTE:  58       0.0006           1.087     0.01\n",
      "NOTE:  59       0.0006           1.051     0.01\n",
      "NOTE:  60       0.0005            1.06     0.01\n",
      "NOTE:  61       0.0005           1.074     0.01\n",
      "NOTE:  62       0.0005           1.081     0.01\n",
      "NOTE:  63       0.0005           1.075     0.01\n",
      "NOTE:  64       0.0005           1.046     0.01\n",
      "NOTE:  65       0.0005           1.067     0.01\n",
      "NOTE:  66       0.0005           1.099     0.01\n",
      "NOTE:  67       0.0005           1.064     0.01\n",
      "NOTE:  68       0.0005           1.062     0.01\n",
      "NOTE:  69       0.0004           1.045     0.01\n",
      "NOTE:  70       0.0004           1.085     0.01\n",
      "NOTE:  71       0.0004           1.049     0.01\n",
      "NOTE:  72       0.0004           1.057     0.01\n",
      "NOTE:  73       0.0004           1.086     0.01\n",
      "NOTE:  74       0.0004           1.086     0.01\n",
      "NOTE:  75       0.0004           1.082     0.01\n",
      "NOTE:  76       0.0004            1.07     0.01\n",
      "NOTE:  77       0.0004            1.05     0.01\n",
      "NOTE:  78       0.0003           1.051     0.01\n",
      "NOTE:  79       0.0003           1.061     0.01\n",
      "NOTE:  80       0.0003           1.075     0.01\n",
      "NOTE:  81       0.0003           1.042     0.01\n",
      "NOTE:  82       0.0003           1.044     0.01\n",
      "NOTE:  83       0.0003           1.054     0.01\n",
      "NOTE:  84       0.0003           1.083     0.01\n",
      "NOTE:  85       0.0003           1.072     0.01\n",
      "NOTE:  86       0.0003           1.072     0.01\n",
      "NOTE:  87       0.0003           1.054     0.01\n",
      "NOTE:  88       0.0003           1.103     0.01\n",
      "NOTE:  89       0.0003           1.077     0.01\n",
      "NOTE:  90       0.0003           1.015     0.01\n",
      "NOTE:  91       0.0003           1.036     0.01\n",
      "NOTE:  92       0.0003           1.042     0.01\n",
      "NOTE:  93       0.0003           1.031     0.01\n",
      "NOTE:  94       0.0003           1.112     0.01\n",
      "NOTE:  95       0.0003           1.087     0.01\n",
      "NOTE:  96       0.0003            1.07     0.01\n",
      "NOTE:  97       0.0002           1.051     0.01\n",
      "NOTE:  98       0.0002           1.072     0.01\n",
      "NOTE:  99       0.0002           1.065     0.01\n",
      "NOTE:  The optimization reached the maximum number of epochs.\n",
      "NOTE:  The total time is       1.26 (s).\n"
     ]
    }
   ],
   "source": [
    "print(coxModel.model_name)\n",
    "coxTrain_res = coxModel.fit(data=trainTbl,\n",
    "                            data_specs=[dict(layer='input1', type='numnom', data=(inputVars), nominals=nominals),\n",
    "                                        dict(layer='survival1', type='numnom', data='y')],\n",
    "                            n_threads= 2,\n",
    "                            record_seed=13309,\n",
    "                            optimizer=optimizer)"
   ]
  },
  {
   "cell_type": "code",
   "execution_count": 23,
   "metadata": {},
   "outputs": [
    {
     "data": {
      "image/png": "[encoded data removed]",
      "text/plain": [
       "<Figure size 432x288 with 1 Axes>"
      ]
     },
     "metadata": {
      "needs_background": "light"
     },
     "output_type": "display_data"
    }
   ],
   "source": [
    "plt.plot(coxTrain_res[\"OptIterHistory\"][[\"Loss\"]])\n",
    "plt.show()"
   ]
  },
  {
   "cell_type": "markdown",
   "metadata": {},
   "source": [
    "## 5. Model Performance and Predictions <a name=\"evaluation\"></a> \n",
    "This section compares the deep survival model performance against the Cox proportional hazards model performance, shows how to identify at-risk employees, and shows how to calculate a survival function for each employee. Further, it shows a comparison of employees from a high risk group and a low risk group and looks into factors that could contribute to employee turnover."
   ]
  },
  {
   "cell_type": "markdown",
   "metadata": {},
   "source": [
    "### 5.1 Overall model predictive performance in terms of C-Index on test data <a id=\"compare-models\"></a>\n",
    "\n",
    "- C-index (Concordance index) is a commonly used metric to evaluate and compare survival model's discriminative power.\n",
    "- It is calculated as the fraction of pairs of observations whose observed and predicted outcomes agree among all possible pairs. That is, the longer the observed survival time is, the higher the predicted survival probability is.\n",
    "- The higher the C-index is, the better the model is."
   ]
  },
  {
   "cell_type": "markdown",
   "metadata": {},
   "source": [
    "#### C-Index for Cox survival model\n",
    "To determine the C-index, we use `model.predict` with parameter `log_level=4`. The C-Index is reported in the log."
   ]
  },
  {
   "cell_type": "code",
   "execution_count": 24,
   "metadata": {},
   "outputs": [
    {
     "name": "stdout",
     "output_type": "stream",
     "text": [
      "NOTE: Due to data distribution, miniBatchSize has been limited to 66.\n",
      "NOTE:  Loading weights cost       0.00 (s).\n",
      "NOTE:  Initializing each layer cost       0.02 (s).\n",
      "NOTE:  Batch nUsed Learning Rate        Loss    C-Index    Correct  Incorrect       Tied   Time(s) (Validation)\n",
      "NOTE:      0  4500        0           0.6436     0.8431  1.741e+06  3.241e+05          0     0.00\n"
     ]
    },
    {
     "data": {
      "text/html": [
       "<div class=\"cas-results-key\"><b>&#167; ScoreInfo</b></div>\n",
       "<div class=\"cas-results-body\">\n",
       "<div>\n",
       "<style scoped>\n",
       "    .dataframe tbody tr th:only-of-type {\n",
       "        vertical-align: middle;\n",
       "    }\n",
       "\n",
       "    .dataframe tbody tr th {\n",
       "        vertical-align: top;\n",
       "    }\n",
       "\n",
       "    .dataframe thead th {\n",
       "        text-align: right;\n",
       "    }\n",
       "</style>\n",
       "<table border=\"1\" class=\"dataframe\">\n",
       "  <thead>\n",
       "    <tr style=\"text-align: right;\">\n",
       "      <th title=\"\"></th>\n",
       "      <th title=\"Descr\">Descr</th>\n",
       "      <th title=\"Value\">Value</th>\n",
       "    </tr>\n",
       "  </thead>\n",
       "  <tbody>\n",
       "    <tr>\n",
       "      <th>0</th>\n",
       "      <td>Number of Observations Read</td>\n",
       "      <td>4500</td>\n",
       "    </tr>\n",
       "    <tr>\n",
       "      <th>1</th>\n",
       "      <td>Number of Observations Used</td>\n",
       "      <td>4500</td>\n",
       "    </tr>\n",
       "    <tr>\n",
       "      <th>2</th>\n",
       "      <td>Loss Error</td>\n",
       "      <td>0.643557</td>\n",
       "    </tr>\n",
       "  </tbody>\n",
       "</table>\n",
       "</div>\n",
       "</div>\n",
       "<div class=\"cas-results-key\"><hr/><b>&#167; CumHazard</b></div>\n",
       "<div class=\"cas-results-body\">\n",
       "<div>\n",
       "<style scoped>\n",
       "    .dataframe tbody tr th:only-of-type {\n",
       "        vertical-align: middle;\n",
       "    }\n",
       "\n",
       "    .dataframe tbody tr th {\n",
       "        vertical-align: top;\n",
       "    }\n",
       "\n",
       "    .dataframe thead th {\n",
       "        text-align: right;\n",
       "    }\n",
       "</style>\n",
       "<table border=\"1\" class=\"dataframe\">\n",
       "  <thead>\n",
       "    <tr style=\"text-align: right;\">\n",
       "      <th title=\"\"></th>\n",
       "      <th title=\"Time\">Time</th>\n",
       "      <th title=\"Cumulative hazard\">CumHaz</th>\n",
       "    </tr>\n",
       "  </thead>\n",
       "  <tbody>\n",
       "    <tr>\n",
       "      <th>0</th>\n",
       "      <td>2.0</td>\n",
       "      <td>0.003163</td>\n",
       "    </tr>\n",
       "    <tr>\n",
       "      <th>1</th>\n",
       "      <td>3.0</td>\n",
       "      <td>0.128793</td>\n",
       "    </tr>\n",
       "    <tr>\n",
       "      <th>2</th>\n",
       "      <td>4.0</td>\n",
       "      <td>0.288978</td>\n",
       "    </tr>\n",
       "    <tr>\n",
       "      <th>3</th>\n",
       "      <td>5.0</td>\n",
       "      <td>0.625230</td>\n",
       "    </tr>\n",
       "    <tr>\n",
       "      <th>4</th>\n",
       "      <td>6.0</td>\n",
       "      <td>0.792087</td>\n",
       "    </tr>\n",
       "  </tbody>\n",
       "</table>\n",
       "</div>\n",
       "</div>\n",
       "<div class=\"cas-results-key\"><hr/><b>&#167; OutputCasTables</b></div>\n",
       "<div class=\"cas-results-body\">\n",
       "<div>\n",
       "<style scoped>\n",
       "    .dataframe tbody tr th:only-of-type {\n",
       "        vertical-align: middle;\n",
       "    }\n",
       "\n",
       "    .dataframe tbody tr th {\n",
       "        vertical-align: top;\n",
       "    }\n",
       "\n",
       "    .dataframe thead th {\n",
       "        text-align: right;\n",
       "    }\n",
       "</style>\n",
       "<table border=\"1\" class=\"dataframe\">\n",
       "  <thead>\n",
       "    <tr style=\"text-align: right;\">\n",
       "      <th title=\"\"></th>\n",
       "      <th title=\"CAS Library\">casLib</th>\n",
       "      <th title=\"Name\">Name</th>\n",
       "      <th title=\"Number of Rows\">Rows</th>\n",
       "      <th title=\"Number of Columns\">Columns</th>\n",
       "      <th title=\"Table\">casTable</th>\n",
       "    </tr>\n",
       "  </thead>\n",
       "  <tbody>\n",
       "    <tr>\n",
       "      <th>0</th>\n",
       "      <td>CASUSER(user)</td>\n",
       "      <td>Valid_Res_BlTz8D</td>\n",
       "      <td>4500</td>\n",
       "      <td>13</td>\n",
       "      <td>CASTable('Valid_Res_BlTz8D', caslib='CASUSER(g...</td>\n",
       "    </tr>\n",
       "  </tbody>\n",
       "</table>\n",
       "</div>\n",
       "</div>\n",
       "<div class=\"cas-output-area\"></div>\n",
       "<p class=\"cas-results-performance\"><small><span class=\"cas-elapsed\">elapsed 0.0388s</span> &#183; <span class=\"cas-user\">user 0.0501s</span> &#183; <span class=\"cas-sys\">sys 0.0685s</span> &#183; <span class=\"cas-memory\">mem 156MB</span></small></p>"
      ],
      "text/plain": [
       "[ScoreInfo]\n",
       "\n",
       "                          Descr         Value\n",
       " 0  Number of Observations Read          4500\n",
       " 1  Number of Observations Used          4500\n",
       " 2                   Loss Error      0.643557\n",
       "\n",
       "[CumHazard]\n",
       "\n",
       "    Time    CumHaz\n",
       " 0   2.0  0.003163\n",
       " 1   3.0  0.128793\n",
       " 2   4.0  0.288978\n",
       " 3   5.0  0.625230\n",
       " 4   6.0  0.792087\n",
       "\n",
       "[OutputCasTables]\n",
       "\n",
       "             casLib              Name  Rows  Columns  \\\n",
       " 0  CASUSER(user)  Valid_Res_BlTz8D  4500       13   \n",
       " \n",
       "                                             casTable  \n",
       " 0  CASTable('Valid_Res_BlTz8D', caslib='CASUSER(g...  \n",
       "\n",
       "+ Elapsed: 0.0388s, user: 0.0501s, sys: 0.0685s, mem: 156mb"
      ]
     },
     "execution_count": 24,
     "metadata": {},
     "output_type": "execute_result"
    }
   ],
   "source": [
    "coxModel.predict(testTbl,buffer_size=10000,log_level=4)"
   ]
  },
  {
   "cell_type": "markdown",
   "metadata": {},
   "source": [
    "#### C-Index for deep survival model"
   ]
  },
  {
   "cell_type": "code",
   "execution_count": 25,
   "metadata": {},
   "outputs": [
    {
     "name": "stdout",
     "output_type": "stream",
     "text": [
      "NOTE: Due to data distribution, miniBatchSize has been limited to 66.\n",
      "NOTE:  Loading weights cost       0.00 (s).\n",
      "NOTE:  Initializing each layer cost       0.01 (s).\n",
      "NOTE:  Batch nUsed Learning Rate        Loss    C-Index    Correct  Incorrect       Tied   Time(s) (Validation)\n",
      "NOTE:      0  4500        0           0.4982      0.921  1.902e+06  1.631e+05          0     0.00\n"
     ]
    },
    {
     "data": {
      "text/html": [
       "<div class=\"cas-results-key\"><b>&#167; ScoreInfo</b></div>\n",
       "<div class=\"cas-results-body\">\n",
       "<div>\n",
       "<style scoped>\n",
       "    .dataframe tbody tr th:only-of-type {\n",
       "        vertical-align: middle;\n",
       "    }\n",
       "\n",
       "    .dataframe tbody tr th {\n",
       "        vertical-align: top;\n",
       "    }\n",
       "\n",
       "    .dataframe thead th {\n",
       "        text-align: right;\n",
       "    }\n",
       "</style>\n",
       "<table border=\"1\" class=\"dataframe\">\n",
       "  <thead>\n",
       "    <tr style=\"text-align: right;\">\n",
       "      <th title=\"\"></th>\n",
       "      <th title=\"Descr\">Descr</th>\n",
       "      <th title=\"Value\">Value</th>\n",
       "    </tr>\n",
       "  </thead>\n",
       "  <tbody>\n",
       "    <tr>\n",
       "      <th>0</th>\n",
       "      <td>Number of Observations Read</td>\n",
       "      <td>4500</td>\n",
       "    </tr>\n",
       "    <tr>\n",
       "      <th>1</th>\n",
       "      <td>Number of Observations Used</td>\n",
       "      <td>4500</td>\n",
       "    </tr>\n",
       "    <tr>\n",
       "      <th>2</th>\n",
       "      <td>Loss Error</td>\n",
       "      <td>0.498225</td>\n",
       "    </tr>\n",
       "  </tbody>\n",
       "</table>\n",
       "</div>\n",
       "</div>\n",
       "<div class=\"cas-results-key\"><hr/><b>&#167; CumHazard</b></div>\n",
       "<div class=\"cas-results-body\">\n",
       "<div>\n",
       "<style scoped>\n",
       "    .dataframe tbody tr th:only-of-type {\n",
       "        vertical-align: middle;\n",
       "    }\n",
       "\n",
       "    .dataframe tbody tr th {\n",
       "        vertical-align: top;\n",
       "    }\n",
       "\n",
       "    .dataframe thead th {\n",
       "        text-align: right;\n",
       "    }\n",
       "</style>\n",
       "<table border=\"1\" class=\"dataframe\">\n",
       "  <thead>\n",
       "    <tr style=\"text-align: right;\">\n",
       "      <th title=\"\"></th>\n",
       "      <th title=\"Time\">Time</th>\n",
       "      <th title=\"Cumulative hazard\">CumHaz</th>\n",
       "    </tr>\n",
       "  </thead>\n",
       "  <tbody>\n",
       "    <tr>\n",
       "      <th>0</th>\n",
       "      <td>2.0</td>\n",
       "      <td>0.000835</td>\n",
       "    </tr>\n",
       "    <tr>\n",
       "      <th>1</th>\n",
       "      <td>3.0</td>\n",
       "      <td>0.030130</td>\n",
       "    </tr>\n",
       "    <tr>\n",
       "      <th>2</th>\n",
       "      <td>4.0</td>\n",
       "      <td>0.099521</td>\n",
       "    </tr>\n",
       "    <tr>\n",
       "      <th>3</th>\n",
       "      <td>5.0</td>\n",
       "      <td>0.280860</td>\n",
       "    </tr>\n",
       "    <tr>\n",
       "      <th>4</th>\n",
       "      <td>6.0</td>\n",
       "      <td>0.401458</td>\n",
       "    </tr>\n",
       "  </tbody>\n",
       "</table>\n",
       "</div>\n",
       "</div>\n",
       "<div class=\"cas-results-key\"><hr/><b>&#167; OutputCasTables</b></div>\n",
       "<div class=\"cas-results-body\">\n",
       "<div>\n",
       "<style scoped>\n",
       "    .dataframe tbody tr th:only-of-type {\n",
       "        vertical-align: middle;\n",
       "    }\n",
       "\n",
       "    .dataframe tbody tr th {\n",
       "        vertical-align: top;\n",
       "    }\n",
       "\n",
       "    .dataframe thead th {\n",
       "        text-align: right;\n",
       "    }\n",
       "</style>\n",
       "<table border=\"1\" class=\"dataframe\">\n",
       "  <thead>\n",
       "    <tr style=\"text-align: right;\">\n",
       "      <th title=\"\"></th>\n",
       "      <th title=\"CAS Library\">casLib</th>\n",
       "      <th title=\"Name\">Name</th>\n",
       "      <th title=\"Number of Rows\">Rows</th>\n",
       "      <th title=\"Number of Columns\">Columns</th>\n",
       "      <th title=\"Table\">casTable</th>\n",
       "    </tr>\n",
       "  </thead>\n",
       "  <tbody>\n",
       "    <tr>\n",
       "      <th>0</th>\n",
       "      <td>CASUSER(user)</td>\n",
       "      <td>Valid_Res_3XyZQr</td>\n",
       "      <td>4500</td>\n",
       "      <td>13</td>\n",
       "      <td>CASTable('Valid_Res_3XyZQr', caslib='CASUSER(g...</td>\n",
       "    </tr>\n",
       "  </tbody>\n",
       "</table>\n",
       "</div>\n",
       "</div>\n",
       "<div class=\"cas-output-area\"></div>\n",
       "<p class=\"cas-results-performance\"><small><span class=\"cas-elapsed\">elapsed 0.0369s</span> &#183; <span class=\"cas-user\">user 0.0709s</span> &#183; <span class=\"cas-sys\">sys 0.0444s</span> &#183; <span class=\"cas-memory\">mem 156MB</span></small></p>"
      ],
      "text/plain": [
       "[ScoreInfo]\n",
       "\n",
       "                          Descr         Value\n",
       " 0  Number of Observations Read          4500\n",
       " 1  Number of Observations Used          4500\n",
       " 2                   Loss Error      0.498225\n",
       "\n",
       "[CumHazard]\n",
       "\n",
       "    Time    CumHaz\n",
       " 0   2.0  0.000835\n",
       " 1   3.0  0.030130\n",
       " 2   4.0  0.099521\n",
       " 3   5.0  0.280860\n",
       " 4   6.0  0.401458\n",
       "\n",
       "[OutputCasTables]\n",
       "\n",
       "             casLib              Name  Rows  Columns  \\\n",
       " 0  CASUSER(user)  Valid_Res_3XyZQr  4500       13   \n",
       " \n",
       "                                             casTable  \n",
       " 0  CASTable('Valid_Res_3XyZQr', caslib='CASUSER(g...  \n",
       "\n",
       "+ Elapsed: 0.0369s, user: 0.0709s, sys: 0.0444s, mem: 156mb"
      ]
     },
     "execution_count": 25,
     "metadata": {},
     "output_type": "execute_result"
    }
   ],
   "source": [
    "deepSurvModel.predict(testTbl,buffer_size=10000,log_level=4)"
   ]
  },
  {
   "cell_type": "markdown",
   "metadata": {},
   "source": [
    "### <center> Comparison of model predictive performance on test data in terms of C-Index</center>\n",
    "| Model | C-Index |\n",
    "| --- | --- | \n",
    "| Cox Model | 0.85 |\n",
    "| Deep Survival Model | 0.92 |"
   ]
  },
  {
   "cell_type": "markdown",
   "metadata": {},
   "source": [
    "The summary table above shows that the deep survival model provides more accurate prediction than the Cox model in terms of C-Index."
   ]
  },
  {
   "cell_type": "markdown",
   "metadata": {},
   "source": [
    "### 5.2 Understand the prediction from the survival models <a id=\"understand-models\"></a>\n",
    "Both the deep survival model and the Cox proportion model assume that \n",
    "the [hazard function](https://en.wikipedia.org/wiki/Survival_analysis#Hazard_function_and_cumulative_hazard_function) for an individual with input $x$ is a product of two components:\n",
    "$$\\lambda(t | x) = \\lambda_{0}(t)  e^{h(x)},$$\n",
    "where $\\lambda_0(t)$ is a baseline hazard function, and $r(x)=e^{h(x)}$ is a risk score.\n",
    "\n",
    "Since the  baseline hazard function $\\lambda_0(t)$ is the same for all individuals, a higher risk score $r(x)$ leads to a higher hazard rate $\\lambda(t | x)$.\n",
    "\n",
    "The prediction from deep survival models is the risk score."
   ]
  },
  {
   "cell_type": "markdown",
   "metadata": {},
   "source": [
    "### 5.3 Predict the employees who are likely to quit: <a id=\"predict-employees\"><a>\n",
    "\n",
    "After we train a deep survival model, we can predict risk scores for any employee. The risk scores can help predict the employees who are likely quit.\n",
    "1. Predict the risk scores directly for an input data set\n",
    "2. Identify high-risk individuals in the input data set"
   ]
  },
  {
   "cell_type": "markdown",
   "metadata": {},
   "source": [
    "#### Step 1: Predict risk scores for the test data\n",
    "The predicted risk scores are reported in the table as \\_DL_Pred_."
   ]
  },
  {
   "cell_type": "code",
   "execution_count": 26,
   "metadata": {},
   "outputs": [
    {
     "data": {
      "text/html": [
       "<div>\n",
       "<style scoped>\n",
       "    .dataframe tbody tr th:only-of-type {\n",
       "        vertical-align: middle;\n",
       "    }\n",
       "\n",
       "    .dataframe tbody tr th {\n",
       "        vertical-align: top;\n",
       "    }\n",
       "\n",
       "    .dataframe thead th {\n",
       "        text-align: right;\n",
       "    }\n",
       "</style>\n",
       "<table border=\"1\" class=\"dataframe\"><caption>Selected Rows from Table VALID_RES_3XYZQR</caption>\n",
       "  <thead>\n",
       "    <tr style=\"text-align: right;\">\n",
       "      <th title=\"\"></th>\n",
       "      <th title=\"satisfaction_level\">satisfaction_level</th>\n",
       "      <th title=\"last_evaluation\">last_evaluation</th>\n",
       "      <th title=\"number_projects\">number_projects</th>\n",
       "      <th title=\"average_montly_hours\">average_montly_hours</th>\n",
       "      <th title=\"time_spend_company\">time_spend_company</th>\n",
       "      <th title=\"work_accident\">work_accident</th>\n",
       "      <th title=\"left\">left</th>\n",
       "      <th title=\"promotion_last_5years\">promotion_last_5years</th>\n",
       "      <th title=\"department\">department</th>\n",
       "      <th title=\"salary\">salary</th>\n",
       "      <th title=\"y\">y</th>\n",
       "      <th title=\"id\">id</th>\n",
       "      <th title=\"_DL_Pred_\">_DL_Pred_</th>\n",
       "    </tr>\n",
       "  </thead>\n",
       "  <tbody>\n",
       "    <tr>\n",
       "      <th>0</th>\n",
       "      <td>0.15</td>\n",
       "      <td>0.74</td>\n",
       "      <td>6.0</td>\n",
       "      <td>144.0</td>\n",
       "      <td>7.0</td>\n",
       "      <td>0.0</td>\n",
       "      <td>0.0</td>\n",
       "      <td>1.0</td>\n",
       "      <td>management</td>\n",
       "      <td>high</td>\n",
       "      <td>-7.0</td>\n",
       "      <td>0.0</td>\n",
       "      <td>0.083691</td>\n",
       "    </tr>\n",
       "    <tr>\n",
       "      <th>1</th>\n",
       "      <td>0.09</td>\n",
       "      <td>0.83</td>\n",
       "      <td>6.0</td>\n",
       "      <td>282.0</td>\n",
       "      <td>4.0</td>\n",
       "      <td>0.0</td>\n",
       "      <td>1.0</td>\n",
       "      <td>0.0</td>\n",
       "      <td>technical</td>\n",
       "      <td>medium</td>\n",
       "      <td>4.0</td>\n",
       "      <td>1.0</td>\n",
       "      <td>5.298207</td>\n",
       "    </tr>\n",
       "    <tr>\n",
       "      <th>2</th>\n",
       "      <td>0.45</td>\n",
       "      <td>0.46</td>\n",
       "      <td>2.0</td>\n",
       "      <td>130.0</td>\n",
       "      <td>3.0</td>\n",
       "      <td>0.0</td>\n",
       "      <td>1.0</td>\n",
       "      <td>0.0</td>\n",
       "      <td>technical</td>\n",
       "      <td>low</td>\n",
       "      <td>3.0</td>\n",
       "      <td>2.0</td>\n",
       "      <td>37.321999</td>\n",
       "    </tr>\n",
       "    <tr>\n",
       "      <th>3</th>\n",
       "      <td>0.46</td>\n",
       "      <td>0.55</td>\n",
       "      <td>2.0</td>\n",
       "      <td>145.0</td>\n",
       "      <td>3.0</td>\n",
       "      <td>0.0</td>\n",
       "      <td>1.0</td>\n",
       "      <td>0.0</td>\n",
       "      <td>technical</td>\n",
       "      <td>low</td>\n",
       "      <td>3.0</td>\n",
       "      <td>3.0</td>\n",
       "      <td>24.625250</td>\n",
       "    </tr>\n",
       "    <tr>\n",
       "      <th>4</th>\n",
       "      <td>0.45</td>\n",
       "      <td>0.87</td>\n",
       "      <td>2.0</td>\n",
       "      <td>268.0</td>\n",
       "      <td>4.0</td>\n",
       "      <td>1.0</td>\n",
       "      <td>0.0</td>\n",
       "      <td>0.0</td>\n",
       "      <td>IT</td>\n",
       "      <td>low</td>\n",
       "      <td>-4.0</td>\n",
       "      <td>4.0</td>\n",
       "      <td>0.447063</td>\n",
       "    </tr>\n",
       "  </tbody>\n",
       "</table>\n",
       "</div>"
      ],
      "text/plain": [
       "Selected Rows from Table VALID_RES_3XYZQR\n",
       "\n",
       "   satisfaction_level  last_evaluation  number_projects  average_montly_hours  \\\n",
       "0                0.15             0.74              6.0                 144.0   \n",
       "1                0.09             0.83              6.0                 282.0   \n",
       "2                0.45             0.46              2.0                 130.0   \n",
       "3                0.46             0.55              2.0                 145.0   \n",
       "4                0.45             0.87              2.0                 268.0   \n",
       "\n",
       "   time_spend_company  work_accident  left  promotion_last_5years  department  \\\n",
       "0                 7.0            0.0   0.0                    1.0  management   \n",
       "1                 4.0            0.0   1.0                    0.0   technical   \n",
       "2                 3.0            0.0   1.0                    0.0   technical   \n",
       "3                 3.0            0.0   1.0                    0.0   technical   \n",
       "4                 4.0            1.0   0.0                    0.0          IT   \n",
       "\n",
       "   salary    y   id  _DL_Pred_  \n",
       "0    high -7.0  0.0   0.083691  \n",
       "1  medium  4.0  1.0   5.298207  \n",
       "2     low  3.0  2.0  37.321999  \n",
       "3     low  3.0  3.0  24.625250  \n",
       "4     low -4.0  4.0   0.447063  "
      ]
     },
     "execution_count": 26,
     "metadata": {},
     "output_type": "execute_result"
    }
   ],
   "source": [
    "surv_model = deepSurvModel\n",
    "surv_model.predict(testTbl)\n",
    "predicted_risk = surv_model.valid_res_tbl\n",
    "predicted_risk.head()"
   ]
  },
  {
   "cell_type": "code",
   "execution_count": 27,
   "metadata": {},
   "outputs": [
    {
     "data": {
      "image/png": "[encoded data removed]",
      "text/plain": [
       "<Figure size 432x288 with 1 Axes>"
      ]
     },
     "metadata": {
      "needs_background": "light"
     },
     "output_type": "display_data"
    }
   ],
   "source": [
    "predicted_risk[\"_DL_Pred_\"].hist(bins=10)\n",
    "plt.title(\"Histogram of predicted risk scores\")\n",
    "plt.show()"
   ]
  },
  {
   "cell_type": "markdown",
   "metadata": {},
   "source": [
    "#### Step 2: Identify high-risk individuals\n",
    "Employees can be classified into two groups in terms of predicted risk scores:\n",
    "1. High risk group with score>10 and low risk group with score<10. \n",
    "2. Employees in the high risk group are more likely quit than those in the low risk group"
   ]
  },
  {
   "cell_type": "code",
   "execution_count": 28,
   "metadata": {},
   "outputs": [
    {
     "name": "stdout",
     "output_type": "stream",
     "text": [
      "An employee's id from the low risk group in the test data set: 6\n",
      "An employee's id from the high risk group in the test data set: 3\n"
     ]
    }
   ],
   "source": [
    "df_risk = predicted_risk.to_frame()\n",
    "risk_cutoff = 10\n",
    "riskGroup = {\"low risk\":(df_risk[df_risk._DL_Pred_<risk_cutoff].id).reset_index(drop=True),\n",
    "             \"high risk\": df_risk[df_risk._DL_Pred_>risk_cutoff].id.reset_index(drop=True)}\n",
    "low = riskGroup[\"low risk\"]\n",
    "df_low = (df_risk.loc[df_risk[\"id\"].isin(low)])\n",
    "# employees who left the company\n",
    "df_low = df_low[df_low.left==1]\n",
    "\n",
    "high = riskGroup[\"high risk\"]\n",
    "df_high = (df_risk.loc[df_risk[\"id\"].isin(high)])\n",
    "df_high = df_high[df_high.left==1] # employees who left the company\n",
    "\n",
    "# select two employees: one from low risk group, and the other is from high risk group\n",
    "id = [df_low.id.iloc[1],df_high.id.iloc[1]] \n",
    "print(\"An employee's id from the low risk group in the test data set: {}\".format(int(id[0])))\n",
    "print(\"An employee's id from the high risk group in the test data set: {}\".format(int(id[1])))"
   ]
  },
  {
   "cell_type": "markdown",
   "metadata": {},
   "source": [
    "### 5.4 Predict when an employee is likely to quit using the predicted survival function <a id=\"predict-time\">\n",
    "We can use the predicted survival function to tell *when* an employee is likely to quit. The survival function for an employee can be obtained as follows:\n",
    "- Step 1. We score with the training data set to obtain the baseline cumulative hazards\n",
    "- Step 2. We score the employee to get the employee's risk score\n",
    "- Step 3. We combine the baseline cumulative hazard function and the risk score to compute the employee's survival function \n",
    "\n",
    "The survival function indicates the probability an employee will remain at the company at time t."
   ]
  },
  {
   "cell_type": "markdown",
   "metadata": {},
   "source": [
    "#### Helper Functions\n",
    "Before we analyze the employee data, we will define two functions: one to help compute the survival functions and one to help visualize them. "
   ]
  },
  {
   "cell_type": "markdown",
   "metadata": {},
   "source": [
    "#### Helper Function to Compute Survival Function\n",
    "The function `dl_survival_function` computes a DataFrame that has a survival function for each employee. To compute this, it needs two DataFrames as input. One DataFrame must have the baseline cumulative hazard function. We can obtain this from the CumHaz key of the CASResult object returned from the `predict` method. The other DataFrame needs individual employee information and employee risk scores. When we invoke the `predict` method, this information is stored as a CASTable in `model.valid_res_tbl`. Since the data set is small, we can cast this as a DataFrame and use it in `dl_survival_function`.\n",
    "\n",
    "\n",
    "Note that for real data, we will not have target information for \"test\" data, but we will for the data we train our model on. Therefore, we will get the baseline cumulative hazard function from the training data set, but still use the risk scores from the test data set.\n",
    "\n",
    "Note also, that we have already scored the test table and stored the results as `predicted_risk  = surv_model.valid_res_tbl`."
   ]
  },
  {
   "cell_type": "code",
   "execution_count": 29,
   "metadata": {},
   "outputs": [],
   "source": [
    "def dl_survival_function(df_baselineCumHazard, df_risk):\n",
    "    if not isinstance(df_baselineCumHazard, SASDataFrame) and not isinstance(df_risk, pd.DataFrame):\n",
    "        raise TypeError(\"inputs must be data frame!\")\n",
    "\n",
    "    # Create survival (DataFrame); calculate s (survival function) from baseline cumulative hazard.\n",
    "    survival = pd.DataFrame()\n",
    "    survival[\"Time\"] = df_baselineCumHazard[\"Time\"]\n",
    "    s = np.outer(-1*df_baselineCumHazard[\"CumHaz\"],df_risk[\"_DL_Pred_\"])\n",
    "    s = np.exp(s)\n",
    "    s = pd.DataFrame(s)             \n",
    "    survival = pd.concat([survival, s], axis=1)\n",
    "    return survival          "
   ]
  },
  {
   "cell_type": "markdown",
   "metadata": {},
   "source": [
    "#### Helper Function to Plot Survival Function\n",
    "The function `plot_survival` requires as argument, the survival DataFrame we just created, and a DataFrame with employee hazard information. The function plots survival rate as a function of time for two employees. Hazard information is used to classify the employees into high risk and low risk. Here, one employees is chosen from each risk group."
   ]
  },
  {
   "cell_type": "code",
   "execution_count": 30,
   "metadata": {},
   "outputs": [],
   "source": [
    "def plot_survival(survival, df_risk, modelName=None, id=None):\n",
    "    \n",
    "    colors=['red','blue']\n",
    "    if id is None:\n",
    "        id=[0,1]  \n",
    "        \n",
    "    eventTimes = list(df_risk[df_risk.id==id[0]].time_spend_company) + list(df_risk[df_risk.id==id[1]].time_spend_company)\n",
    "\n",
    "    print(\"Time spent in company for two employees:{} and {}\".format(int(eventTimes[0]),int(eventTimes[1])))\n",
    "    predHazard = list(df_risk[df_risk.id==id[0]]._DL_Pred_) +  list(df_risk[df_risk.id==id[1]]._DL_Pred_)\n",
    "    \n",
    "    print(\"Predicted risk score for two employees:\",predHazard)    \n",
    "    fig, ax = plt.subplots(figsize=(15, 8))\n",
    "    plt.plot(survival.Time, survival[id[0]],color=colors[0],label='low risk')\n",
    "    plt.plot(survival.Time, survival[id[1]],color=colors[1],label='high risk')\n",
    "    # Actual time\n",
    "    plt.axvline(x=eventTimes[0],  color=colors[0], ls ='--')\n",
    "    plt.axvline(x=eventTimes[1],  color=colors[1], ls ='--')\n",
    "    i=0\n",
    "    ax.annotate('T={:.1f}'.format(eventTimes[0]), xy=(eventTimes[0], 0.5*(1.+0.2*i)),\n",
    "                xytext=(eventTimes[0], 0.5*(1.+0.2*i)), fontsize=12)\n",
    "    i=1\n",
    "    ax.annotate('T={:.1f}'.format(eventTimes[1]), xy=(eventTimes[1], 0.5*(1.+0.2*i)),\n",
    "                xytext=(eventTimes[1], 0.5*(1.+0.2*i)), fontsize=12)\n",
    "\n",
    "    title = \"Comparing survival functions from {} groups\".format(\"low risk and high risk\")\n",
    "    if isinstance(modelName, str):\n",
    "        title = modelName + \": \" + title\n",
    "    plt.legend(fontsize=12)\n",
    "    plt.title(title, fontsize=15)\n",
    "    plt.ylabel(\"Survival probability\")\n",
    "    plt.xlabel(\"Time spent in the company\")    \n",
    "    plt.ylim(0, 1.05)\n",
    "    plt.show()\n",
    "    return"
   ]
  },
  {
   "cell_type": "markdown",
   "metadata": {},
   "source": [
    "#### Predicting Survival Functions for  Employees"
   ]
  },
  {
   "cell_type": "markdown",
   "metadata": {},
   "source": [
    "Step 1: Predict on the training data to obtain the baseline cumulative hazard function "
   ]
  },
  {
   "cell_type": "code",
   "execution_count": 31,
   "metadata": {},
   "outputs": [],
   "source": [
    "score_trainTbl = surv_model.predict(trainTbl)\n",
    "df_baseline_cumhazard= pd.DataFrame(score_trainTbl[\"CumHazard\"])"
   ]
  },
  {
   "cell_type": "markdown",
   "metadata": {},
   "source": [
    "Step 2: Calculate survival function from the test data set"
   ]
  },
  {
   "cell_type": "code",
   "execution_count": 32,
   "metadata": {},
   "outputs": [],
   "source": [
    "dl_survival = dl_survival_function(df_baseline_cumhazard, df_risk)"
   ]
  },
  {
   "cell_type": "markdown",
   "metadata": {},
   "source": [
    "#### Plotting Survival Functions for Employees in Different Risk Groups"
   ]
  },
  {
   "cell_type": "code",
   "execution_count": 33,
   "metadata": {},
   "outputs": [
    {
     "name": "stdout",
     "output_type": "stream",
     "text": [
      "Time spent in company for two employees:5 and 3\n",
      "Predicted risk score for two employees: [0.9387531876564026, 24.6252498626709]\n"
     ]
    },
    {
     "data": {
      "image/png": "[encoded data removed]",
      "text/plain": [
       "<Figure size 1080x576 with 1 Axes>"
      ]
     },
     "metadata": {
      "needs_background": "light"
     },
     "output_type": "display_data"
    }
   ],
   "source": [
    "plot_survival(dl_survival, df_risk, modelName=\"Deep Learning Model\",id=id)"
   ]
  },
  {
   "cell_type": "markdown",
   "metadata": {},
   "source": [
    "- As we expect, the predicted survival curve for the employee with low risk is above the one with hight risk, since the employee from the high risk group has higher hazard rate than the employee from the low risk group.\n",
    "- From the survival function of the employee from the high risk group, we can tell that the employee spent at this company more than 3 years with the probability around 0.5. And from the test data set, we knew that the employee's tenure time at the company was 3 years."
   ]
  },
  {
   "cell_type": "markdown",
   "metadata": {},
   "source": [
    "### 5.5 Identify and Understand Risk Factors that Contribute to Employee Attrition <a id=\"predict-risk\">\n",
    "In this section, we will find how an employee's satisfaction_level impacts his or her time spent at the company. Here, we prepare an input data set with 3 observations with the satisfaction level at 0.3, 0.5, and 0.7. Then we will see how the predicted survival function depends on the  satisfaction level."
   ]
  },
  {
   "cell_type": "markdown",
   "metadata": {},
   "source": [
    "#### Prepare An Input Data to Predict Survival Probability Curves"
   ]
  },
  {
   "cell_type": "code",
   "execution_count": 34,
   "metadata": {},
   "outputs": [
    {
     "data": {
      "text/html": [
       "<div class=\"cas-results-key\"><b>&#167; InputCasTables</b></div>\n",
       "<div class=\"cas-results-body\">\n",
       "<div>\n",
       "<style scoped>\n",
       "    .dataframe tbody tr th:only-of-type {\n",
       "        vertical-align: middle;\n",
       "    }\n",
       "\n",
       "    .dataframe tbody tr th {\n",
       "        vertical-align: top;\n",
       "    }\n",
       "\n",
       "    .dataframe thead th {\n",
       "        text-align: right;\n",
       "    }\n",
       "</style>\n",
       "<table border=\"1\" class=\"dataframe\">\n",
       "  <thead>\n",
       "    <tr style=\"text-align: right;\">\n",
       "      <th title=\"\"></th>\n",
       "      <th title=\"CAS Library\">casLib</th>\n",
       "      <th title=\"Name\">Name</th>\n",
       "      <th title=\"Number of Rows\">Rows</th>\n",
       "      <th title=\"Number of Columns\">Columns</th>\n",
       "      <th title=\"Table\">casTable</th>\n",
       "    </tr>\n",
       "  </thead>\n",
       "  <tbody>\n",
       "    <tr>\n",
       "      <th>0</th>\n",
       "      <td>CASUSER(user)</td>\n",
       "      <td>test</td>\n",
       "      <td>4500</td>\n",
       "      <td>12</td>\n",
       "      <td>CASTable('test', caslib='CASUSER(user)')</td>\n",
       "    </tr>\n",
       "  </tbody>\n",
       "</table>\n",
       "</div>\n",
       "</div>\n",
       "<div class=\"cas-results-key\"><hr/><b>&#167; OutputCasTables</b></div>\n",
       "<div class=\"cas-results-body\">\n",
       "<div>\n",
       "<style scoped>\n",
       "    .dataframe tbody tr th:only-of-type {\n",
       "        vertical-align: middle;\n",
       "    }\n",
       "\n",
       "    .dataframe tbody tr th {\n",
       "        vertical-align: top;\n",
       "    }\n",
       "\n",
       "    .dataframe thead th {\n",
       "        text-align: right;\n",
       "    }\n",
       "</style>\n",
       "<table border=\"1\" class=\"dataframe\">\n",
       "  <thead>\n",
       "    <tr style=\"text-align: right;\">\n",
       "      <th title=\"\"></th>\n",
       "      <th title=\"CAS Library\">casLib</th>\n",
       "      <th title=\"Name\">Name</th>\n",
       "      <th title=\"Number of Rows\">Rows</th>\n",
       "      <th title=\"Number of Columns\">Columns</th>\n",
       "      <th title=\"Number of Rows Appended\">Append</th>\n",
       "      <th title=\"Promoted\">Promoted</th>\n",
       "      <th title=\"Table\">casTable</th>\n",
       "    </tr>\n",
       "  </thead>\n",
       "  <tbody>\n",
       "    <tr>\n",
       "      <th>0</th>\n",
       "      <td>CASUSER(user)</td>\n",
       "      <td>input</td>\n",
       "      <td>3</td>\n",
       "      <td>13</td>\n",
       "      <td>NaN</td>\n",
       "      <td>N</td>\n",
       "      <td>CASTable('input', caslib='CASUSER(user)')</td>\n",
       "    </tr>\n",
       "  </tbody>\n",
       "</table>\n",
       "</div>\n",
       "</div>\n",
       "<div class=\"cas-output-area\"></div>\n",
       "<p class=\"cas-results-performance\"><small><span class=\"cas-elapsed\">elapsed 0.0393s</span> &#183; <span class=\"cas-user\">user 0.0593s</span> &#183; <span class=\"cas-sys\">sys 0.12s</span> &#183; <span class=\"cas-memory\">mem 47.8MB</span></small></p>"
      ],
      "text/plain": [
       "[InputCasTables]\n",
       "\n",
       "             casLib  Name  Rows  Columns  \\\n",
       " 0  CASUSER(user)  test  4500       12   \n",
       " \n",
       "                                      casTable  \n",
       " 0  CASTable('test', caslib='CASUSER(user)')  \n",
       "\n",
       "[OutputCasTables]\n",
       "\n",
       "             casLib   Name  Rows  Columns  Append Promoted  \\\n",
       " 0  CASUSER(user)  input     3       13     NaN        N   \n",
       " \n",
       "                                       casTable  \n",
       " 0  CASTable('input', caslib='CASUSER(user)')  \n",
       "\n",
       "+ Elapsed: 0.0393s, user: 0.0593s, sys: 0.12s, mem: 47.8mb"
      ]
     },
     "execution_count": 34,
     "metadata": {},
     "output_type": "execute_result"
    }
   ],
   "source": [
    "inputTbl = s.CASTable(\"input\", replace=True)\n",
    "employee_id = df_high.id.iloc[1]\n",
    "s.runCode(code=\"\"\"data {0};\n",
    "                   set {1};\n",
    "                   array level(3)  _temporary_ (0.3 0.5 0.7) ;                    \n",
    "                   if id={2} then do;\n",
    "                        do i=1 to 3;\n",
    "                            satisfaction_level = level[i];\n",
    "                            output;\n",
    "                        end;\n",
    "                    end;\n",
    "                   run ;\n",
    "                   \"\"\".format(inputTbl.name, testTbl.name, employee_id))"
   ]
  },
  {
   "cell_type": "markdown",
   "metadata": {},
   "source": [
    "#### View Input Data"
   ]
  },
  {
   "cell_type": "code",
   "execution_count": 35,
   "metadata": {},
   "outputs": [
    {
     "data": {
      "text/html": [
       "<div>\n",
       "<style scoped>\n",
       "    .dataframe tbody tr th:only-of-type {\n",
       "        vertical-align: middle;\n",
       "    }\n",
       "\n",
       "    .dataframe tbody tr th {\n",
       "        vertical-align: top;\n",
       "    }\n",
       "\n",
       "    .dataframe thead th {\n",
       "        text-align: right;\n",
       "    }\n",
       "</style>\n",
       "<table border=\"1\" class=\"dataframe\"><caption>Selected Rows from Table INPUT</caption>\n",
       "  <thead>\n",
       "    <tr style=\"text-align: right;\">\n",
       "      <th title=\"\"></th>\n",
       "      <th title=\"satisfaction_level\">satisfaction_level</th>\n",
       "      <th title=\"last_evaluation\">last_evaluation</th>\n",
       "      <th title=\"number_projects\">number_projects</th>\n",
       "      <th title=\"average_montly_hours\">average_montly_hours</th>\n",
       "      <th title=\"time_spend_company\">time_spend_company</th>\n",
       "      <th title=\"work_accident\">work_accident</th>\n",
       "      <th title=\"left\">left</th>\n",
       "      <th title=\"promotion_last_5years\">promotion_last_5years</th>\n",
       "      <th title=\"department\">department</th>\n",
       "      <th title=\"salary\">salary</th>\n",
       "      <th title=\"y\">y</th>\n",
       "      <th title=\"id\">id</th>\n",
       "      <th title=\"i\">i</th>\n",
       "    </tr>\n",
       "  </thead>\n",
       "  <tbody>\n",
       "    <tr>\n",
       "      <th>0</th>\n",
       "      <td>0.3</td>\n",
       "      <td>0.55</td>\n",
       "      <td>2.0</td>\n",
       "      <td>145.0</td>\n",
       "      <td>3.0</td>\n",
       "      <td>0.0</td>\n",
       "      <td>1.0</td>\n",
       "      <td>0.0</td>\n",
       "      <td>technical</td>\n",
       "      <td>low</td>\n",
       "      <td>3.0</td>\n",
       "      <td>3.0</td>\n",
       "      <td>1.0</td>\n",
       "    </tr>\n",
       "    <tr>\n",
       "      <th>1</th>\n",
       "      <td>0.5</td>\n",
       "      <td>0.55</td>\n",
       "      <td>2.0</td>\n",
       "      <td>145.0</td>\n",
       "      <td>3.0</td>\n",
       "      <td>0.0</td>\n",
       "      <td>1.0</td>\n",
       "      <td>0.0</td>\n",
       "      <td>technical</td>\n",
       "      <td>low</td>\n",
       "      <td>3.0</td>\n",
       "      <td>3.0</td>\n",
       "      <td>2.0</td>\n",
       "    </tr>\n",
       "    <tr>\n",
       "      <th>2</th>\n",
       "      <td>0.7</td>\n",
       "      <td>0.55</td>\n",
       "      <td>2.0</td>\n",
       "      <td>145.0</td>\n",
       "      <td>3.0</td>\n",
       "      <td>0.0</td>\n",
       "      <td>1.0</td>\n",
       "      <td>0.0</td>\n",
       "      <td>technical</td>\n",
       "      <td>low</td>\n",
       "      <td>3.0</td>\n",
       "      <td>3.0</td>\n",
       "      <td>3.0</td>\n",
       "    </tr>\n",
       "  </tbody>\n",
       "</table>\n",
       "</div>"
      ],
      "text/plain": [
       "Selected Rows from Table INPUT\n",
       "\n",
       "   satisfaction_level  last_evaluation  number_projects  average_montly_hours  \\\n",
       "0                 0.3             0.55              2.0                 145.0   \n",
       "1                 0.5             0.55              2.0                 145.0   \n",
       "2                 0.7             0.55              2.0                 145.0   \n",
       "\n",
       "   time_spend_company  work_accident  left  promotion_last_5years department  \\\n",
       "0                 3.0            0.0   1.0                    0.0  technical   \n",
       "1                 3.0            0.0   1.0                    0.0  technical   \n",
       "2                 3.0            0.0   1.0                    0.0  technical   \n",
       "\n",
       "  salary    y   id    i  \n",
       "0    low  3.0  3.0  1.0  \n",
       "1    low  3.0  3.0  2.0  \n",
       "2    low  3.0  3.0  3.0  "
      ]
     },
     "execution_count": 35,
     "metadata": {},
     "output_type": "execute_result"
    }
   ],
   "source": [
    "inputTbl.head()"
   ]
  },
  {
   "cell_type": "markdown",
   "metadata": {},
   "source": [
    "#### Predict Survival Rates"
   ]
  },
  {
   "cell_type": "markdown",
   "metadata": {},
   "source": [
    "Step 1: Obtain cumulative hazard estimates from the training data."
   ]
  },
  {
   "cell_type": "code",
   "execution_count": 36,
   "metadata": {},
   "outputs": [],
   "source": [
    "score_trainTbl = surv_model.predict(trainTbl)\n",
    "df_baseline_cumhazard= pd.DataFrame(score_trainTbl[\"CumHazard\"])"
   ]
  },
  {
   "cell_type": "markdown",
   "metadata": {},
   "source": [
    "Step 2: Predict risk scores for each observation in the input table."
   ]
  },
  {
   "cell_type": "code",
   "execution_count": 37,
   "metadata": {},
   "outputs": [
    {
     "name": "stdout",
     "output_type": "stream",
     "text": [
      "NOTE: Due to data distribution, miniBatchSize has been limited to 3.\n",
      "\n",
      " Predicted risk scores:\n"
     ]
    },
    {
     "data": {
      "text/html": [
       "<div>\n",
       "<style scoped>\n",
       "    .dataframe tbody tr th:only-of-type {\n",
       "        vertical-align: middle;\n",
       "    }\n",
       "\n",
       "    .dataframe tbody tr th {\n",
       "        vertical-align: top;\n",
       "    }\n",
       "\n",
       "    .dataframe thead th {\n",
       "        text-align: right;\n",
       "    }\n",
       "</style>\n",
       "<table border=\"1\" class=\"dataframe\"><caption>Selected Rows from Table VALID_RES_3XYZQR</caption>\n",
       "  <thead>\n",
       "    <tr style=\"text-align: right;\">\n",
       "      <th title=\"\"></th>\n",
       "      <th title=\"satisfaction_level\">satisfaction_level</th>\n",
       "      <th title=\"last_evaluation\">last_evaluation</th>\n",
       "      <th title=\"number_projects\">number_projects</th>\n",
       "      <th title=\"average_montly_hours\">average_montly_hours</th>\n",
       "      <th title=\"time_spend_company\">time_spend_company</th>\n",
       "      <th title=\"work_accident\">work_accident</th>\n",
       "      <th title=\"left\">left</th>\n",
       "      <th title=\"promotion_last_5years\">promotion_last_5years</th>\n",
       "      <th title=\"department\">department</th>\n",
       "      <th title=\"salary\">salary</th>\n",
       "      <th title=\"y\">y</th>\n",
       "      <th title=\"id\">id</th>\n",
       "      <th title=\"i\">i</th>\n",
       "      <th title=\"_DL_Pred_\">_DL_Pred_</th>\n",
       "    </tr>\n",
       "  </thead>\n",
       "  <tbody>\n",
       "    <tr>\n",
       "      <th>0</th>\n",
       "      <td>0.3</td>\n",
       "      <td>0.55</td>\n",
       "      <td>2.0</td>\n",
       "      <td>145.0</td>\n",
       "      <td>3.0</td>\n",
       "      <td>0.0</td>\n",
       "      <td>1.0</td>\n",
       "      <td>0.0</td>\n",
       "      <td>technical</td>\n",
       "      <td>low</td>\n",
       "      <td>3.0</td>\n",
       "      <td>3.0</td>\n",
       "      <td>1.0</td>\n",
       "      <td>35.129936</td>\n",
       "    </tr>\n",
       "    <tr>\n",
       "      <th>1</th>\n",
       "      <td>0.5</td>\n",
       "      <td>0.55</td>\n",
       "      <td>2.0</td>\n",
       "      <td>145.0</td>\n",
       "      <td>3.0</td>\n",
       "      <td>0.0</td>\n",
       "      <td>1.0</td>\n",
       "      <td>0.0</td>\n",
       "      <td>technical</td>\n",
       "      <td>low</td>\n",
       "      <td>3.0</td>\n",
       "      <td>3.0</td>\n",
       "      <td>2.0</td>\n",
       "      <td>22.501654</td>\n",
       "    </tr>\n",
       "    <tr>\n",
       "      <th>2</th>\n",
       "      <td>0.7</td>\n",
       "      <td>0.55</td>\n",
       "      <td>2.0</td>\n",
       "      <td>145.0</td>\n",
       "      <td>3.0</td>\n",
       "      <td>0.0</td>\n",
       "      <td>1.0</td>\n",
       "      <td>0.0</td>\n",
       "      <td>technical</td>\n",
       "      <td>low</td>\n",
       "      <td>3.0</td>\n",
       "      <td>3.0</td>\n",
       "      <td>3.0</td>\n",
       "      <td>9.322303</td>\n",
       "    </tr>\n",
       "  </tbody>\n",
       "</table>\n",
       "</div>"
      ],
      "text/plain": [
       "Selected Rows from Table VALID_RES_3XYZQR\n",
       "\n",
       "   satisfaction_level  last_evaluation  number_projects  average_montly_hours  \\\n",
       "0                 0.3             0.55              2.0                 145.0   \n",
       "1                 0.5             0.55              2.0                 145.0   \n",
       "2                 0.7             0.55              2.0                 145.0   \n",
       "\n",
       "   time_spend_company  work_accident  left  promotion_last_5years department  \\\n",
       "0                 3.0            0.0   1.0                    0.0  technical   \n",
       "1                 3.0            0.0   1.0                    0.0  technical   \n",
       "2                 3.0            0.0   1.0                    0.0  technical   \n",
       "\n",
       "  salary    y   id    i  _DL_Pred_  \n",
       "0    low  3.0  3.0  1.0  35.129936  \n",
       "1    low  3.0  3.0  2.0  22.501654  \n",
       "2    low  3.0  3.0  3.0   9.322303  "
      ]
     },
     "execution_count": 37,
     "metadata": {},
     "output_type": "execute_result"
    }
   ],
   "source": [
    "surv_model.predict(inputTbl)\n",
    "predicted_risk  = surv_model.valid_res_tbl\n",
    "df_risk = predicted_risk.to_frame()\n",
    "print(\"\\n Predicted risk scores:\")\n",
    "df_risk.head()"
   ]
  },
  {
   "cell_type": "markdown",
   "metadata": {},
   "source": [
    "Step 2: Combine the baseline cumulative hazard function and risk scores to compute survival function."
   ]
  },
  {
   "cell_type": "code",
   "execution_count": 38,
   "metadata": {},
   "outputs": [],
   "source": [
    "dl_survival = dl_survival_function(df_baseline_cumhazard,df_risk)"
   ]
  },
  {
   "cell_type": "markdown",
   "metadata": {},
   "source": [
    "#### Plot predicted survival function on various satisfaction levels"
   ]
  },
  {
   "cell_type": "code",
   "execution_count": 39,
   "metadata": {},
   "outputs": [
    {
     "data": {
      "image/png": "[encoded data removed]",
      "text/plain": [
       "<Figure size 1080x576 with 1 Axes>"
      ]
     },
     "metadata": {
      "needs_background": "light"
     },
     "output_type": "display_data"
    }
   ],
   "source": [
    "fig, ax = plt.subplots(figsize=(15, 8))\n",
    "ax.plot(dl_survival.iloc[:,0], dl_survival.iloc[:,1],label='satisfaction level:0.3')\n",
    "ax.plot(dl_survival.iloc[:,0], dl_survival.iloc[:,2],label='satisfaction level:0.5')\n",
    "ax.plot(dl_survival.iloc[:,0], dl_survival.iloc[:,3],label='satisfaction level:0.7')\n",
    "legend = ax.legend(shadow=True, fontsize='x-large')\n",
    "plt.show()"
   ]
  },
  {
   "cell_type": "markdown",
   "metadata": {},
   "source": [
    "* The survival functions  for various satisfaction levels in the plot show that the employee's satisfaction level has positive relationship with the employee' tenure time in this company."
   ]
  },
  {
   "cell_type": "markdown",
   "metadata": {},
   "source": [
    "### 6. Summary <a name=\"summary\"></a> "
   ]
  },
  {
   "cell_type": "markdown",
   "metadata": {},
   "source": [
    "Survival analysis provides a valid and powerful way to analyze survival data with censoring. In the employee attrition analysis, the deep survival model can automatically learn a complex and nonlinear function to predict an employee's turnover risk, and perform better than the popular Cox proportional hazards model."
   ]
  },
  {
   "cell_type": "markdown",
   "metadata": {},
   "source": [
    "### Reference"
   ]
  },
  {
   "cell_type": "markdown",
   "metadata": {},
   "source": [
    "* [DeepSurv: personalized treatment recommender system using a Cox proportional hazards deep neural network](https://bmcmedresmethodol.biomedcentral.com/articles/10.1186/s12874-018-0482-1)\n",
    "* [PySurvival package for survival anlayis](https://square.github.io/pysurvival/index.html)\n",
    "* [Employee Attrition Data Set from PySurvival](https://github.com/square/pysurvival/blob/master/pysurvival/datasets/employee_attrition.csv)\n",
    "* [Knowing when your employees will quit](https://square.github.io/pysurvival/tutorials/employee_retention.html)\n",
    "* [DeepHit: A Deep Learning Approach to Survival Analysis with Competing Risks](http://medianetlab.ee.ucla.edu/papers/AAAI_2018_DeepHit)\n",
    "* [Cox Proportional Hazards Model](https://www.jstor.org/stable/pdf/2985181.pdf)\n",
    "* [The PHREG Procedure from SAS](https://support.sas.com/documentation/onlinedoc/stat/141/phreg.pdf)\n",
    "* [Telecoms Churn - Predicting Customer Turnover](https://rpubs.com/dmorgan26/telecomschurn)"
   ]
  },
  {
   "cell_type": "markdown",
   "metadata": {},
   "source": [
    "### Close the Session to Free Resources"
   ]
  },
  {
   "cell_type": "code",
   "execution_count": 40,
   "metadata": {},
   "outputs": [],
   "source": [
    "s.endsession()"
   ]
  }
 ],
 "metadata": {
  "kernelspec": {
   "display_name": "Python 3",
   "language": "python",
   "name": "python3"
  },
  "language_info": {
   "codemirror_mode": {
    "name": "ipython",
    "version": 3
   },
   "file_extension": ".py",
   "mimetype": "text/x-python",
   "name": "python",
   "nbconvert_exporter": "python",
   "pygments_lexer": "ipython3",
   "version": "3.7.6"
  }
 },
 "nbformat": 4,
 "nbformat_minor": 4
}
